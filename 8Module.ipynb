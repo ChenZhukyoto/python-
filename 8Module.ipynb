{
 "cells": [
  {
   "cell_type": "markdown",
   "metadata": {},
   "source": [
    "# モジュール\n",
    "\n",
    "これまでも、random, matplotlib などのモジュールを利用してきました。モジュールに定義された関数などは、import することにより自分が書いているプログラムの中で利用することができました。自分でモジュールを定義して利用しながら、この機能について、詳しくみていきます。"
   ]
  },
  {
   "cell_type": "markdown",
   "metadata": {},
   "source": [
    "### モジュールの定義と利用\n",
    "\n",
    "これまで、プログラムを jupyter-lab の中に書いてきましたが、ファイルに書いておいて実行することができます。ファイルを作る時には、 \"factorial.py\" のように、.py という拡張子をつけておきます。例えば、次の内容のファイルを factorial.py という名前で作りましょう。jupyter-lab では File の New の TextFile で作れます。"
   ]
  },
  {
   "cell_type": "raw",
   "metadata": {},
   "source": [
    "a = 1\n",
    "def fact(n):\n",
    "    print(\"name\", __name__)\n",
    "    if(n == 1):\n",
    "        return a\n",
    "    return n*fact(n-1)\n",
    "\n",
    "fact100 = fact(100)\n",
    "print(fact(10))\n"
   ]
  },
  {
   "cell_type": "markdown",
   "metadata": {},
   "source": [
    "これで、factorial モジュールができました。\n",
    "```\n",
    "import factorial \n",
    "```\n",
    "によって fctorial を import すると、factorial.py に書かれた内容が実行されます。すなわち、a に 1 が代入され、fact 関数が定義され、fact(100) の値が計算されて、fact100 変数に代入されます。また、fact(10) の値が表示されます。それぞれのモジュールは、独自の名前空間を持っています。これらの名前は、factorial モジュールの名前空間に登録されます。そして、今実行している \"グローバルの名前空間\"には、import によって、factorial という名前で、このモジュールが登録されます。\n",
    "\n",
    "名前空間に登録されているものは、dir() で見ることができました。\n",
    "dir の引数にモジュールを与えると、そのモジュールの名前空間を見ることができます。\n",
    "\n",
    "**練習問題** factorial をimport し、\n",
    "グローバルの名前空間、および、factorial モジュールの名前空間に登録されている名前の一覧を得よう。fact(20) を計算しよう。"
   ]
  },
  {
   "cell_type": "code",
   "execution_count": 1,
   "metadata": {},
   "outputs": [
    {
     "name": "stdout",
     "output_type": "stream",
     "text": [
      "3628800\n",
      "['In', 'Out', '_', '__', '___', '__builtin__', '__builtins__', '__doc__', '__loader__', '__name__', '__package__', '__spec__', '_dh', '_i', '_i1', '_ih', '_ii', '_iii', '_oh', 'exit', 'factorial', 'get_ipython', 'quit']\n",
      "['__builtins__', '__cached__', '__doc__', '__file__', '__loader__', '__name__', '__package__', '__spec__', 'a', 'fact', 'fact100']\n"
     ]
    },
    {
     "data": {
      "text/plain": [
       "2432902008176640000"
      ]
     },
     "execution_count": 1,
     "metadata": {},
     "output_type": "execute_result"
    }
   ],
   "source": [
    "import factorial\n",
    "print(dir())\n",
    "print(dir(factorial))\n",
    "factorial.fact(20)"
   ]
  },
  {
   "cell_type": "markdown",
   "metadata": {},
   "source": [
    "このように、factorial モジュールには fact100 が登録されています。モジュールなどの名前空間に登録されている値は\n",
    "```\n",
    "モジュール名.名前\n",
    "```\n",
    "でアクセスします。\n",
    "`factorial.fact(10)`\n",
    "という形で factorial fact 関数は呼び出せるし、fact100 の値は、\n",
    "`factorial.fact100`\n",
    "で見ることができます。"
   ]
  },
  {
   "cell_type": "code",
   "execution_count": 3,
   "metadata": {},
   "outputs": [
    {
     "name": "stdout",
     "output_type": "stream",
     "text": [
      "93326215443944152681699238856266700490715968264381621468592963895217599993229915608941463976156518286253697920827223758251185210916864000000000000000000000000\n"
     ]
    },
    {
     "data": {
      "text/plain": [
       "3628800"
      ]
     },
     "execution_count": 3,
     "metadata": {},
     "output_type": "execute_result"
    }
   ],
   "source": [
    "print(factorial.fact100)\n",
    "factorial.fact(10)"
   ]
  },
  {
   "cell_type": "markdown",
   "metadata": {},
   "source": [
    "今は、グローバルな名前空間には factorial だけを取り込みましたが、他のモジュールの中の名前を指定してその名前だけを取り込むこともできます。\n",
    "(同じモジュールを何回も import しても、そこに書かれている内容が実行されるのは1回だけです。よって、今回は fact(10) の値は表示されません。)"
   ]
  },
  {
   "cell_type": "code",
   "execution_count": 2,
   "metadata": {},
   "outputs": [],
   "source": [
    "from factorial import fact100, fact"
   ]
  },
  {
   "cell_type": "markdown",
   "metadata": {},
   "source": [
    "こうすると、モジュール名をつけずに、fact100, fact という名前だけでアクセスができます。\n",
    "また、import する時に、名前を指定することもできます。"
   ]
  },
  {
   "cell_type": "code",
   "execution_count": 3,
   "metadata": {},
   "outputs": [
    {
     "data": {
      "text/plain": [
       "93326215443944152681699238856266700490715968264381621468592963895217599993229915608941463976156518286253697920827223758251185210916864000000000000000000000000"
      ]
     },
     "execution_count": 3,
     "metadata": {},
     "output_type": "execute_result"
    }
   ],
   "source": [
    "from factorial import fact100 as largenumber\n",
    "largenumber"
   ]
  },
  {
   "cell_type": "markdown",
   "metadata": {},
   "source": [
    "### モジュールの直接実行\n",
    "\n",
    "モジュールは、jupyter-lab などのインタープリタを介せずに、直接実行することができます。コマンドプロンプトで\n",
    "```\n",
    "python factorial.py\n",
    "```\n",
    "により実行できます。（この実行方法は OS や環境により異なります。）\n",
    "実行すると、print 文で　3628800　が表示されるはずです。この print 文は、直接実行した時だけ実行したいとしましょう。直接実行した時と、import された時と比べると、import された時のモジュールの名前空間には `__name__` という変数にはモジュール名が入っているのに対し、直接実行された時には `__main__` という文字列が入っているという違いがあります。これで、直接実行された時だけ、あることを実行するという指定ができます。次の一文を、factorial.py に入れてみましょう。\n"
   ]
  },
  {
   "cell_type": "code",
   "execution_count": 5,
   "metadata": {},
   "outputs": [
    {
     "name": "stdout",
     "output_type": "stream",
     "text": [
      "2432902008176640000\n"
     ]
    }
   ],
   "source": [
    "if (__name__ == \"__main__\"):\n",
    "    print(fact(20))\n"
   ]
  },
  {
   "cell_type": "markdown",
   "metadata": {},
   "source": [
    "他のモジュールを import するというのは、どのモジュールからでも行えます。ですから、factorial.py に相当するモジュールが、他のモジュールを input して作られていることもあります。プログラムの実行のために最初に起動されたモジュールは main モジュールといいます。上の例で、他のモジュールから import されたのか、それとも直接実行されたのかを調べるのに　__name__ 変数の値が __main__ かどうかで調べました。__name__ は、メインモジュールでは main, 他のモジュールから import された時にはそのモジュール名が代入されます。直接実行されたモジュールは main モジュールですが、jupyter-lab のトップレベルのモジュールも main モジュールもそうです。"
   ]
  },
  {
   "cell_type": "markdown",
   "metadata": {},
   "source": [
    "## パッケージ\n",
    "\n",
    "複数のモジュールがまとまって、一つの機能を提供することがあります。\n",
    "そういう時には、それらのモジュールのファイルは一つのフォルダーに置きます。\n",
    "そのフォルダーのことを、パッケージといい、プログラム中では、パッケージに属するモジュールは、\n",
    "```\n",
    "パッケージ名.モジュール名\n",
    "```\n",
    "で指定します。パッケージのフォルダには、__init__.py という名前で、そのパッケージを読み込んだ時に行う\n",
    "初期化のプログラムを書いて置きます。何もすることがなければ、空で構いません。\n"
   ]
  },
  {
   "cell_type": "markdown",
   "metadata": {},
   "source": [
    "matplotlib は次のように import していました。ここでは、matplotlib はパッケージ名で、matplotlib.pyplot がモジュール名です。ややこしいですが、matplotlib モジュールの pyplot という変数や関数を import しているのではありません。"
   ]
  },
  {
   "cell_type": "code",
   "execution_count": 10,
   "metadata": {},
   "outputs": [],
   "source": [
    "import matplotlib.pyplot as plt"
   ]
  },
  {
   "cell_type": "markdown",
   "metadata": {},
   "source": [
    "### モジュールに定義された名前\n",
    "\n",
    "今まで、jupyter-lab のトップレベルで用いる名前空間をグローバルな名前空間と呼んできましたが、上に書いたように、トップレベルも一つのモジュールです。よって、これも含めて、これからはグローバルな名前空間ではなく、モジュールの名前空間と呼ぶことにします。\n",
    "今まで変数と呼んでいたのは、main モジュールの前章までに現れていたのは main モジュールの変数ですし、a は、factorial モジュールの変数です。a には、a という名前だけではアクセスできませんが、\n",
    "```\n",
    "モジュール名.変数名\n",
    "'''\n",
    "という名前でなら、factorial を import しているモジュールからでもアクセスできます。\n",
    "今度は、factorial を短い名前 f で import しましょう。\n"
   ]
  },
  {
   "cell_type": "code",
   "execution_count": 1,
   "metadata": {},
   "outputs": [
    {
     "name": "stdout",
     "output_type": "stream",
     "text": [
      "3628800\n",
      "1\n"
     ]
    },
    {
     "data": {
      "text/plain": [
       "2"
      ]
     },
     "execution_count": 1,
     "metadata": {},
     "output_type": "execute_result"
    }
   ],
   "source": [
    "import factorial as f\n",
    "print(f.a)\n",
    "f.a = 2\n",
    "f.fact(1)"
   ]
  },
  {
   "cell_type": "markdown",
   "metadata": {},
   "source": [
    "f.a は、代入ができてしまいます。それによって、f.fact の結果も変わってきます。他のモジュールの変数の値を変えれるのは、お行儀のいいことではありませんが、モジュールの変数はこのモジュールだけしかアクセスできないといった、アクセス制限の機能がないので、できてしまいます。"
   ]
  },
  {
   "cell_type": "markdown",
   "metadata": {},
   "source": [
    "モジュールの名前空間は、辞書(dict) を用いて実現されています。つまり、それぞれのモジュールは、名前空間を実現するための辞書を持っています。\n",
    "これまでグローバルな名前空間の変数をグローバル変数と言っていましたが、グローバル変数は、モジュールの辞書にキーとして登録されている名前です。\n",
    "この名前空間には、そのモジュールで定義された関数も登録されています。"
   ]
  },
  {
   "cell_type": "markdown",
   "metadata": {},
   "source": [
    "モジュールに定義されている名前の一覧は、\n",
    "```\n",
    "dir(モジュール名)\n",
    "```\n",
    "で得ることができます。"
   ]
  },
  {
   "cell_type": "code",
   "execution_count": 4,
   "metadata": {},
   "outputs": [
    {
     "data": {
      "text/plain": [
       "['__builtins__',\n",
       " '__cached__',\n",
       " '__doc__',\n",
       " '__file__',\n",
       " '__loader__',\n",
       " '__name__',\n",
       " '__package__',\n",
       " '__spec__',\n",
       " 'a',\n",
       " 'fact',\n",
       " 'fact100']"
      ]
     },
     "execution_count": 4,
     "metadata": {},
     "output_type": "execute_result"
    }
   ],
   "source": [
    "dir(f)"
   ]
  },
  {
   "cell_type": "markdown",
   "metadata": {},
   "source": [
    "__名前__ という名前は、特殊属性と呼ばれるものであり、システム的な意味があります。\n",
    "また、その値は、help 関数で見ることができます。"
   ]
  },
  {
   "cell_type": "code",
   "execution_count": 5,
   "metadata": {},
   "outputs": [
    {
     "name": "stdout",
     "output_type": "stream",
     "text": [
      "Help on module factorial:\n",
      "\n",
      "NAME\n",
      "    factorial\n",
      "\n",
      "FUNCTIONS\n",
      "    fact(n)\n",
      "\n",
      "DATA\n",
      "    a = 2\n",
      "    fact100 = 933262154439441526...0000000000000000000\n",
      "\n",
      "FILE\n",
      "    /Users/tsuiki/Dropbox/lecture/python/factorial.py\n",
      "\n",
      "\n"
     ]
    }
   ],
   "source": [
    "help(f)"
   ]
  },
  {
   "cell_type": "markdown",
   "metadata": {},
   "source": [
    "fact などの関数も、この辞書に登録された要素です。\n",
    "関数は FUNCTIONS, 変数が DATA となっていますが、\n",
    "このように、今まで関数や変数と言ってきたものは、辞書にその名前で登録された関数やデータに\n",
    "他なりません。この、辞書による名前空間を意識すると、python が分かりやすくなります。\n",
    "\n",
    "関数の値も書き換えられます。もちろん、このようなことをするべきではありませんが、python は、こんなことが出来てしまう言語です。"
   ]
  },
  {
   "cell_type": "code",
   "execution_count": 6,
   "metadata": {},
   "outputs": [
    {
     "name": "stdout",
     "output_type": "stream",
     "text": [
      "10\n"
     ]
    },
    {
     "ename": "TypeError",
     "evalue": "'int' object is not callable",
     "output_type": "error",
     "traceback": [
      "\u001b[0;31m---------------------------------------------------------------------------\u001b[0m",
      "\u001b[0;31mTypeError\u001b[0m                                 Traceback (most recent call last)",
      "\u001b[0;32m<ipython-input-6-c186cb58ffd0>\u001b[0m in \u001b[0;36m<module>\u001b[0;34m()\u001b[0m\n\u001b[1;32m      2\u001b[0m \u001b[0mprint\u001b[0m\u001b[0;34m(\u001b[0m\u001b[0mf\u001b[0m\u001b[0;34m.\u001b[0m\u001b[0mfact\u001b[0m\u001b[0;34m(\u001b[0m\u001b[0;36m10\u001b[0m\u001b[0;34m)\u001b[0m\u001b[0;34m)\u001b[0m\u001b[0;34m\u001b[0m\u001b[0m\n\u001b[1;32m      3\u001b[0m \u001b[0mf\u001b[0m\u001b[0;34m.\u001b[0m\u001b[0mfact\u001b[0m \u001b[0;34m=\u001b[0m \u001b[0;36m1000\u001b[0m\u001b[0;34m\u001b[0m\u001b[0m\n\u001b[0;32m----> 4\u001b[0;31m \u001b[0mf\u001b[0m\u001b[0;34m.\u001b[0m\u001b[0mfact\u001b[0m\u001b[0;34m(\u001b[0m\u001b[0;36m10\u001b[0m\u001b[0;34m)\u001b[0m\u001b[0;34m\u001b[0m\u001b[0m\n\u001b[0m",
      "\u001b[0;31mTypeError\u001b[0m: 'int' object is not callable"
     ]
    }
   ],
   "source": [
    "f.fact=lambda x:x \n",
    "f.fact(10)"
   ]
  },
  {
   "cell_type": "code",
   "execution_count": 24,
   "metadata": {},
   "outputs": [
    {
     "data": {
      "text/plain": [
       "10"
      ]
     },
     "execution_count": 24,
     "metadata": {},
     "output_type": "execute_result"
    }
   ],
   "source": [
    "import random\n",
    "random.randrange = lambda x:x\n",
    "random.choice(10)"
   ]
  },
  {
   "cell_type": "markdown",
   "metadata": {},
   "source": [
    "# NumPy\n",
    "\n",
    "NumPy は、数値計算を効率よく行うためのライブラリです。Python 本体とは別に開発されたものですが、anaconda を用いて Python をインストールすると、最初からこのモジュールは入っています。（もし入っていなければ、pip でインストールします。）\n",
    "\n",
    "NumPy の最大の特徴は、多次元配列の型をもっており、効率的に行列演算などが行えることです。1 次元の配列は、リストとよく似ています。また、説明を省略しましたが Python 自身が array という型をもっています。それらと混同しないようにしてください。\n",
    "\n",
    "numpy は、np という名前でインポートするのが普通です。"
   ]
  },
  {
   "cell_type": "markdown",
   "metadata": {},
   "source": [
    "### 配列\n",
    "\n",
    "NumPy では、高次元の配列も使うことができます。\n",
    "1次元配列はベクトル、2次元配列は行列を表現するのに用いられます。一般に配列は、数学でテンソルと呼ばれるものを表現しています。\n",
    "\n",
    "配列は、内容のリストを引数として作ります。"
   ]
  },
  {
   "cell_type": "code",
   "execution_count": 17,
   "metadata": {},
   "outputs": [
    {
     "ename": "NameError",
     "evalue": "name 'np' is not defined",
     "output_type": "error",
     "traceback": [
      "\u001b[0;31m---------------------------------------------------------------------------\u001b[0m",
      "\u001b[0;31mNameError\u001b[0m                                 Traceback (most recent call last)",
      "\u001b[0;32m<ipython-input-17-cf7d2aa8e97e>\u001b[0m in \u001b[0;36m<module>\u001b[0;34m()\u001b[0m\n\u001b[0;32m----> 1\u001b[0;31m \u001b[0ma\u001b[0m \u001b[0;34m=\u001b[0m \u001b[0mnp\u001b[0m\u001b[0;34m.\u001b[0m\u001b[0marray\u001b[0m\u001b[0;34m(\u001b[0m\u001b[0;34m[\u001b[0m\u001b[0;36m1\u001b[0m\u001b[0;34m,\u001b[0m\u001b[0;36m2\u001b[0m\u001b[0;34m,\u001b[0m\u001b[0;36m3\u001b[0m\u001b[0;34m]\u001b[0m\u001b[0;34m)\u001b[0m\u001b[0;34m\u001b[0m\u001b[0m\n\u001b[0m\u001b[1;32m      2\u001b[0m \u001b[0ma\u001b[0m\u001b[0;34m\u001b[0m\u001b[0m\n",
      "\u001b[0;31mNameError\u001b[0m: name 'np' is not defined"
     ]
    }
   ],
   "source": [
    "a = np.array([1,2,3])\n",
    "a"
   ]
  },
  {
   "cell_type": "markdown",
   "metadata": {},
   "source": [
    "2次元以上の配列も、リストのリストを引数として与えれば、同様に作れます。\n"
   ]
  },
  {
   "cell_type": "code",
   "execution_count": 11,
   "metadata": {},
   "outputs": [],
   "source": [
    "b = np.array([[1,2,3],[4,5,6]])"
   ]
  },
  {
   "cell_type": "code",
   "execution_count": 12,
   "metadata": {},
   "outputs": [
    {
     "data": {
      "text/plain": [
       "array([[1, 2, 3],\n",
       "       [4, 5, 6]])"
      ]
     },
     "execution_count": 12,
     "metadata": {},
     "output_type": "execute_result"
    }
   ],
   "source": [
    "b"
   ]
  },
  {
   "cell_type": "markdown",
   "metadata": {},
   "source": [
    "次のような作り方もできます。"
   ]
  },
  {
   "cell_type": "markdown",
   "metadata": {},
   "source": [
    "配列の中身は、int, float, char, complex など、どんな型でもとれます。配列の中身は全て同じ型です。初期値として int と float が与えられたら float にそろえられます。\n",
    "numpy行列の中身の表記では、2.0 の 0 は省略されます。"
   ]
  },
  {
   "cell_type": "code",
   "execution_count": 13,
   "metadata": {},
   "outputs": [
    {
     "data": {
      "text/plain": [
       "array([1.5, 2. , 3. ])"
      ]
     },
     "execution_count": 13,
     "metadata": {},
     "output_type": "execute_result"
    }
   ],
   "source": [
    "c = np.array([1.5, 2, 3])\n",
    "c       "
   ]
  },
  {
   "cell_type": "markdown",
   "metadata": {},
   "source": [
    "次のような作り方もできます。dtype については後でふれます。\n",
    "より詳しくは、下の np.zeros セルの np.zeros などの後ろで shift+tab を押して doc-string を出してみてください。"
   ]
  },
  {
   "cell_type": "code",
   "execution_count": 14,
   "metadata": {},
   "outputs": [
    {
     "name": "stdout",
     "output_type": "stream",
     "text": [
      "[0. 0. 0. 0.]\n",
      "[1 1 1]\n",
      "[[ 0  1  2  3]\n",
      " [ 4  5  6  7]\n",
      " [ 8  9 10 11]]\n"
     ]
    }
   ],
   "source": [
    "d = np.zeros(4)\n",
    "e = np.ones(3,dtype=int)\n",
    "f = np.reshape(range(12),(3,4))\n",
    "print(d)\n",
    "print(e)\n",
    "print(f)"
   ]
  },
  {
   "cell_type": "markdown",
   "metadata": {},
   "source": [
    "行列などのオブジェクトは、属性を持つことができます（後述）。\n",
    "行列は、型およびサイズを dtype, shape 属性としてもっています。\n",
    "属性の値は、\n",
    "```\n",
    "オブジェクト.属性名\n",
    "```\n",
    "でアクセスできます。"
   ]
  },
  {
   "cell_type": "code",
   "execution_count": 15,
   "metadata": {},
   "outputs": [
    {
     "data": {
      "text/plain": [
       "((3,), (2, 3), (3,))"
      ]
     },
     "execution_count": 15,
     "metadata": {},
     "output_type": "execute_result"
    }
   ],
   "source": [
    "(a.shape, b.shape, c.shape)"
   ]
  },
  {
   "cell_type": "code",
   "execution_count": 16,
   "metadata": {},
   "outputs": [
    {
     "data": {
      "text/plain": [
       "(dtype('int64'), dtype('int64'), dtype('float64'))"
      ]
     },
     "execution_count": 16,
     "metadata": {},
     "output_type": "execute_result"
    }
   ],
   "source": [
    "(a.dtype, b.dtype, c.dtype)"
   ]
  },
  {
   "cell_type": "markdown",
   "metadata": {},
   "source": [
    "int でなくて int64 となっていますが、NumPy ライブラリは C 言語で実現されており、C 言語でのデータの型が分かるようになっています。"
   ]
  },
  {
   "cell_type": "markdown",
   "metadata": {},
   "source": [
    "### 配列の演算\n",
    "\n",
    "リストと違って、NumPy の配列は、容易に行列演算ができます。\n",
    "通常の +, * は、要素ごとの演算になります。片方の次元が低ければ、同じ要素をコピーして次元を合わせて行います。"
   ]
  },
  {
   "cell_type": "code",
   "execution_count": 17,
   "metadata": {},
   "outputs": [
    {
     "name": "stdout",
     "output_type": "stream",
     "text": [
      "[5 7 9]\n",
      "[ 4 10 18]\n"
     ]
    }
   ],
   "source": [
    "a = np.array([1,2,3])\n",
    "b = np.array([4,5,6])\n",
    "c = 2\n",
    "print(a + b)\n",
    "print(a * b)"
   ]
  },
  {
   "cell_type": "code",
   "execution_count": 18,
   "metadata": {},
   "outputs": [
    {
     "name": "stdout",
     "output_type": "stream",
     "text": [
      "[3 4 5]\n",
      "[2 4 6]\n"
     ]
    }
   ],
   "source": [
    "print(a + c)\n",
    "print(a * c)"
   ]
  },
  {
   "cell_type": "code",
   "execution_count": 19,
   "metadata": {},
   "outputs": [
    {
     "name": "stdout",
     "output_type": "stream",
     "text": [
      "[[ 2  2  3]\n",
      " [ 4  7  6]\n",
      " [ 7  8 12]]\n",
      "[[3 3 3]\n",
      " [6 6 6]\n",
      " [9 9 9]]\n",
      "[[ 3  4  5]\n",
      " [ 6  7  8]\n",
      " [ 9 10 11]]\n"
     ]
    }
   ],
   "source": [
    "d = np.array([[1,2,3],[4,5,6],[7,8,9]])\n",
    "e = np.array([[1,0,0],[0,2,0],[0,0,3]])\n",
    "print(d + e)   # 要素ごと\n",
    "print(d + [2,1,0]) # 各行に。[2,1,0] は np.array に自動変換\n",
    "print(d + 2)  # 全要素に\n",
    "# 掛け算も同様。"
   ]
  },
  {
   "cell_type": "markdown",
   "metadata": {},
   "source": [
    "2次元行列の積は、@ または np.dot により行います。"
   ]
  },
  {
   "cell_type": "code",
   "execution_count": 21,
   "metadata": {},
   "outputs": [
    {
     "name": "stdout",
     "output_type": "stream",
     "text": [
      "[[ 1  4  9]\n",
      " [ 4 10 18]\n",
      " [ 7 16 27]]\n",
      "[[ 1  2  3]\n",
      " [ 8 10 12]\n",
      " [21 24 27]]\n",
      "[[ 1  4  9]\n",
      " [ 2  6 12]]\n"
     ]
    }
   ],
   "source": [
    "print(d@e)\n",
    "print(np.dot(e,d))"
   ]
  },
  {
   "cell_type": "markdown",
   "metadata": {},
   "source": [
    "(n, m)行列と (m, k)行列の積は (n,k)行列になります。"
   ]
  },
  {
   "cell_type": "code",
   "execution_count": 75,
   "metadata": {},
   "outputs": [
    {
     "name": "stdout",
     "output_type": "stream",
     "text": [
      "[[1 0 0]\n",
      " [0 4 0]]\n"
     ]
    },
    {
     "ename": "ValueError",
     "evalue": "shapes (3,3) and (2,3) not aligned: 3 (dim 1) != 2 (dim 0)",
     "output_type": "error",
     "traceback": [
      "\u001b[0;31m---------------------------------------------------------------------------\u001b[0m",
      "\u001b[0;31mValueError\u001b[0m                                Traceback (most recent call last)",
      "\u001b[0;32m<ipython-input-75-7b8fc987f018>\u001b[0m in \u001b[0;36m<module>\u001b[0;34m()\u001b[0m\n\u001b[1;32m      1\u001b[0m \u001b[0mf\u001b[0m \u001b[0;34m=\u001b[0m \u001b[0mnp\u001b[0m\u001b[0;34m.\u001b[0m\u001b[0marray\u001b[0m\u001b[0;34m(\u001b[0m\u001b[0;34m[\u001b[0m\u001b[0;34m[\u001b[0m\u001b[0;36m1\u001b[0m\u001b[0;34m,\u001b[0m\u001b[0;36m0\u001b[0m\u001b[0;34m,\u001b[0m\u001b[0;36m0\u001b[0m\u001b[0;34m]\u001b[0m\u001b[0;34m,\u001b[0m\u001b[0;34m[\u001b[0m\u001b[0;36m0\u001b[0m\u001b[0;34m,\u001b[0m\u001b[0;36m2\u001b[0m\u001b[0;34m,\u001b[0m\u001b[0;36m0\u001b[0m\u001b[0;34m]\u001b[0m\u001b[0;34m]\u001b[0m\u001b[0;34m)\u001b[0m\u001b[0;34m\u001b[0m\u001b[0m\n\u001b[1;32m      2\u001b[0m \u001b[0mprint\u001b[0m\u001b[0;34m(\u001b[0m\u001b[0mnp\u001b[0m\u001b[0;34m.\u001b[0m\u001b[0mdot\u001b[0m\u001b[0;34m(\u001b[0m\u001b[0mf\u001b[0m\u001b[0;34m,\u001b[0m\u001b[0me\u001b[0m\u001b[0;34m)\u001b[0m\u001b[0;34m)\u001b[0m\u001b[0;34m\u001b[0m\u001b[0m\n\u001b[0;32m----> 3\u001b[0;31m \u001b[0mprint\u001b[0m\u001b[0;34m(\u001b[0m\u001b[0mnp\u001b[0m\u001b[0;34m.\u001b[0m\u001b[0mdot\u001b[0m\u001b[0;34m(\u001b[0m\u001b[0me\u001b[0m\u001b[0;34m,\u001b[0m\u001b[0mf\u001b[0m\u001b[0;34m)\u001b[0m\u001b[0;34m)\u001b[0m\u001b[0;34m\u001b[0m\u001b[0m\n\u001b[0m",
      "\u001b[0;31mValueError\u001b[0m: shapes (3,3) and (2,3) not aligned: 3 (dim 1) != 2 (dim 0)"
     ]
    }
   ],
   "source": [
    "f = np.array([[1,0,0],[0,2,0]])\n",
    "\n",
    "print(np.dot(f,e))\n",
    "# print(np.dot(e,f)) これはエラーとなる"
   ]
  },
  {
   "cell_type": "markdown",
   "metadata": {},
   "source": [
    "ベクトルの場合には、@  や np.dot は内積になります。"
   ]
  },
  {
   "cell_type": "code",
   "execution_count": 78,
   "metadata": {},
   "outputs": [
    {
     "name": "stdout",
     "output_type": "stream",
     "text": [
      "32\n"
     ]
    },
    {
     "data": {
      "text/plain": [
       "32"
      ]
     },
     "execution_count": 78,
     "metadata": {},
     "output_type": "execute_result"
    }
   ],
   "source": [
    "print(np.dot([1,2,3],[4,5,6]))\n",
    "np.array([1,2,3])@np.array([4,5,6])"
   ]
  },
  {
   "cell_type": "markdown",
   "metadata": {},
   "source": [
    "### 行列の中身、部分行列、行や列の追加、削除"
   ]
  },
  {
   "cell_type": "markdown",
   "metadata": {},
   "source": [
    "リストにおけるインデックスやスライスの指定方法が多次元に拡張されて、 np.array にも適用できます。(n,m) 行列の行は 0 から n-1, 列は0 から m-1 にインデックスされていることに注意してください。"
   ]
  },
  {
   "cell_type": "code",
   "execution_count": 99,
   "metadata": {},
   "outputs": [
    {
     "name": "stdout",
     "output_type": "stream",
     "text": [
      "[[ 0  1  2  3]\n",
      " [ 4  5  6  7]\n",
      " [ 8  9 10 11]]\n",
      "7\n",
      "[[ 5  6  7]\n",
      " [ 9 10 11]]\n"
     ]
    }
   ],
   "source": [
    "a = np.reshape(range(12),(3,4))\n",
    "print(a)\n",
    "b = a[1,3] #a[1][3] でも同じ意味になる\n",
    "c = a[1:3,1:4] #a[1:3][1:4] だと、(a[1:3])[1:4] の意味になる。\n",
    "print(b)\n",
    "print(c)"
   ]
  },
  {
   "cell_type": "markdown",
   "metadata": {},
   "source": [
    "行と列の片方だけスライス、片方だけインデックスを指定すると、行や列を取り出せます。"
   ]
  },
  {
   "cell_type": "code",
   "execution_count": 103,
   "metadata": {},
   "outputs": [
    {
     "name": "stdout",
     "output_type": "stream",
     "text": [
      "[4 5 6 7]\n",
      "[ 2  6 10]\n"
     ]
    }
   ],
   "source": [
    "print(a[1,:]) # :　は、全体というスライスになるのでした。\n",
    "print(a[:,2])"
   ]
  },
  {
   "cell_type": "markdown",
   "metadata": {},
   "source": [
    "列や行の削除"
   ]
  },
  {
   "cell_type": "code",
   "execution_count": 111,
   "metadata": {},
   "outputs": [
    {
     "name": "stdout",
     "output_type": "stream",
     "text": [
      "[[ 0  1  2  3]\n",
      " [ 4  5  6  7]\n",
      " [ 8  9 10 11]]\n",
      "[[ 0  1  2  3]\n",
      " [ 8  9 10 11]]\n",
      "[[ 0  1  3]\n",
      " [ 4  5  7]\n",
      " [ 8  9 11]]\n"
     ]
    }
   ],
   "source": [
    "print(a)\n",
    "print(np.delete(a,1,0)) #1 行目削除、最後の 0 は行を意味する\n",
    "print(np.delete(a,2,1)) #2 列目削除、最後の 1 は列を意味する。"
   ]
  },
  {
   "cell_type": "markdown",
   "metadata": {},
   "source": [
    "### 乱数行列などのライブラリ"
   ]
  },
  {
   "cell_type": "markdown",
   "metadata": {},
   "source": [
    "ライブラリが用意されています。np.random モジュールにライブラリが用意されています。詳しくは、np.random の doc-string, np.random.uniform の doc-string などを表示してみてください。"
   ]
  },
  {
   "cell_type": "code",
   "execution_count": 81,
   "metadata": {},
   "outputs": [
    {
     "data": {
      "text/plain": [
       "array([[0.60630891, 0.75035886, 0.58436182],\n",
       "       [0.36142015, 0.97298324, 0.19546618]])"
      ]
     },
     "execution_count": 81,
     "metadata": {},
     "output_type": "execute_result"
    }
   ],
   "source": [
    "np.random.random(size=(2,3))"
   ]
  },
  {
   "cell_type": "markdown",
   "metadata": {},
   "source": [
    "### 行列式\n",
    "\n",
    "np.linalg モジュールに、行列の行列式(det)、逆行列(inv)などの関数があります。このようなライブラリは高速に動作するし、多くの利用の中で正確さが保証されています。ここでは、プログラミングの演習として、これらの計算を行うプログラムを作成しましょう。"
   ]
  },
  {
   "cell_type": "markdown",
   "metadata": {},
   "source": [
    "**練習問題** n 次正方行列 $X=(x_{i,j})$　の行列式は、この行列により行われる一次変換が、2次元なら面積、3次元なら体積を何倍するかという値です。これが 0 なら、一次変換の像は面積が0、すなわち、次元が低くなります。\n",
    "\n",
    "$$\\sum_{\\sigma \\in \\mathrm{Aut}(n)} \\mathrm{sgn}(\\sigma)\\prod_{i=1}^n x_{i, \\sigma(i)}\n",
    "$$\n",
    "で計算できます。ここで、$\\mathrm{Aut}(n)$ は、$[0,1,..,n-1]$ の置換全体を表しました。これは、permutations という名前ですでにプログラムしました。\n",
    "$\\mathrm{sgn}$ は、置換 sgn が偶置換なら 1, 奇置換なら -1 という値です。これは、与えられた置換 $\\sigma=[a_0,...,a_{n-1}]$ が、偶数個の互換(2つの数の入れ替え) でできてるか、奇数個でできてるかということですが、$\\sigma$ を2つづつ要素を入れ替えてソートする時に、入れ替えを偶数回行うか奇数回行うかですから、ソートのプログラムに修正を加えれば求まるはずです。素直にこの式で行列式を求められそうでが、これはプログラムが面倒そうです。これは、余力がある時だけにして、次の問題を先に考えましょう。"
   ]
  },
  {
   "cell_type": "markdown",
   "metadata": {},
   "source": [
    "**練習問題** n 次正方行列 X に対し、i 行目とj 列目を除いた n-1 次正方行列に $(-1)^{i+j}$ を掛けたものの行列式を、$\\Delta_{i,j}$ と書いて、$X$ の余因子といいます。\n",
    "$X$ の行列式は、余因子を用いて、\n",
    "$$\n",
    "\\sum_{i=0}^{n-1}a_{i,j} \\Delta_{i,j}\n",
    "$$\n",
    "と等しくなります。これなら、det 関数の再帰呼び出しで素直に書けそうです。\n"
   ]
  },
  {
   "cell_type": "markdown",
   "metadata": {},
   "source": [
    "### 逆行列\n",
    "\n",
    "行列の逆行列を求める方法に、はき出し法があります。これで、逆行列を求めてみましょう。"
   ]
  },
  {
   "cell_type": "markdown",
   "metadata": {},
   "source": [
    "**練習問題** $0 \\leq a, b <n$ に対して、 $(n,n)$ 行列に左から掛けると $a$ 行目 と $b$ 行目をひっくり返した行列になる行列を返す関数 p(n, a, b) を定義しよう。"
   ]
  },
  {
   "cell_type": "markdown",
   "metadata": {},
   "source": [
    "**練習問題** $0 \\leq  a <n$ と 実数 $r$ に対して、 $(n,n)$ 行列に左から掛けると $a$ 行目 を $r$ 倍した行列になる行列を返す関数 q(n, a, r) を定義しよう。"
   ]
  },
  {
   "cell_type": "markdown",
   "metadata": {},
   "source": [
    "**練習問題** $0 \\leq  a, b <n$ と 実数 $r$ に対して、 $(n,n)$ 行列に左から掛けると $a$ 行目 を $r$ 倍したものを $b$ 行目に加えた行列ができるような行列を返す関数 r(n,a,b,r) を定義しよう。"
   ]
  },
  {
   "cell_type": "markdown",
   "metadata": {},
   "source": [
    "**練習問題** p, q, r を用いて、掃き出し法（ガウスの消去法）により、$(n,n)$ の正方行列 $X = (x_{i,j})$ の逆行列を求めるメソッド inv(x) を作成しよう。正則でなければ、None を返すようにしよう。ランダムな行列に対して逆行列を作って掛けることにより、正しさを確認しよう。また、ライブラリ関数の結果と比べてみよう。\n",
    "\n",
    "1. まず、$X$ と単位行列 $I$ を用意する。\n",
    "\n",
    "1. $X$ が単位行列になるように p, q, r で作った基本変換行列を X に左から掛ける。\n",
    "\n",
    "2. それと同時に，I にも同じ行列を左からかけていく。"
   ]
  }
 ],
 "metadata": {
  "kernelspec": {
   "display_name": "Python 3",
   "language": "python",
   "name": "python3"
  },
  "language_info": {
   "codemirror_mode": {
    "name": "ipython",
    "version": 3
   },
   "file_extension": ".py",
   "mimetype": "text/x-python",
   "name": "python",
   "nbconvert_exporter": "python",
   "pygments_lexer": "ipython3",
   "version": "3.6.4"
  }
 },
 "nbformat": 4,
 "nbformat_minor": 2
}
