{
 "cells": [
  {
   "cell_type": "markdown",
   "metadata": {},
   "source": [
    "# ユニバーサル Abacus マシン"
   ]
  },
  {
   "cell_type": "markdown",
   "metadata": {},
   "source": [
    "## 2分探索\n",
    "\n",
    "自然数上の単調関数 $f$ を計算するプログラムに対し，逆関数を求めるプログラム。2分探索で\n",
    "行う。"
   ]
  },
  {
   "cell_type": "code",
   "execution_count": 4,
   "metadata": {},
   "outputs": [
    {
     "data": {
      "text/plain": [
       "6"
      ]
     },
     "execution_count": 4,
     "metadata": {},
     "output_type": "execute_result"
    }
   ],
   "source": [
    "# 練習問題40\n",
    "\n",
    "def bsearch (p, f, b):\n",
    "    \"For monotonic f, binary search least n such that p <= f(n)  up to b\"\n",
    "    if (f(b) < p):\n",
    "        return b   # this means that no such n exists\n",
    "    return bsearchrange (p, f, 0, b)\n",
    "\n",
    "def bsearchrange (p, f, a, b):\n",
    "    if(b <= a+1):\n",
    "        return b\n",
    "    c = (a+b)//2\n",
    "    if (f(c) < p):\n",
    "        return (bsearchrange (p, f, c, b))\n",
    "    else:\n",
    "        return (bsearchrange (p, f, a, c))\n",
    "    \n",
    "bsearch (36, lambda n:n*n, 100)    \n"
   ]
  },
  {
   "cell_type": "markdown",
   "metadata": {},
   "source": [
    "## ペアのコーディング\n",
    "\n",
    "**練習問題50** ここでは，0 以上の数を自然数ということにする。自然数全体の集合$\\mathbb N$ と，そのペア全体の集合$\\mathbb N \\times \\mathbb N$ とではどちらの方が要素が多いだろうか？もちろん両方とも無限個存在するが、ペア全体に\n",
    "三角形に番号をつける，つまり (0,0), (1,0), (0,1), (2.0), (1,1), (0,2), (3.0), ... と番号をつけていくことにより，$\\mathbb N \\times \\mathbb N$ と $\\mathbb N$ は1対1対応をつけることができる(カントールの対関数)。\n",
    "この1対1対応を作る $\\mathbb N \\times \\mathbb N \\to\\mathbb N$の関数 pairnum(x, y) と，その逆関数 numpair(z)\n",
    "$\\mathbb N \\to\\mathbb N \\times\\mathbb N$ を作ろう。numpair は，タプルを返せばよい。bsearch を有効に使おう。\n",
    "\n",
    "逆になっていることを、z=1 から z=100 までnumpair して pairnum して元に戻ることを確認しよう。numpair の結果を pairnum に渡すところで、* を用いる。"
   ]
  },
  {
   "cell_type": "code",
   "execution_count": 5,
   "metadata": {},
   "outputs": [],
   "source": [
    "#練習問題50 \n",
    "import math\n",
    "def pairnum(x, y):\n",
    "    return (x + y)* (x + y + 1)//2 + y\n",
    "\n",
    "def numpair(z):\n",
    "    kk = bsearch(z, lambda i:pairnum(i, 0)-1, z+1) - 1\n",
    "\n",
    "    r = pairnum(kk, 0)\n",
    "    y = z - r\n",
    "    x = (kk) - y\n",
    "    return (x, y)\n",
    "\n",
    "\n",
    "# [pairnum(*numpair(i))==i for i in range(100)]\n"
   ]
  },
  {
   "cell_type": "markdown",
   "metadata": {},
   "source": [
    "## リストのコーディング\n",
    "\n",
    "**練習問題60** 自然数の集合$\\mathbb N$ と，自然数の有限列(すなわちリスト)全体の集合$\\mathbb N^*$ とではどちらの方が大きいだろうか？もちろん有限列全体だろうと思うかもしれない。しかし，次のようにして，\n",
    "$\\mathbb N^*$ と $\\mathbb N$ は1対1対応をつけることができる。\n",
    "$$\n",
    "\\text{listnum}(u) = \\left\\{\\begin{array}{ll} 0 & (u = []) \\\\ \\text{pairnum}(u[0], \\text{listnum}(u[1:])+1 & (それ以外)\\end{array}\\right.\n",
    "$$\n",
    "この対応とその逆対応( numlist(z) ) のプログラムを書こう。\n",
    "\n",
    "このような1対1対応が存在する2つの集合のことを，濃度が等しいという。実数全体の集合や $\\mathbb N$ の無限列全体の集合は，$\\mathbb N$ と濃度が等しくないことが知られている（その証明は，カントールの対角線論法という手法を使う）。\n"
   ]
  },
  {
   "cell_type": "code",
   "execution_count": 6,
   "metadata": {},
   "outputs": [],
   "source": [
    "# 練習問題60\n",
    "\n",
    "def listnum(u):  #u:list\n",
    "    if (u==[]):\n",
    "        return 0\n",
    "    else:\n",
    "        return pairnum(u[0], listnum(u[1:]))+ 1\n",
    "\n",
    "def numlist(n):\n",
    "    if(n == 0):\n",
    "        return []\n",
    "    else:\n",
    "        (a, b) = numpair(n - 1)\n",
    "        return([a] + numlist(b))\n",
    "\n",
    "    \n",
    "#k = listnum([1,2,3])\n",
    "#k = listnum([1,1,1,1,1,1,1,1,1,1,1,1])\n",
    "#print(k)\n",
    "#print(numlist(k))\n"
   ]
  },
  {
   "cell_type": "code",
   "execution_count": 25,
   "metadata": {},
   "outputs": [
    {
     "data": {
      "text/plain": [
       "[1, 2, 3, 4, 8]"
      ]
     },
     "execution_count": 25,
     "metadata": {},
     "output_type": "execute_result"
    }
   ],
   "source": [
    "def nth(x, k):\n",
    "    if(x == 0):\n",
    "        return 0  # 本来なら，エラー\n",
    "    (a, y) = numpair(x-1)\n",
    "    if(k == 0):\n",
    "        return a\n",
    "    else: \n",
    "        return nth(y, k-1)\n",
    "\n",
    "def replace(x, k, n):   # x[k] = n\n",
    "    if(x == 0):\n",
    "        return 0   #本来なら，エラー\n",
    "    (a, y) = numpair(x-1)\n",
    "    if(k == 0):\n",
    "        return pairnum(n, y)+ 1\n",
    "    else:\n",
    "        return pairnum(a, replace(y, k-1, n))+ 1\n",
    "\n",
    "z = listnum([1,2,3,4,5])    \n",
    "nth(z, 5)\n",
    "u = replace(z, 4, 8)     \n",
    "numlist(u)\n",
    "        \n",
    "        "
   ]
  },
  {
   "cell_type": "markdown",
   "metadata": {},
   "source": [
    "ところで、このプログラムでは、ここら辺が限界で、もっと大きなリストをエンコードしようとしても、bsearchのところでの再帰呼び出しが深くなりすぎて、エラーを生じてしまう。\n",
    "numpair に関しては、次が知られている。\n",
    "```\n",
    "# (wikipedia 「対関数」参照)\n",
    "import math\n",
    "def numpair(z):\n",
    "    w = (int)((math.sqrt(8*z+1)-1)//2)\n",
    "    t = (w*w+w)//2\n",
    "    y = z-t\n",
    "    x = w-y\n",
    "    return(x,y)\n",
    "```\n",
    "これで行えば2分探索の必要はなくなるが、今度は、math.sqrt が, 浮動小数点で扱えるより大きな引数が与えられてエラーをいう。(その前に、大きな数を浮動小数点にした時に誤差が生じる。）それを防ぐには、整数範囲内でのルート計算を行わないといけない。それは、ニュートン法でできる。\n",
    "\n"
   ]
  },
  {
   "cell_type": "markdown",
   "metadata": {},
   "source": [
    "# ユニバーサル Abacus マシン\n",
    "\n",
    "プリントを参照。プリントでは p, d として自然数を与えているが，ここでは python のリストで与えている。また，マシンコードは，リストの長さをそろえて，\n",
    "```\n",
    "[b + n]   --> [1, b, n, 0]\n",
    "[b - n, ne]  --> [2, b, n, ne]\n",
    "[end]     --> [0,0,0,0]\n",
    "```\n",
    "で表現することとする。まだ，データ d は，プログラム中に現れる箱の番号を全て含むように，十分長く 0 を後ろにつけたものを用いることにする。\n"
   ]
  },
  {
   "cell_type": "code",
   "execution_count": 30,
   "metadata": {},
   "outputs": [],
   "source": [
    "def univ(p, d):\n",
    "    pc = 0\n",
    "    while(p[pc][0] > 0):\n",
    "        op = p[pc][0]\n",
    "        box = p[pc][1]\n",
    "        next = p[pc][2]\n",
    "        if(op == 1):\n",
    "            d[box] += 1\n",
    "            pc = next\n",
    "        else:\n",
    "            enext = p[pc][3]\n",
    "            if(d[box] > 0):\n",
    "                d[box] -= 1\n",
    "                pc = next\n",
    "            else:\n",
    "                pc = enext\n",
    "    return(d[0])"
   ]
  },
  {
   "cell_type": "markdown",
   "metadata": {},
   "source": [
    "# 様々な関数の Abacus マシンでのコード"
   ]
  },
  {
   "cell_type": "markdown",
   "metadata": {},
   "source": [
    "何もしないでいきなり終了する. どの k に対しても f(x1,...,xk) = 0 を意味する。\n"
   ]
  },
  {
   "cell_type": "code",
   "execution_count": 31,
   "metadata": {},
   "outputs": [
    {
     "data": {
      "text/plain": [
       "0"
      ]
     },
     "execution_count": 31,
     "metadata": {},
     "output_type": "execute_result"
    }
   ],
   "source": [
    "m = [[0]]\n",
    "d = [0,1,6,4,3]   # 引数としては，任意のリスト。d[0] は返値，d[1,...,k] が引数\n",
    "univ(m,d)"
   ]
  },
  {
   "cell_type": "markdown",
   "metadata": {},
   "source": [
    "箱1 の内容を箱0 にコピーする。箱0は空にする。 f (x) = y を意味する。"
   ]
  },
  {
   "cell_type": "code",
   "execution_count": 33,
   "metadata": {},
   "outputs": [
    {
     "data": {
      "text/plain": [
       "5"
      ]
     },
     "execution_count": 33,
     "metadata": {},
     "output_type": "execute_result"
    }
   ],
   "source": [
    "d = [0, 5]\n",
    "m = [[2,1,1,2],\n",
    " [1,0,0],\n",
    " [0]\n",
    "]  \n",
    "univ(m, d)"
   ]
  },
  {
   "cell_type": "markdown",
   "metadata": {},
   "source": [
    "箱 0 の内容を B[1] + B[2] にする。箱 1, 2 は終了時に空になる。\n",
    "f(x, y) = x+y を意味する。\n",
    "\n",
    "![足し算](plus_machine.jpg)"
   ]
  },
  {
   "cell_type": "code",
   "execution_count": 34,
   "metadata": {},
   "outputs": [
    {
     "data": {
      "text/plain": [
       "8"
      ]
     },
     "execution_count": 34,
     "metadata": {},
     "output_type": "execute_result"
    }
   ],
   "source": [
    "d = [0, 5, 3]\n",
    "m = [[2,1,1,2],\n",
    " [1,0,0],\n",
    " [2,2,3,4],\n",
    " [1,0,2],\n",
    " [0]\n",
    "]  \n",
    "univ(m, d)"
   ]
  },
  {
   "cell_type": "markdown",
   "metadata": {},
   "source": [
    "''''"
   ]
  },
  {
   "cell_type": "markdown",
   "metadata": {},
   "source": [
    "mm : このプログラムの，コード（という数）\n",
    "dd : このデータのリストを数として表現したもの"
   ]
  },
  {
   "cell_type": "code",
   "execution_count": 41,
   "metadata": {},
   "outputs": [
    {
     "name": "stdout",
     "output_type": "stream",
     "text": [
      "[32638, 14, 26364689, 152, 1]\n",
      "1830392212574384253594576266619768224916214664365824640643\n",
      "70\n"
     ]
    }
   ],
   "source": [
    "m0 = list (map(listnum, m))\n",
    "print(m0)\n",
    "mm = listnum (m0)\n",
    "print(mm)\n",
    "dd = listnum(d)\n",
    "print(dd)"
   ]
  },
  {
   "cell_type": "code",
   "execution_count": 45,
   "metadata": {},
   "outputs": [],
   "source": [
    "def univm(p, d):  \n",
    "    ''' p, d は，リストを数で表した数が与えられる '''\n",
    "\n",
    "    pc = 0\n",
    "    while(nth(nth(p, pc), 0) > 0):\n",
    "        op = nth(nth(p, pc), 0)\n",
    "        box = nth(nth(p, pc), 1)\n",
    "        next = nth(nth(p, pc), 2)\n",
    "        if(op == 1):\n",
    "            replace(d, box, nth(d, box)+1)\n",
    "            pc = next\n",
    "        else:\n",
    "            enext = nth(nth(p, pc), 3)\n",
    "            if(nth(d,box) > 0):\n",
    "                if(nth(d, box) > 0):\n",
    "                    replace(d, box, nth(d, box) - 1)\n",
    "                pc = next\n",
    "            else:\n",
    "                pc = enext\n",
    "    return(nth(d,0))"
   ]
  },
  {
   "cell_type": "code",
   "execution_count": 46,
   "metadata": {},
   "outputs": [
    {
     "data": {
      "text/plain": [
       "8"
      ]
     },
     "execution_count": 46,
     "metadata": {},
     "output_type": "execute_result"
    }
   ],
   "source": [
    "univm(mm, dd)"
   ]
  },
  {
   "cell_type": "markdown",
   "metadata": {},
   "source": [
    "**練習問題** この下に，次のセルを作成して，引き算のプログラムに対して同様のことを行おう。\n",
    "\n",
    "1. 引き算のプログラムを，Abacus マシンで作成しよう。(つまり，マシンが停止した時\n",
    "に，B[0] の値が B[1] - B[2] となっているマシン。B[1], B[2] の値は変化していてもよい）できれば，その絵を .jpg ファイルなどにして，この notebook に取り込もう。\n",
    "\n",
    "2. それをリストでの表現になおし，listnum を用いて，コンパイルしたマシンコードとなる数を求めよう。\n",
    "\n",
    "3. 適当な引数 (上と同じ，5, 3 でもよい)　に対して univm で動作させ，結果が正しいことを確認しよう。"
   ]
  },
  {
   "cell_type": "code",
   "execution_count": null,
   "metadata": {},
   "outputs": [],
   "source": []
  }
 ],
 "metadata": {
  "kernelspec": {
   "display_name": "Python 3",
   "language": "python",
   "name": "python3"
  },
  "language_info": {
   "codemirror_mode": {
    "name": "ipython",
    "version": 3
   },
   "file_extension": ".py",
   "mimetype": "text/x-python",
   "name": "python",
   "nbconvert_exporter": "python",
   "pygments_lexer": "ipython3",
   "version": "3.6.4"
  }
 },
 "nbformat": 4,
 "nbformat_minor": 2
}
