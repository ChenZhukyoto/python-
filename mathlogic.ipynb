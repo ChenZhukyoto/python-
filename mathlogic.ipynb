{
 "cells": [
  {
   "cell_type": "markdown",
   "metadata": {},
   "source": [
    "# ユニバーサル Abacus マシン"
   ]
  },
  {
   "cell_type": "markdown",
   "metadata": {},
   "source": [
    "数理論理学 B （立木担当）のレポート課題です。\n",
    "\n",
    "このファイル(mathlogic.ipynb)だけをダウンロードすることもできますが，このフォルダー(プログラミング演習（数理的応用）という，python の演習授業のオンラインテキスト)全体をダウンロードすることをおすすめします。その方法は，この上のBranch: master python/mathlogic.ipynb と書かれている python の部分をクリックしてください。\n",
    "\n",
    "メディアセンタのパソコンには，github および anaconda （python に，よく使われるパッケージを最初からインストールしたもの）がインストールされています。これは，他にも使う機会があると思うので，これを機会に自分のパソコンにインストールすることをおすすめします。このフォルダの README.md を見てください。github はなくても，このファイルをダウンロードできれば課題を実行できます。\n",
    "\n",
    "Google アカウントを持っている人は，\n",
    "<a href=\"https://colab.research.google.com/notebooks/welcome.ipynb?hl=ja\">\n",
    "Google Colaboratory </a>を用いると，anaconda などを自分のコンピュータに\n",
    "インストールをせずに Jupyter Notebook で書かれた Python プログラムを動作できます。\n",
    "上でリンクされている Coogle Colaboratory のページの \"GitHub でのノートブックの保存と読み込み\" のリンクの先に，Github で公開された\n",
    "ページを Google Colaboratory で開く方法が載っています。具体的には，\n",
    "<a href=\"https://colab.research.google.com/github/Hidekitsuiki/python/blob/master/mathlogic.ipynb\">このリンク</a>\n",
    "によって，この課題ページを Google Colaboratory で実行できます。\n",
    "ただし，Google Colaboratory の方が再帰呼び出しの深さの制限がきついので，動かせる Abacus マシンプログラムのサイズは\n",
    "より小さくなります。Google colaboratory の利用は，個人の責任で行なってください。\n",
    "\n",
    "この notebook ファイルの最後の練習問題１，２を行ってください。\n",
    "練習問題１は必ず行ってください。練習問題 3 は，自分で考えるだけで十分で，提出する必要はありません。\n",
    "\n",
    "この notebook にセルを追加して，プログラムを書いて実行したり，説明の文章をMarkdown で書いたりしてください。そして，できた notebook の名前を，\"自分の名前.ipynb\"　に変えて，PandA の第2回という課題に添付として提出してください。\n",
    "\n",
    "この課題を行うのに，python のプログラムを理解する必要はありません。ただ，Jupyter Notebook の利用には慣れている必要があります。必要に応じて，このフォルダにある Pythonのオンラインテキスト，特に，1Jupyter.ipynb を参照してください。\n",
    "\n",
    "準備のところのプログラムは，理解する必要はありません。Ctrl-return によりプログラムを実行しながら読み進めてください。"
   ]
  },
  {
   "cell_type": "markdown",
   "metadata": {},
   "source": [
    "## (準備)2分探索による逆関数\n",
    "\n",
    "自然数上の単調関数 $f$ を計算するプログラムに対し，b 以下の範囲で，p <= f(n) となる最小の n を求める関数です。\n",
    "2分探索を行っています。これは，下で numpair 関数のプログラムを書くのに用います。"
   ]
  },
  {
   "cell_type": "code",
   "execution_count": 1,
   "metadata": {},
   "outputs": [
    {
     "data": {
      "text/plain": [
       "4"
      ]
     },
     "execution_count": 1,
     "metadata": {},
     "output_type": "execute_result"
    }
   ],
   "source": [
    "def bsearch(p, f, b):\n",
    "    a = 0;\n",
    "    if(f(b) < p):\n",
    "        return b;\n",
    "    while(b - a >= 2):\n",
    "        c = (a + b)//2;\n",
    "#        print(a, b, c);\n",
    "        if(f(c) < p):\n",
    "            a = c;\n",
    "        else:\n",
    "            b = c;\n",
    "    return b\n",
    "\n",
    "bsearch(10, lambda x: x*x, 100 )\n",
    "\n"
   ]
  },
  {
   "cell_type": "markdown",
   "metadata": {},
   "source": [
    "## (準備)ペアのコーディング\n",
    "\n",
    "ここでは，0 以上の数を自然数ということにします。自然数全体の集合$\\mathbb N$ と，そのペア全体の集合$\\mathbb N \\times \\mathbb N$ は1対1対応をつけることができます(カントールの対関数)。ペア全体に\n",
    "三角形に番号をつける，つまり (0,0), (1,0), (0,1), (2.0), (1,1), (0,2), (3.0), ... と番号をつけていきます。\n",
    "この1対1対応を作る $\\mathbb N \\times \\mathbb N \\to\\mathbb N$の関数 pairnum(x, y) と，その逆関数 numpair(z)\n",
    "$\\mathbb N \\to\\mathbb N \\times\\mathbb N$ のプログラムです。numpair は，bsearch を用いて実現されており，タプルを返しています。\n"
   ]
  },
  {
   "cell_type": "code",
   "execution_count": 2,
   "metadata": {},
   "outputs": [],
   "source": [
    "\n",
    "import math\n",
    "def pairnum(x, y):\n",
    "    return (x + y)* (x + y + 1)//2 + y\n",
    "\n",
    "def numpair(z):\n",
    "    kk = bsearch(z, lambda i:pairnum(i, 0)-1, z+1) - 1\n",
    "\n",
    "    r = pairnum(kk, 0)\n",
    "    y = z - r\n",
    "    x = (kk) - y\n",
    "    return (x, y)\n",
    "\n",
    "\n",
    "# [pairnum(*numpair(i))==i for i in range(100)]\n"
   ]
  },
  {
   "cell_type": "markdown",
   "metadata": {},
   "source": [
    "## (準備)リストのコーディング\n",
    "\n",
    "自然数の集合$\\mathbb N$ と，自然数の有限列(すなわちリスト)全体の集合$\\mathbb N^*$ との間で，次のようにして，\n",
    "1対1対応をつけることができます。\n",
    "$$\n",
    "\\text{listnum}(u) = \\left\\{\\begin{array}{ll} 0 & (u = []) \\\\ \\text{pairnum}(u[0], \\text{listnum}(u[1:])+1 & (それ以外)\\end{array}\\right.\n",
    "$$\n",
    "この対応とその逆対応( numlist(z) ) のプログラムです。ここでは，再帰を用いています。後に述べる universal マシンを Abacus マシンにコンパイルするためには，再帰を用いずにプログラムを書く必要がありますが，それについては，授業中に配布したプリントを参照してください。\n"
   ]
  },
  {
   "cell_type": "code",
   "execution_count": 3,
   "metadata": {},
   "outputs": [
    {
     "name": "stdout",
     "output_type": "stream",
     "text": [
      "30202920268257714220296010089345710995565877019664095498865225749199342152807611938856960214582501211693450742681944830680085042776774497109079917447866900614562466173599739216008128699278025331330411443787482345010263216178424250018365361356950272463540126306018939451839865953429518165420628892996704349725994754015140261652895723373569119758386872312465651244072630423033486129783118424779941636024449580834933858749659639432027188539641503779874502364293040581406132299503788114580259630196995653459294986678977559834773739716351099704639419174908636020856909869027494102628084240761241614219102177484409073929668014262354833049264474150689205152286629387880067773343390875433565551569121278236186428221708156881250641142755437490728949576108025196029657985800793652337460877946102770881807760874669759177035252865231061550258967890304897022974937680541106620842578777527818701728345512556793465639674081551861790120857189936279538659389718355836001549683884250767744226396939114805881855883835832082929383550814199595967026876498730503949321026706056861014631758843863605405617460868463456928363363539703438618456860525308681567072492186004581561419772088724630345656748695545032252693252828625217775843089559202818059842141590337137081779156186260191449651773833360185822129049550508730116066609258190548875639407662486901297103226661052434656406376927521575352969611844740327935016285160265800386655171956917566882164408179186121604419639895157269852692923363003529607358336432279467921806422605477536035036108298018596652424635812383258460628668617172190982154739026612344093132885807131903210989457088168938465192558673414735281141502401890796688566663359840835669743185323221864542491252132822234986889855609716211534077281585959334796890497712417648318207637943058519216247182943444867239496960837214586861704404323864578169321014351208826387654657014878567314691228491739805812697683042123125356906790414819169904028413258220872121796715272235802107665530717702641105455039940671433619948292807206797155288589154781957790865717952982375784122273423618878460355949437504078474811633543044473464946531585446883082876868209087832894903536269258809\n",
      "[1, 1, 1, 1, 1, 1, 1, 1, 1, 1, 1, 1, 2]\n"
     ]
    }
   ],
   "source": [
    "# 練習問題60\n",
    "\n",
    "def listnum(u):  #u:list\n",
    "    if (u==[]):\n",
    "        return 0\n",
    "    else:\n",
    "        return pairnum(u[0], listnum(u[1:]))+ 1\n",
    "\n",
    "def numlist(n):\n",
    "    if(n == 0):\n",
    "        return []\n",
    "    else:\n",
    "        (a, b) = numpair(n - 1)\n",
    "        return([a] + numlist(b))\n",
    "\n",
    "    \n",
    "k = listnum([1,2,3])\n",
    "k = listnum([1,1,1,1,1,1,1,1,1,1,1,1,2])\n",
    "print(k)\n",
    "print(numlist(k))\n"
   ]
  },
  {
   "cell_type": "markdown",
   "metadata": {},
   "source": [
    "ところで、このプログラムでは、ここら辺が限界で、もっと大きなリストをエンコードしようとしても、bsearchのところでの再帰呼び出しが深くなりすぎて、エラーを生じてしまいます。\n",
    "numpair に関しては、次が知られています。\n",
    "```\n",
    "# (wikipedia 「対関数」参照)\n",
    "import math\n",
    "def numpair(z):\n",
    "    w = (int)((math.sqrt(8*z+1)-1)//2)\n",
    "    t = (w*w+w)//2\n",
    "    y = z-t\n",
    "    x = w-y\n",
    "    return(x,y)\n",
    "```\n",
    "これで行えば2分探索の必要はなくなるが、今度は、math.sqrt が, 浮動小数点で扱えるより大きな引数が与えられてエラーが発生します。(その前に、大きな数を浮動小数点にした時に誤差が生じる。）それを防ぐには、整数範囲内でのルート計算を行わないといけなくなります。それは、例えば，ニュートン法でできるはずです。\n",
    "\n"
   ]
  },
  {
   "cell_type": "markdown",
   "metadata": {},
   "source": [
    "## (準備)コード化されたリストへのアクセス\n",
    "\n",
    "nth : 数 x でコード化されたリストの k 番目の要素を取り出す関数，\n",
    "\n",
    "replace : 数 x でコード化されたリストの k 番目の要素を n に置き換えたリストのコードを返す関数"
   ]
  },
  {
   "cell_type": "code",
   "execution_count": 4,
   "metadata": {},
   "outputs": [
    {
     "name": "stdout",
     "output_type": "stream",
     "text": [
      "0\n",
      "[1, 2, 3, 4, 8]\n",
      "0\n",
      "[1, 2, 3, 4, 5, 0, 0, 0, 0, 8]\n"
     ]
    }
   ],
   "source": [
    "def nth(x, k):\n",
    "    if(x == 0):\n",
    "        return 0  # 長さを超えたアクセスは 0 を返す\n",
    "    (a, y) = numpair(x-1)\n",
    "    if(k == 0):\n",
    "        return a\n",
    "    else: \n",
    "        return nth(y, k-1)\n",
    "\n",
    "def replace(x, k, n):   # x[k] = n\n",
    "    if(x == 0):\n",
    "        if (k == 0): \n",
    "            a = n\n",
    "            rest = 0\n",
    "        else:\n",
    "            a = 0\n",
    "            rest = replace(0, k-1, n)\n",
    "        return pairnum(a, rest) + 1\n",
    "    (a, y) = numpair(x-1)\n",
    "    if(k == 0):\n",
    "        return pairnum(n, y)+ 1\n",
    "    else:\n",
    "        return pairnum(a, replace(y, k-1, n))+ 1\n",
    "\n",
    "z = listnum([1,2,3,4,5])    \n",
    "print(nth(z, 5))\n",
    "u = replace(z, 4, 8)     \n",
    "print(numlist(u))\n",
    "\n",
    "z = listnum([1,2,3,4,5])\n",
    "print(nth(z, 10))\n",
    "u = replace(z, 9, 8)\n",
    "print(numlist(u))\n",
    "        "
   ]
  },
  {
   "cell_type": "markdown",
   "metadata": {},
   "source": [
    "# ユニバーサル Abacus マシン(その1)\n",
    "\n",
    "授業プリントと同じプログラムを python で書いたものです。\n",
    "プリントでは p, d として自然数を与えているが，ここでは python のリストで与えています。よって，リストの長さより先にアクセスできないので，データ d としては，プログラム中に現れる箱の番号を全て含むように，十分長く 0 を後ろにつけたものを与える必要があります。\n"
   ]
  },
  {
   "cell_type": "code",
   "execution_count": 5,
   "metadata": {},
   "outputs": [],
   "source": [
    "def univ(p, d):\n",
    "    pc = 0\n",
    "    while(p[pc][0] > 0):\n",
    "        op = p[pc][0]\n",
    "        box = p[pc][1]\n",
    "        next = p[pc][2]\n",
    "        if(op == 1):\n",
    "            d[box] += 1\n",
    "            pc = next\n",
    "        else:\n",
    "            enext = p[pc][3]\n",
    "            if(d[box] > 0):\n",
    "                d[box] -= 1\n",
    "                pc = next\n",
    "            else:\n",
    "                pc = enext\n",
    "    return(d[0])"
   ]
  },
  {
   "cell_type": "markdown",
   "metadata": {},
   "source": [
    "# 様々な関数の Abacus マシンでのコード"
   ]
  },
  {
   "cell_type": "markdown",
   "metadata": {},
   "source": [
    "例１：何もしないでいきなり終了する. どの k に対しても f(x1,...,xk) = 0 を意味する。\n"
   ]
  },
  {
   "cell_type": "code",
   "execution_count": 6,
   "metadata": {},
   "outputs": [
    {
     "data": {
      "text/plain": [
       "0"
      ]
     },
     "execution_count": 6,
     "metadata": {},
     "output_type": "execute_result"
    }
   ],
   "source": [
    "m = [[0]]\n",
    "d = [0,1,6,4,3]   # 引数としては，任意のリスト。d[0] は返値，d[1,...,k] が引数\n",
    "univ(m,d)"
   ]
  },
  {
   "cell_type": "markdown",
   "metadata": {},
   "source": [
    "例２：箱1 の内容を箱0 にコピーする。箱0は空にする。 f (x) = y を意味する。"
   ]
  },
  {
   "cell_type": "code",
   "execution_count": 7,
   "metadata": {},
   "outputs": [
    {
     "data": {
      "text/plain": [
       "5"
      ]
     },
     "execution_count": 7,
     "metadata": {},
     "output_type": "execute_result"
    }
   ],
   "source": [
    "d = [0, 5]\n",
    "m = [[2,1,1,2],\n",
    " [1,0,0],\n",
    " [0]\n",
    "]  \n",
    "univ(m, d)"
   ]
  },
  {
   "cell_type": "markdown",
   "metadata": {},
   "source": [
    "例３：箱 0 の内容を B[1] + B[2] にする。箱 1, 2 は終了時に空になる。\n",
    "f(x, y) = x+y を意味する。\n",
    "\n",
    "![足し算](plus_machine.jpg)"
   ]
  },
  {
   "cell_type": "code",
   "execution_count": 8,
   "metadata": {},
   "outputs": [
    {
     "data": {
      "text/plain": [
       "8"
      ]
     },
     "execution_count": 8,
     "metadata": {},
     "output_type": "execute_result"
    }
   ],
   "source": [
    "d = [0, 5, 3]\n",
    "m = [[2,1,1,2],\n",
    " [1,0,0],\n",
    " [2,2,3,4],\n",
    " [1,0,2],\n",
    " [0]\n",
    "]  \n",
    "univ(m, d)"
   ]
  },
  {
   "cell_type": "markdown",
   "metadata": {},
   "source": [
    "# ユニバーサル Abacus マシン(その2)\n",
    "\n",
    "nth, replace を用いて，上の univ のプログラムにおいて，プログラム p とデータ d を，リストではなく数を引数とするように書きかえたもの。"
   ]
  },
  {
   "cell_type": "code",
   "execution_count": 9,
   "metadata": {},
   "outputs": [],
   "source": [
    "def univm(p, d):  \n",
    "    ''' p, d は，リストを数で表した数が与えられる '''\n",
    "\n",
    "    pc = 0\n",
    "    while(nth(nth(p, pc), 0) > 0):\n",
    "        print(pc, numlist(d))  # デバッグのためのプリント\n",
    "        op = nth(nth(p, pc), 0)\n",
    "        box = nth(nth(p, pc), 1)\n",
    "        next = nth(nth(p, pc), 2)\n",
    "        if(op == 1):\n",
    "            d = replace(d, box, nth(d, box)+1)\n",
    "            pc = next\n",
    "        else:\n",
    "            enext = nth(nth(p, pc), 3)\n",
    "            if(nth(d,box) > 0):\n",
    "                if(nth(d, box) > 0):\n",
    "                    d = replace(d, box, nth(d, box) - 1)\n",
    "                pc = next\n",
    "            else:\n",
    "                pc = enext\n",
    "    return(nth(d,0))"
   ]
  },
  {
   "cell_type": "markdown",
   "metadata": {},
   "source": [
    "例３にプログラムにおいて，データ d のリストを listnum によって一つの数として表現したもの dd は，次のようにして得られる。"
   ]
  },
  {
   "cell_type": "code",
   "execution_count": 10,
   "metadata": {},
   "outputs": [
    {
     "name": "stdout",
     "output_type": "stream",
     "text": [
      "3828\n"
     ]
    }
   ],
   "source": [
    "d = [0,5,3]\n",
    "dd = listnum(d)\n",
    "print(dd)"
   ]
  },
  {
   "cell_type": "markdown",
   "metadata": {},
   "source": [
    "mm : プログラム m の，コード（という数）"
   ]
  },
  {
   "cell_type": "markdown",
   "metadata": {},
   "source": [
    "また，リスト m に対して，m の要素それぞれに f を適用してできたリストは，\n",
    "```\n",
    "list (map (f, m))\n",
    "```\n",
    "で得られる。よって，m の各要素に listnum を適用て得られるリストは，次のようにして計算できる。"
   ]
  },
  {
   "cell_type": "code",
   "execution_count": 11,
   "metadata": {},
   "outputs": [
    {
     "name": "stdout",
     "output_type": "stream",
     "text": [
      "[32638, 14, 26364689, 152, 1]\n"
     ]
    }
   ],
   "source": [
    "m = [[2,1,1,2],\n",
    " [1,0,0],\n",
    " [2,2,3,4],\n",
    " [1,0,2],\n",
    " [0]\n",
    "]  \n",
    "m0 = list (map(listnum, m))\n",
    "print(m0)"
   ]
  },
  {
   "cell_type": "markdown",
   "metadata": {},
   "source": [
    "このリストに対して，もう一度 listnum を適用することにより，\n",
    "プログラム m のコードとなる数が得られる。"
   ]
  },
  {
   "cell_type": "code",
   "execution_count": 12,
   "metadata": {},
   "outputs": [
    {
     "name": "stdout",
     "output_type": "stream",
     "text": [
      "1830392212574384253594576266619768224916214664365824640643\n"
     ]
    }
   ],
   "source": [
    "mm = listnum (m0)\n",
    "print(mm)\n"
   ]
  },
  {
   "cell_type": "markdown",
   "metadata": {},
   "source": [
    "mm と dd を引数にして univm を呼び出すと，5 + 3 が計算される。"
   ]
  },
  {
   "cell_type": "code",
   "execution_count": 13,
   "metadata": {},
   "outputs": [
    {
     "name": "stdout",
     "output_type": "stream",
     "text": [
      "0 [0, 5, 3]\n",
      "1 [0, 4, 3]\n",
      "0 [1, 4, 3]\n",
      "1 [1, 3, 3]\n",
      "0 [2, 3, 3]\n",
      "1 [2, 2, 3]\n",
      "0 [3, 2, 3]\n",
      "1 [3, 1, 3]\n",
      "0 [4, 1, 3]\n",
      "1 [4, 0, 3]\n",
      "0 [5, 0, 3]\n",
      "2 [5, 0, 3]\n",
      "3 [5, 0, 2]\n",
      "2 [6, 0, 2]\n",
      "3 [6, 0, 1]\n",
      "2 [7, 0, 1]\n",
      "3 [7, 0, 0]\n",
      "2 [8, 0, 0]\n"
     ]
    },
    {
     "data": {
      "text/plain": [
       "8"
      ]
     },
     "execution_count": 13,
     "metadata": {},
     "output_type": "execute_result"
    }
   ],
   "source": [
    "univm(mm, dd)"
   ]
  },
  {
   "cell_type": "markdown",
   "metadata": {},
   "source": [
    "**練習問題1** この下に，次のセルを作成しながら，引き算のプログラムに対して例３と同様のことを行おう。\n",
    "\n",
    "1. 引き算のプログラムを，Abacus マシンで作成しよう。 (つまり，マシンが停止した時\n",
    "に，B[0] の値が B[1] - B[2] となっているマシン。最終的に，B[1], B[2] の値は変化していてもよい。）\n",
    "ただし，ここでの引き算は，x < y の時， x - y = 0 とした引き算である。\n",
    "その絵を何らかのツールで描いたり，あるいは写真にとって，.jpg ファイルにして取り込むなどして，この notebook に取り込もう。\n",
    "\n",
    "2. そのプログラムを，リスト表現になおし，listnum を用いて，そのマシンコードとなる数を求めよう。\n",
    "\n",
    "3. 適当な引数 (例えば，上と同じ，5, 3 でもよい)　に対して univm で動作させ，結果が正しいことを確認しよう。"
   ]
  },
  {
   "cell_type": "markdown",
   "metadata": {},
   "source": [
    "**練習問題2** 適当な関数を考えて，それに対して，例３と同様のことを行おう。"
   ]
  },
  {
   "cell_type": "markdown",
   "metadata": {},
   "source": [
    "**練習問題3** この univm では，大きなプログラムを実行することは不可能である。大きなプログラムを実行するには，Abacus マシンのコードの定義を変える必要があろう。どのように定義したら，より大きなプログラムも実行できるようになるか考えよう。"
   ]
  },
  {
   "cell_type": "code",
   "execution_count": null,
   "metadata": {},
   "outputs": [],
   "source": []
  },
  {
   "cell_type": "code",
   "execution_count": null,
   "metadata": {},
   "outputs": [],
   "source": []
  }
 ],
 "metadata": {
  "kernelspec": {
   "display_name": "Python 3",
   "language": "python",
   "name": "python3"
  },
  "language_info": {
   "codemirror_mode": {
    "name": "ipython",
    "version": 3
   },
   "file_extension": ".py",
   "mimetype": "text/x-python",
   "name": "python",
   "nbconvert_exporter": "python",
   "pygments_lexer": "ipython3",
   "version": "3.6.4"
  }
 },
 "nbformat": 4,
 "nbformat_minor": 2
}
