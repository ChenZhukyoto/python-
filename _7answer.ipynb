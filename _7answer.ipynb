{
 "cells": [
  {
   "cell_type": "code",
   "execution_count": 23,
   "metadata": {},
   "outputs": [
    {
     "data": {
      "text/plain": [
       "[[3, 4], [4, 2], [3, 2], [4, 1], [3, 1], [2, 1]]"
      ]
     },
     "execution_count": 23,
     "metadata": {},
     "output_type": "execute_result"
    }
   ],
   "source": [
    "# 練習問題10\n",
    "def combinations(s, k):\n",
    "    if(len(s) <= k):\n",
    "        return ([s])\n",
    "    if(k == 0):\n",
    "        return ([[]])\n",
    "    u = []\n",
    "    a = s[0]\n",
    "    rest = s[1:]\n",
    "    return (combinations(rest, k) + \n",
    "            list(map(lambda r:r+[a], combinations(rest, k-1))))\n",
    "combinations([1,2,3,4],2)"
   ]
  },
  {
   "cell_type": "code",
   "execution_count": 10,
   "metadata": {},
   "outputs": [
    {
     "data": {
      "text/plain": [
       "[[3, 2, 1], [2, 3, 1], [3, 1, 2], [1, 3, 2], [2, 1, 3], [1, 2, 3]]"
      ]
     },
     "execution_count": 10,
     "metadata": {},
     "output_type": "execute_result"
    }
   ],
   "source": [
    "#練習問題20\n",
    "\n",
    "def permutations(s):\n",
    "    if(len(s) <= 1):\n",
    "        return ([s])\n",
    "    u = []\n",
    "    for i in s:\n",
    "        for a in permutations(delete(s, i)):\n",
    "            u.append(a + [i])\n",
    "    return u\n",
    "\n",
    "def delete(s,i):\n",
    "    return ([a for a in s if (a != i)])\n",
    "\n",
    "permutations([1,2,3])\n"
   ]
  },
  {
   "cell_type": "code",
   "execution_count": 13,
   "metadata": {},
   "outputs": [
    {
     "data": {
      "text/plain": [
       "[1, 2, 2, 3, 3, 3, 3, 4, 4, 4, 5, 10, 32, 56, 67]"
      ]
     },
     "execution_count": 13,
     "metadata": {},
     "output_type": "execute_result"
    }
   ],
   "source": [
    "#練習問題30\n",
    "\n",
    "def qsort(x):\n",
    "    if (len(x) <= 1):\n",
    "        return x\n",
    "    a = x[0]\n",
    "    return (qsort([u for u in x[1:] if (u < a)]) \n",
    "           + [a] \n",
    "           + qsort([u for u in x[1:] if (u >= a)]))\n",
    "    \n",
    "qsort([4,32,2, 10,4,5,3,4,3,3,2,56,3,67,1])"
   ]
  },
  {
   "cell_type": "code",
   "execution_count": 1,
   "metadata": {},
   "outputs": [
    {
     "data": {
      "text/plain": [
       "6"
      ]
     },
     "execution_count": 1,
     "metadata": {},
     "output_type": "execute_result"
    }
   ],
   "source": [
    "# 練習問題40\n",
    "\n",
    "def bsearch (p, f, b):\n",
    "    \"For monotonic f, binary search least n such that p <= f(n)  up to b\"\n",
    "    if (f(b) < p):\n",
    "        return b   # this means that no such n exists\n",
    "    return bsearchrange (p, f, 0, b)\n",
    "\n",
    "def bsearchrange (p, f, a, b):\n",
    "    if(b <= a+1):\n",
    "        return b\n",
    "    c = (a+b)//2\n",
    "    if (f(c) < p):\n",
    "        return (bsearchrange (p, f, c, b))\n",
    "    else:\n",
    "        return (bsearchrange (p, f, a, c))\n",
    "    \n",
    "bsearch (36, lambda n:n*n, 100)    \n"
   ]
  },
  {
   "cell_type": "code",
   "execution_count": 1,
   "metadata": {},
   "outputs": [],
   "source": [
    "#練習問題50 \n",
    "import math\n",
    "def pairnum(x, y):\n",
    "    return (x + y)* (x + y + 1)//2 + y\n",
    "\n",
    "def numpair(z):\n",
    "    kk = bsearch(z, lambda i:pairnum(i, 0)-1, z+1) - 1\n",
    "\n",
    "    r = pairnum(kk, 0)\n",
    "    y = z - r\n",
    "    x = (kk) - y\n",
    "    return (x, y)"
   ]
  },
  {
   "cell_type": "code",
   "execution_count": 4,
   "metadata": {},
   "outputs": [
    {
     "name": "stdout",
     "output_type": "stream",
     "text": [
      "1539\n"
     ]
    },
    {
     "data": {
      "text/plain": [
       "[1, 2, 3]"
      ]
     },
     "execution_count": 4,
     "metadata": {},
     "output_type": "execute_result"
    }
   ],
   "source": [
    "# 練習問題60\n",
    "\n",
    "def listnum(u):  #u:list\n",
    "    if (u==[]):\n",
    "        return 0\n",
    "    else:\n",
    "        return pairnum(u[0], listnum(u[1:]))+ 1\n",
    "\n",
    "def numlist(n):\n",
    "    if(n == 0):\n",
    "        return []\n",
    "    else:\n",
    "        (a, b) = numpair(n - 1)\n",
    "        return([a] + numlist(b))\n",
    "\n",
    "    \n",
    "k = listnum([1,2,3])\n",
    "#k = listnum([1,1,1,1,1,1,1,1,1,1,1,1,1])\n",
    "print(k)\n",
    "numlist(k)\n"
   ]
  }
 ],
 "metadata": {
  "kernelspec": {
   "display_name": "Python 3",
   "language": "python",
   "name": "python3"
  },
  "language_info": {
   "codemirror_mode": {
    "name": "ipython",
    "version": 3
   },
   "file_extension": ".py",
   "mimetype": "text/x-python",
   "name": "python",
   "nbconvert_exporter": "python",
   "pygments_lexer": "ipython3",
   "version": "3.6.4"
  }
 },
 "nbformat": 4,
 "nbformat_minor": 2
}
