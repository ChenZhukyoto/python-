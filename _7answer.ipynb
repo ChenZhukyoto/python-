{
 "cells": [
  {
   "cell_type": "code",
   "execution_count": 18,
   "metadata": {},
   "outputs": [
    {
     "name": "stdout",
     "output_type": "stream",
     "text": [
      "[[0.5675553  0.83763363 0.70734887 0.9285891  0.5784506 ]\n",
      " [1.48907735 1.28861367 1.42468812 2.09638314 1.22713682]\n",
      " [0.77640979 0.88649591 1.03020333 1.02679463 0.48499144]]\n",
      "[[0.5675553  0.83763363 0.70734887 0.9285891  0.5784506 ]\n",
      " [1.48907735 1.28861367 1.42468812 2.09638314 1.22713682]\n",
      " [0.77640979 0.88649591 1.03020333 1.02679463 0.48499144]]\n"
     ]
    }
   ],
   "source": [
    "def prod(x, y):\n",
    "    '''行列 x, y の積を計算して返す'''\n",
    "    (n1,m1) = x.shape\n",
    "    (n2,m2) = y.shape\n",
    "    if(m1 != n2):\n",
    "        return None\n",
    "    z = np.zeros(shape=(n1, m2))\n",
    "    for i in range(n1):\n",
    "        for j in range(m2):\n",
    "            u = 0\n",
    "            for k in range(m1):\n",
    "                u += x[i,k] * y[k,j]\n",
    "            z[i,j] = u\n",
    "    return z\n",
    "\n",
    "x = np.random.random([3,4])            \n",
    "y = np.random.random([4,5])\n",
    "print(prod(x,y))\n",
    "print(x@y)\n"
   ]
  },
  {
   "cell_type": "code",
   "execution_count": 3,
   "metadata": {},
   "outputs": [],
   "source": [
    "import numpy as np\n",
    "a = np.reshape(range(11,20),(3,3))"
   ]
  },
  {
   "cell_type": "code",
   "execution_count": 4,
   "metadata": {},
   "outputs": [
    {
     "data": {
      "text/plain": [
       "-5.8972434778618435e-15"
      ]
     },
     "execution_count": 4,
     "metadata": {},
     "output_type": "execute_result"
    }
   ],
   "source": [
    "np.linalg.det(a)"
   ]
  },
  {
   "cell_type": "code",
   "execution_count": 9,
   "metadata": {},
   "outputs": [],
   "source": [
    "# 練習問題 30\n",
    "def mydet (a):\n",
    "    n,m = a.shape\n",
    "    if(n==1 or m == 1):\n",
    "        return(a[0][0])\n",
    "    u = a[:,1:]\n",
    "    return (sum ([((-1)**k)*a[k,0]*mydet(np.delete(u,k,0)) \n",
    "                  for k in range(n)]))       "
   ]
  },
  {
   "cell_type": "code",
   "execution_count": 14,
   "metadata": {},
   "outputs": [
    {
     "name": "stdout",
     "output_type": "stream",
     "text": [
      "0.0018072161079971637\n",
      "CPU times: user 4.11 s, sys: 33.6 ms, total: 4.14 s\n",
      "Wall time: 4.12 s\n",
      "0.0018072161079971658\n",
      "CPU times: user 61 µs, sys: 3 µs, total: 64 µs\n",
      "Wall time: 66 µs\n"
     ]
    }
   ],
   "source": [
    "# こうやって組んだのは，非常に遅い。ライブラリは C で組んであるので比べ物にならないくらい早い。\n",
    "# python　は，ちょっとしたプログラムを試しに作る以外では，重要な処理はライブラリとして\n",
    "# C 言語など組み，それを呼び出す形で処理を書くフロントエンドとしての利用が期待されている。\n",
    "\n",
    "u=np.random.random([9,9])\n",
    "%time print(mydet(u))\n",
    "%time print(np.linalg.det(u))"
   ]
  },
  {
   "cell_type": "code",
   "execution_count": null,
   "metadata": {},
   "outputs": [],
   "source": []
  }
 ],
 "metadata": {
  "kernelspec": {
   "display_name": "Python 3 (ipykernel)",
   "language": "python",
   "name": "python3"
  },
  "language_info": {
   "codemirror_mode": {
    "name": "ipython",
    "version": 3
   },
   "file_extension": ".py",
   "mimetype": "text/x-python",
   "name": "python",
   "nbconvert_exporter": "python",
   "pygments_lexer": "ipython3",
   "version": "3.8.5"
  }
 },
 "nbformat": 4,
 "nbformat_minor": 2
}
