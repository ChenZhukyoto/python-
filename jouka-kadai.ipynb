{
 "cells": [
  {
   "cell_type": "markdown",
   "metadata": {},
   "source": [
    "# 情報基礎(立木)　3回目課題\n",
    "\n",
    "\n",
    "jupyter notebook (Anaconda)は，メディアセンターのコンピュータにインストールされています。\n",
    "このドキュメントを見ているということは，皆さん，それを起動しているはずです。\n",
    "Jupyter notebook に慣れるために，まず，下のボックスに `2 + 3` と入力して，shift + return を押しましょう。\n",
    "\n"
   ]
  },
  {
   "cell_type": "code",
   "execution_count": null,
   "metadata": {},
   "outputs": [],
   "source": []
  },
  {
   "cell_type": "markdown",
   "metadata": {},
   "source": [
    "計算結果 5 が出ましたか？ボックスに他の入力をして試してください。\n",
    "\n",
    "一つのボックスの中で，複数の計算結果を表示したい時には，`print`関数を用います。\n",
    "```\n",
    "print (2+3)\n",
    "print (2*3)\n",
    "```\n",
    "と下のボックスに入れて実行しましょう。"
   ]
  },
  {
   "cell_type": "code",
   "execution_count": 1,
   "metadata": {},
   "outputs": [
    {
     "name": "stdout",
     "output_type": "stream",
     "text": [
      "5\n",
      "6\n"
     ]
    }
   ],
   "source": []
  },
  {
   "cell_type": "markdown",
   "metadata": {},
   "source": [
    "以下の問題では，matplotlib ライブラリ と　numpy ライブラリを用います。これらを，np, plt という名前で呼び出すために，次のセルを実行しておきます。これはおまじないだと思って無視してください。"
   ]
  },
  {
   "cell_type": "code",
   "execution_count": 11,
   "metadata": {},
   "outputs": [],
   "source": [
    "%matplotlib inline\n",
    "import numpy as np\n",
    "import matplotlib.pyplot as plt"
   ]
  },
  {
   "cell_type": "markdown",
   "metadata": {},
   "source": [
    "次のように書けば，`y = sin(x)`のグラフを，x = 0 から x = 5 までの間で表記することができます。100 というのは，[0,5]の区間に 100 個の点をとって計算するという意味です。"
   ]
  },
  {
   "cell_type": "code",
   "execution_count": 12,
   "metadata": {},
   "outputs": [
    {
     "data": {
      "image/png": "[encoded data removed]",
      "text/plain": [
       "<matplotlib.figure.Figure at 0x1171d6c50>"
      ]
     },
     "metadata": {},
     "output_type": "display_data"
    }
   ],
   "source": [
    "x = np.linspace(0, 5, 100);\n",
    "plt.plot(x, np.sin(x))\n",
    "plt.show()"
   ]
  },
  {
   "cell_type": "markdown",
   "metadata": {},
   "source": [
    "\n",
    "Jupyter notebook の使い方について，\n",
    "\n",
    "https://github.com/HidekiTsuiki/python/blob/master/1Jupyter.ipynb\n",
    "\n",
    "に簡単な説明があります。必要に応じて参照してください。\n",
    "Jupyter notebook の簡単な使い方を理解した上で，次の練習問題をこのページの中で行なってください。\n",
    "そして，その結果できたファイル(ipynb という拡張子がついています)を，panda で提出してください。"
   ]
  },
  {
   "cell_type": "markdown",
   "metadata": {},
   "source": [
    "**問題1**：プリントで説明したように，確率 p で起きる事象 X に対し，X が起きたという知らせは，$-log_2 p$ ビットだけの情報量を持っています。珍しい事象が起きたという知らせほど，大きな情報量があるわけです。\n",
    "0.01, 0.25, 0.5, 0.9 の確率で起きる事象が起きたという知らせの持つ情報量を調べましょう。$log_2(x)$ は，`np.log2(x)` で求まります。"
   ]
  },
  {
   "cell_type": "code",
   "execution_count": null,
   "metadata": {},
   "outputs": [],
   "source": []
  },
  {
   "cell_type": "markdown",
   "metadata": {},
   "source": [
    "**問題2**：y = log_2 p のグラフを，p = 0 から 1 の間で書きましょう。"
   ]
  },
  {
   "cell_type": "code",
   "execution_count": null,
   "metadata": {},
   "outputs": [],
   "source": []
  },
  {
   "cell_type": "markdown",
   "metadata": {},
   "source": [
    "**問題3**：問題1に書いたことから，確率 p の事象 X に対し，X が起きたか起きなかったかということの知らせには，平均して，\n",
    "$-(p log_2 p + (1-p) log_2 (1-p))$ ビットの情報量があるということになります。\n",
    "$y = -(p log_2 p + (1-p) log_2 (1-p))$ のグラフを p = 0 から 1 の間で書きましょう。\n",
    "$p = 0.5$ の時に情報量が一番大きくて，その時の値が 1 ビットになっていることを確認しましょう。"
   ]
  },
  {
   "cell_type": "code",
   "execution_count": null,
   "metadata": {},
   "outputs": [],
   "source": []
  },
  {
   "cell_type": "markdown",
   "metadata": {},
   "source": [
    "**問題4**:  プリントで行なった晴れと雨を拡張して3つの状態にして，晴れ 60\\%, 曇り 30 \\%, 雨 10 \\% として，1年分の天気を表現することを考えます。\n",
    "\n",
    "|天気|コード|\n",
    "|:--:|:--:|\n",
    "|晴れ | 10 |\n",
    "|曇り | 01 |\n",
    "|雨   |  00 |\n",
    "\n",
    "と表現すると， 1 日分のデータは 2 ビットで表現されますが，\n",
    "\n",
    "|天気|コード|\n",
    "|:--:|:--:|\n",
    "|晴れ | 1 |\n",
    "|曇り | 01 |\n",
    "|雨   |  00 |\n",
    "\n",
    "と表現すると，1 日分のデータは平均して何ビットで表現できるでしょうか。この下にセルを追加して，計算する式を書いてください？\n",
    "この情報を表現するには，理論的には何ビット以上必要だといえますか？セルを作って計算してください。"
   ]
  },
  {
   "cell_type": "markdown",
   "metadata": {},
   "source": [
    "**発展問題(これを解くのは，できる人だけでいいです。)**: \n",
    "ハフマン符号化について勉強して，2日分の天気にコードを割り振ることにより，効率のいい表現を考えなさい。Markdown モードのセルを下に作成して，作成したコード表を Markdown の機能を用いて書きなさい。また，その表現を用いた時に，一日の天気を平均して何ビットで表現したことになるか，計算しなさい。"
   ]
  },
  {
   "cell_type": "code",
   "execution_count": null,
   "metadata": {},
   "outputs": [],
   "source": []
  }
 ],
 "metadata": {
  "kernelspec": {
   "display_name": "Python 3",
   "language": "python",
   "name": "python3"
  },
  "language_info": {
   "codemirror_mode": {
    "name": "ipython",
    "version": 3
   },
   "file_extension": ".py",
   "mimetype": "text/x-python",
   "name": "python",
   "nbconvert_exporter": "python",
   "pygments_lexer": "ipython3",
   "version": "3.6.4"
  }
 },
 "nbformat": 4,
 "nbformat_minor": 2
}
