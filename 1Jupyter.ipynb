{
 "cells": [
  {
   "cell_type": "markdown",
   "metadata": {},
   "source": [
    "# 第1回 jupyter notebook の使い方\n",
    "\n",
    "## jupyter notebook とは\n",
    "\n",
    "jupyter notebook は，python などのプログラムを埋め込まれたテキストを作るための環境です。\n",
    "その中でプログラムを編集し，実行することもできます。ですから，プログラムを作成し，実行しながら，その履歴\n",
    "をテキストとして残すことができます。\n",
    "\n",
    "Markdown という簡単なマークアップ言語の機能があるので，簡単に見栄えのある文章を作ることができます。\n",
    "このドキュメントもjupyter notebook で作られています。\n",
    "\n"
   ]
  },
  {
   "cell_type": "markdown",
   "metadata": {},
   "source": [
    "## 起動方法など\n",
    "\n",
    "### 起動方法\n",
    "\n",
    "いくつかあります。例えば，\n",
    "\n",
    "  1. Anaconda を起動し，その中で，jupyter notebook の Launch ボタンを押す。\n",
    "  2. 左下の検索(?) の所で cmd と入力してコマンドプロンプトを起動し，そこで，jupyter-notebook と入力する。\n",
    "\n",
    "起動すると，ブラウザのページとして，Home 画面が出ます。\n",
    "jupyter notebook を起動して，その中で jupyter notebook のファイル(ipynb という拡張子を持っています)を選ぶと、ファイルを見ることができます。(皆さん，このようにして，このファイルを見てるはずです。)\n",
    "  \n",
    "### Home 画面でできること\n",
    "\n",
    "これからの演習では，既に作られた notebook の中でプログラムを組むこともあるし，新しく自分で notebook を作ることもあります。また、notebook 以外の python のプログラムを作成することもあります。\n",
    "\n",
    "  1. 右の方の\"new\" というメニューの中に，folder を選ぶと，フォルダが作れます。\n",
    "\n",
    "     これから作るファイルを置くためのフォルダ(例えば，python)を作成しておきましょう。そして，そのフォルダを開けましょう。このファイルも、そこに置きましょう。\n",
    "     \n",
    "  2. \"new\" の中の Python3 を選ぶと，新しい notebook ができます。\n",
    "  \n",
    "  3. 新しい notebook を保存しておきたい場合には，notebook の画面のFile メニューから Rename でファイル名をつけましょう。\n",
    "  \n",
    "  4. 左のタグの Files でなく Running を選ぶと，現在起動されている Terminal と jupyter notebook プログラムが表示されます。\n",
    "\n"
   ]
  },
  {
   "cell_type": "markdown",
   "metadata": {},
   "source": [
    "## プログラムの実行。\n",
    "\n",
    "jupyter では，対話的環境の中で Python プログラムを動かすことができます。\n",
    "計算させたい式をボックス(右に In[1]: とついている)に書き，Shift + Return を押すと，そのボックスが実行されて，式が計算されて，結果が次の行に表示されます。こんな具合です。"
   ]
  },
  {
   "cell_type": "code",
   "execution_count": 35,
   "metadata": {},
   "outputs": [
    {
     "data": {
      "text/plain": [
       "14"
      ]
     },
     "execution_count": 35,
     "metadata": {},
     "output_type": "execute_result"
    }
   ],
   "source": [
    "5+ 9"
   ]
  },
  {
   "cell_type": "markdown",
   "metadata": {},
   "source": [
    "Shift + Return の代わりに， Run と書かれたボタンを押しても同じです。 `+, *, -, /` の四則演算の他に`**` によるべき乗も計算できます。\n",
    "割り算に関しては，整数の範囲での切り捨ての割り算 `//` と，結果を実数として返す割り算 `/` があります。\n",
    "\n",
    "**練習問題** 上のボックスの `2+3` の所を，いろんな式に変えて実行してみよう。"
   ]
  },
  {
   "cell_type": "markdown",
   "metadata": {},
   "source": [
    "自分で新しいボックスを作るには，左から2番目の + マークのボタンを押します。その右のはさみのボタンはボックスの削除です。\n",
    "\n",
    "`+, *` などの演算を示す記号のことを演算子といいます。演算子には結合力の強さ関係があって，結合力の強いものから先に計算します。`+` より `*` の方が結合力が強いので，`2+3*4` は `2+(3*4)` を意味し，`(2+3)*4` を意味させるには括弧を使います。\n",
    "\n",
    "**練習問題** 新しいボックスを作り，そこで　2 の 10　乗を計算してみよう。さらに、`(2**2)**2` と `(2**(2**2))` を計算してみよう。\n",
    "`(2**(2**(2**...2)))` というのをどんどん計算していくと、どれくらいのスピードで数が大きくなっていくか調べてみよう。\n",
    "\n",
    "Out[\\*] と星が表示されているのは、計算が止まっていない印です。上部メニューの■で止めてください。\n",
    "Out[\\*] の表示は変化しませんが，このボタンを押したら計算が止まっています。止まっているかどうかは，別の計算をさせてみたら分かります。\n",
    "\n"
   ]
  },
  {
   "cell_type": "code",
   "execution_count": null,
   "metadata": {},
   "outputs": [],
   "source": [
    "#2**(2**(2**(2**(2**2))))\n",
    "\n",
    "# で始まる行はコメントです。\n",
    "# 上の式のコメントをはずして実行してみてください。\n"
   ]
  },
  {
   "cell_type": "markdown",
   "metadata": {},
   "source": [
    "## グラフの描画\n",
    "\n",
    "このように、Jupyter Notebook の中で簡単な Python プログラムを書くことにより、数学のツールとして使えます。\n",
    "今度は関数のグラフを書いてみましょう。y= x^2 および、y=4x(1-x) のグラフを、[0,1] の区間を100 個に細分（サンプリング）しながら書いたものです。\n"
   ]
  },
  {
   "cell_type": "code",
   "execution_count": 36,
   "metadata": {
    "scrolled": false
   },
   "outputs": [
    {
     "data": {
      "image/png": "[encoded data removed]",
      "text/plain": [
       "<matplotlib.figure.Figure at 0x1064f9630>"
      ]
     },
     "metadata": {},
     "output_type": "display_data"
    }
   ],
   "source": [
    "%matplotlib inline\n",
    "import numpy as np\n",
    "import matplotlib.pyplot as plt\n",
    "x = np.linspace(0, 1, 100);\n",
    "plt.plot(x, x*x)\n",
    "plt.plot(x, 2*x*(1-x))\n",
    "plt.show()\n"
   ]
  },
  {
   "cell_type": "markdown",
   "metadata": {},
   "source": [
    "簡単そうで、見よう見真似でいろんなグラフが書けます。\n",
    "\n",
    "**練習問題**　実際に、0, 1, 100, 関数の式などを変えて、グラフがどう変化するか見てみましょう。\n",
    "\n",
    "関数の式のところを `np.sin(x)` にすると、sin 関数のグラフが書けますが、ごく一部しか表示されていません。`np.pi` で円周率の値を指定することができます。 \n",
    "\n",
    "**練習問題** sin 関数を1周期表示させましょう。また、10 周期表示させましょう。グラフがギザギザになったと思います。これは、この間に100 回しかサンプリング（値をとってくること）をしていないからです。サンプリングの回数を多くすると、なめらかになります。\n",
    "\n",
    "\n",
    "真似して遊ぶのは簡単ですが、こう書いたらなぜグラフが書けるのかという仕組みは十分に複雑です。Python についての説明が進まないと、理解できません。理解がないと、全く同じプログラムは動かせても、少し書き方を違えたものは理解できません。これ以上は、授業が進んでからの楽しみにしましょう。"
   ]
  },
  {
   "cell_type": "markdown",
   "metadata": {},
   "source": [
    "## テキストの作成\n",
    "\n",
    "プログラム作成モードのボックスを選んだ状態では，右から2番目のメニューは Code になっています。\n",
    "このメニューから，Markdown を選ぶと，テキストの入力モードに切り替わります。テキスト入力モードで適当に文章を入力して実行すると，その文章がテキストとして挿入されます。\n",
    "GFM というMarkdown言語により、簡単に見栄えのよいページが作れます。\n",
    "\n",
    "Markdown のボックスでダブルクリックをすると、ソースに戻すことができます。\n",
    "\n",
    "**練習問題** 下のボックスをソースに戻して、どう書いてあるか調べよう。\n",
    "それを用いて、また、ネットでマークダウンについて調べて、新たにボックスを作り、そこに「この授業で身に付けたいこと」というタイトルで文章を作ろう。"
   ]
  },
  {
   "cell_type": "markdown",
   "metadata": {},
   "source": [
    "# Markdown(GFM)の使い方\n",
    "## 数式\n",
    "\n",
    "Latex の記法で数式を入れることができます。例えば、\n",
    "$\n",
    "X = \\int_0^\\infty{\\frac{1}{x^2}dx}\n",
    "$\n",
    "という具合に。また、独立行は、\n",
    "$$X = \\int_0^\\infty{\\frac{1}{x^2}dx}$$\n",
    "という具合にかけます。Latex は、理系では論文などの文章を書く標準的な道具です。\n",
    "\n",
    "## 番号リスト\n",
    "\n",
    "1. 番号をつけてリストを作る\n",
    "2. こんな感じ\n",
    "\n",
    "## リスト\n",
    "\n",
    "* リスト表示\n",
    "* リスト表示2\n",
    "  * リスト表示2.1\n",
    "  * リスト表示2.2\n",
    "    * リスト表示2.3\n",
    "    \n",
    "> 引用\n",
    "\n",
    "\n",
    "<u> 下線 </u> をつけたり、<font color=\"red\">色をつけたり</font> **太字にしたり** できます。\n",
    "\n",
    "他の便利な機能については、ネットで調べてください。\n",
    "------------------\n",
    "\n",
    "Qiita が、Markdown　を採用しているので、Qiita のページにたくさん情報があります。例えば、\n",
    "\n",
    "https://qiita.com/Qiita/items/c686397e4a0f4f11683d\n",
    "https://qiita.com/oreo/items/82183bfbaac69971917f\n",
    "\n",
    "などがあります。"
   ]
  },
  {
   "cell_type": "markdown",
   "metadata": {},
   "source": [
    "## セルの移動など\n",
    "\n",
    "Jupyter のセルは、Edit メニューの中の項目や、\n",
    "その下のショートカットを用いると、カット、コピー、移動などが容易にできます。また，h を入力することにより，キーボードショートカットの説明が現れます。\n",
    "\n",
    "**練習問題** このページ内に練習問題で作ったセルを、一番下に集めよう。そして、File メニューの Make a copy を用いて、ファイルのコピーを作成し、練習問題の解答の部分を残して、残りを削除しよう。\n",
    "できたファイルを、Report1 に名前を変えて、PandA の提出箱に提出しよう。\n",
    "\n",
    "(本当は、ファイルの間でのセルのカットアンドペーストができたら、その方が楽なのですが、方法がわかりません。分かったら、誰か教えてください。)"
   ]
  },
  {
   "cell_type": "markdown",
   "metadata": {},
   "source": [
    "# 遊びましょう\n",
    "\n",
    "Jupyter と Python を用いれば、いろんな遊びができることが分かったはずです。情報はネットからいくらでも得られます。自分で興味のあることを、どんどん試してください。"
   ]
  },
  {
   "cell_type": "code",
   "execution_count": 39,
   "metadata": {},
   "outputs": [
    {
     "name": "stdout",
     "output_type": "stream",
     "text": [
      "166833\n"
     ]
    },
    {
     "ename": "NameError",
     "evalue": "name 'pirnt' is not defined",
     "output_type": "error",
     "traceback": [
      "\u001b[0;31m---------------------------------------------------------------------------\u001b[0m",
      "\u001b[0;31mNameError\u001b[0m                                 Traceback (most recent call last)",
      "\u001b[0;32m<ipython-input-39-01826c7319ba>\u001b[0m in \u001b[0;36m<module>\u001b[0;34m()\u001b[0m\n\u001b[1;32m      9\u001b[0m     \u001b[0mpirnt\u001b[0m\u001b[0;34m(\u001b[0m\u001b[0mi\u001b[0m\u001b[0;34m)\u001b[0m\u001b[0;34m\u001b[0m\u001b[0m\n\u001b[1;32m     10\u001b[0m \u001b[0;34m\u001b[0m\u001b[0m\n\u001b[0;32m---> 11\u001b[0;31m \u001b[0msum\u001b[0m\u001b[0;34m(\u001b[0m\u001b[0;36m1000\u001b[0m\u001b[0;34m)\u001b[0m\u001b[0;34m\u001b[0m\u001b[0m\n\u001b[0m\u001b[1;32m     12\u001b[0m \u001b[0;34m\u001b[0m\u001b[0m\n",
      "\u001b[0;32m<ipython-input-39-01826c7319ba>\u001b[0m in \u001b[0;36msum\u001b[0;34m(n)\u001b[0m\n\u001b[1;32m      7\u001b[0m         \u001b[0mi\u001b[0m \u001b[0;34m=\u001b[0m \u001b[0mi\u001b[0m\u001b[0;34m+\u001b[0m\u001b[0;36m1\u001b[0m\u001b[0;34m\u001b[0m\u001b[0m\n\u001b[1;32m      8\u001b[0m     \u001b[0mprint\u001b[0m\u001b[0;34m(\u001b[0m\u001b[0msum\u001b[0m\u001b[0;34m)\u001b[0m\u001b[0;34m\u001b[0m\u001b[0m\n\u001b[0;32m----> 9\u001b[0;31m     \u001b[0mpirnt\u001b[0m\u001b[0;34m(\u001b[0m\u001b[0mi\u001b[0m\u001b[0;34m)\u001b[0m\u001b[0;34m\u001b[0m\u001b[0m\n\u001b[0m\u001b[1;32m     10\u001b[0m \u001b[0;34m\u001b[0m\u001b[0m\n\u001b[1;32m     11\u001b[0m \u001b[0msum\u001b[0m\u001b[0;34m(\u001b[0m\u001b[0;36m1000\u001b[0m\u001b[0;34m)\u001b[0m\u001b[0;34m\u001b[0m\u001b[0m\n",
      "\u001b[0;31mNameError\u001b[0m: name 'pirnt' is not defined"
     ]
    }
   ],
   "source": [
    "def sum(n):\n",
    "    i = 0\n",
    "    sum = 0\n",
    "    while(i <= n):\n",
    "        if(i % 3 == 0):\n",
    "            sum += i\n",
    "        i = i+1\n",
    "    print(sum)\n",
    "    pirnt(i)\n",
    "    \n",
    "sum(1000)\n",
    "    "
   ]
  },
  {
   "cell_type": "code",
   "execution_count": null,
   "metadata": {},
   "outputs": [],
   "source": []
  }
 ],
 "metadata": {
  "kernelspec": {
   "display_name": "Python 3",
   "language": "python",
   "name": "python3"
  },
  "language_info": {
   "codemirror_mode": {
    "name": "ipython",
    "version": 3
   },
   "file_extension": ".py",
   "mimetype": "text/x-python",
   "name": "python",
   "nbconvert_exporter": "python",
   "pygments_lexer": "ipython3",
   "version": "3.6.4"
  }
 },
 "nbformat": 4,
 "nbformat_minor": 2
}
