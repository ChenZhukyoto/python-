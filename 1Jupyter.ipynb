{
 "cells": [
  {
   "cell_type": "markdown",
   "metadata": {},
   "source": [
    "# 第1回 jupyter notebook の使い方\n",
    "\n",
    "## jupyter notebook とは\n",
    "\n",
    "jupyter lab (あるいは，Jupyter notebook)は，python などのプログラムを埋め込まれたテキストを作るための環境です。\n",
    "その中でプログラムを編集し，実行することもできます。ですから，プログラムを作成し，実行しながら，その履歴をテキストとして残すことができます。\n",
    "\n",
    "Markdown という簡単なマークアップ言語の機能があるので，簡単に見栄えのある文章を作ることができます。\n",
    "このドキュメントもjupyter labや jupyter notebook でプログラムを実行しながら学べるように作られています。\n",
    "\n"
   ]
  },
  {
   "cell_type": "markdown",
   "metadata": {},
   "source": [
    "## プログラムの実行。\n",
    "\n",
    "jupyter lab では，対話的環境の中で Python プログラムを動かすことができます。\n",
    "計算させたい式をCode 用のセル(右に In[1]: などとついている箱)に書き，Shift + Return を押すと，そのセルが実行されて，結果得られた値が次の行に Out[1]: などとして表示されます。"
   ]
  },
  {
   "cell_type": "code",
   "execution_count": null,
   "metadata": {},
   "outputs": [
    {
     "data": {
      "text/plain": [
       "5"
      ]
     },
     "execution_count": 9,
     "metadata": {},
     "output_type": "execute_result"
    }
   ],
   "source": [
    "2+3"
   ]
  },
  {
   "cell_type": "markdown",
   "metadata": {},
   "source": [
    "**練習問題** 上のセルの `2*3` の所を，いろんな式に変えて実行してみよう。\n",
    "\n",
    "「練習問題」と書いていなくても，本文中に説明されたことを確認するように，自由にこのファイルの内容を書き換えながら，自分の理解を深めてください。"
   ]
  },
  {
   "cell_type": "markdown",
   "metadata": {},
   "source": [
    "Shift + Return の代わりに， 上の方にある右三角ボタンを押しても実行できます。\n",
    "\n",
    "`+, *, -, /` の四則演算の他に`**` によるべき乗も計算できます。\n",
    "割り算に関しては，整数の範囲での切り捨ての割り算 `//` と，結果を実数として返す割り算 `/` があります。また，% は，割り算の余りを計算する演算子です。\n"
   ]
  },
  {
   "cell_type": "markdown",
   "metadata": {},
   "source": [
    "一つのセルに複数の式を書くと、順に実行されて、最後の実行の結果だけが Out[番号]　として表示されます。各行には、`2*3` のような値を求めたい「式」だけでなく、コンピュータに対する命令に相当する「文」も書けます。例えば、print(式) という文で、式の値を表示させることができます。"
   ]
  },
  {
   "cell_type": "code",
   "execution_count": 1,
   "metadata": {},
   "outputs": [
    {
     "name": "stdout",
     "output_type": "stream",
     "text": [
      "5\n"
     ]
    }
   ],
   "source": [
    "print(2+3)"
   ]
  },
  {
   "cell_type": "code",
   "execution_count": 14,
   "metadata": {},
   "outputs": [
    {
     "name": "stdout",
     "output_type": "stream",
     "text": [
      "5\n",
      "6\n",
      "0.6666666666666666\n",
      "0\n"
     ]
    },
    {
     "data": {
      "text/plain": [
       "14"
      ]
     },
     "execution_count": 14,
     "metadata": {},
     "output_type": "execute_result"
    }
   ],
   "source": [
    "print(2+3)\n",
    "print(2*3)\n",
    "print(2/3)\n",
    "print(2//3)\n",
    "2*(3+4)"
   ]
  },
  {
   "cell_type": "markdown",
   "metadata": {},
   "source": [
    "自分で新しいセルを作るには，左から2番目の + マークのボタンを押します。その右のはさみのボタンはセルの削除です。\n",
    "\n",
    "`+, *` などの演算を示す記号のことを演算子といいます。演算子には結合力の強さ関係があって，結合力の強いものから先に計算します。`+` より `*` の方が結合力が強いので，`2+3*4` は `2+(3*4)` を意味し，`(2+3)*4` を意味させるには括弧を使います。\n",
    "\n",
    "\n",
    "**練習問題** 新しいセルを作り，そこで　2 の 2 乗を計算してみよう。さらにそれを2乗，さらにそれを2乗 した数を求めよう。`((((2**2)**2)**2)...` というのをどんどん続けて，だいたいの桁数の増え方の法則を考えよう。１画面を覆う数字の列になるのは，何回繰り返したあたりか。\n",
    "\n",
    "**練習問題** 今度は，`(2**(2**2)), (2**(2**(2**2))), (2**(2**(2**...2)))` というのをどんどん計算していくと、どれくらいのスピードで数が大きくなっていくか調べてみよう。2 の 10 乗は 1024 で，約 1000 である。確認しよう。それから，`(2**(2**(2**(2**2))))` は約何桁と考えられるか？\n",
    "\n",
    "Out[\\*] と星が表示されているのは、計算が止まっていない印です。上部メニューの■で止めてください。\n",
    "Out[\\*] の表示は変化しませんが，このボタンを押したら計算が止まっています。止まっているかどうかは，新しいセルで別の計算をさせてみたら分かります。うまく止まらなければ，カーネル（python のプログラムを実行しているプロセス）をリスタートする必要があります。停止ボタンの右の丸矢印ボタンをおしてください。"
   ]
  },
  {
   "cell_type": "code",
   "execution_count": 2,
   "metadata": {},
   "outputs": [],
   "source": [
    "#2**2\n",
    "#2**(2**2)\n",
    "#2**(2**(2**2))\n",
    "#2**(2**(2**(2**2)))\n",
    "#2**(2**(2**(2**(2**2))))\n",
    "\n",
    "# で始まる行はコメントです。\n",
    "# 一つづつ、上の式のコメントをはずして実行してみてください。"
   ]
  },
  {
   "cell_type": "markdown",
   "metadata": {},
   "source": [
    "## 変数\n",
    "\n",
    "**変数**とは，値を記憶する場所です。変数には，変数名という名前をつけます。\n",
    "日本語文字も大丈夫です。\n",
    "変数に値を記憶することを，**代入**といいます。代入は，\n",
    "\n",
    "```変数名 = 値```\n",
    "\n",
    "と，= を用いて行います。\n",
    "代入文は値を持たないので， 実行しても，Out[] という項目は現れません。\n",
    "\n",
    "変数名がプログラム中で現れると，それは，その変数に記憶された値を意味します。\n",
    "まだ代入が行われていない名前を使おうとすると，エラーが起こります。"
   ]
  },
  {
   "cell_type": "code",
   "execution_count": 1,
   "metadata": {},
   "outputs": [],
   "source": [
    "x = 7\n",
    "あ=2+3\n"
   ]
  },
  {
   "cell_type": "code",
   "execution_count": 2,
   "metadata": {},
   "outputs": [
    {
     "data": {
      "text/plain": [
       "7"
      ]
     },
     "execution_count": 2,
     "metadata": {},
     "output_type": "execute_result"
    }
   ],
   "source": [
    "x"
   ]
  },
  {
   "cell_type": "code",
   "execution_count": 3,
   "metadata": {},
   "outputs": [],
   "source": [
    "total = x+あ"
   ]
  },
  {
   "cell_type": "code",
   "execution_count": 4,
   "metadata": {},
   "outputs": [
    {
     "data": {
      "text/plain": [
       "5"
      ]
     },
     "execution_count": 4,
     "metadata": {},
     "output_type": "execute_result"
    }
   ],
   "source": [
    "あ\n"
   ]
  },
  {
   "cell_type": "code",
   "execution_count": 5,
   "metadata": {},
   "outputs": [
    {
     "data": {
      "text/plain": [
       "12"
      ]
     },
     "execution_count": 5,
     "metadata": {},
     "output_type": "execute_result"
    }
   ],
   "source": [
    "total"
   ]
  },
  {
   "cell_type": "code",
   "execution_count": 26,
   "metadata": {},
   "outputs": [],
   "source": [
    "print(notyet)"
   ]
  },
  {
   "cell_type": "markdown",
   "metadata": {},
   "source": [
    "このエラーは，notyet という名前が未知のものであることを言っています。変数名には，数字も含めることができますが，数字から始まる名前はつけられません。また，予約語(for などのプログラムで意味のある名前)をつけることもできません。大文字，小文字は区別されます。"
   ]
  },
  {
   "cell_type": "code",
   "execution_count": null,
   "metadata": {},
   "outputs": [],
   "source": []
  },
  {
   "cell_type": "markdown",
   "metadata": {
    "tags": []
   },
   "source": [
    "**練習問題** 変数 $n$ の値を適当に設定して、$(1+1/n)^n$ の値を求めよう。\n",
    "$n$ を大きくしていった時に、この値は何に近づくだろうか。\n",
    " "
   ]
  },
  {
   "cell_type": "markdown",
   "metadata": {},
   "source": [
    "プログラムでは，数だけではなく文字列も扱うことができます。文字列は，\n",
    "文字列は、\" と \" で囲んで書きます。"
   ]
  },
  {
   "cell_type": "code",
   "execution_count": 1,
   "metadata": {},
   "outputs": [
    {
     "name": "stdout",
     "output_type": "stream",
     "text": [
      "Hello\n",
      "Python\n",
      "Python\n",
      "Python\n"
     ]
    }
   ],
   "source": [
    "print(\"Hello\")\n",
    "h = \"Python\"\n",
    "print(h)\n",
    "print(h)\n",
    "print(h)"
   ]
  },
  {
   "cell_type": "markdown",
   "metadata": {},
   "source": [
    "print は，引数をたくさんとることができます。"
   ]
  },
  {
   "cell_type": "code",
   "execution_count": 253,
   "metadata": {},
   "outputs": [
    {
     "name": "stdout",
     "output_type": "stream",
     "text": [
      "10 20\n",
      "x= 10 , y= 20\n"
     ]
    }
   ],
   "source": [
    "x = 10\n",
    "y = 20\n",
    "print(x, y)\n",
    "print(\"x=\", x, \", y=\", y)"
   ]
  },
  {
   "cell_type": "markdown",
   "metadata": {},
   "source": [
    "すでに値を代入してある変数に新たな値を代入すると，記憶されている値がその値に置き換わります。\n"
   ]
  },
  {
   "cell_type": "code",
   "execution_count": 7,
   "metadata": {},
   "outputs": [
    {
     "name": "stdout",
     "output_type": "stream",
     "text": [
      "3\n",
      "5\n"
     ]
    }
   ],
   "source": [
    "x = 3\n",
    "print(x)\n",
    "x = x + 2\n",
    "print(x)"
   ]
  },
  {
   "cell_type": "markdown",
   "metadata": {},
   "source": [
    "= の左の x は今までの x の値で、それを用いて計算した値に x を更新していることに注意してください。\n",
    "このように、変数の値はプログラムの実行によって変化します。プログラミングでは，どのように変化するかを頭の中で追うことが必要です。"
   ]
  },
  {
   "cell_type": "markdown",
   "metadata": {},
   "source": [
    "Shift + return でなく、Ctrl + return を押すと、そのセルを実行後に次のセルに移りません。同じセルを繰り返し実行するのに便利です。\n",
    "次の2つ目のセルを繰り返し実行してみましょう。\n",
    "\n"
   ]
  },
  {
   "cell_type": "code",
   "execution_count": 41,
   "metadata": {},
   "outputs": [],
   "source": [
    "x = 1"
   ]
  },
  {
   "cell_type": "code",
   "execution_count": 95,
   "metadata": {
    "tags": []
   },
   "outputs": [
    {
     "name": "stdout",
     "output_type": "stream",
     "text": [
      "55\n"
     ]
    }
   ],
   "source": [
    "x = x + 1\n",
    "print(x)"
   ]
  },
  {
   "cell_type": "markdown",
   "metadata": {},
   "source": [
    "このような繰り返しは，キーボードを押しながら行うのではなく，プログラムの中で，「何回繰り返す」ということが書けたら便利ですね。\n",
    "そのような記法( for 文，while 文　) については，来週勉強します。"
   ]
  },
  {
   "cell_type": "code",
   "execution_count": null,
   "metadata": {},
   "outputs": [],
   "source": []
  },
  {
   "cell_type": "markdown",
   "metadata": {},
   "source": [
    "**問題** \n",
    "1. 0.01 を y という変数に代入しよう。\n",
    "2. y に 2.5y(1-y) の値を計算して代入し，y の値を表示しよう。これを一つのセルにして，繰り返し実行しよう。\n",
    "\n",
    "何回も繰り返すと，どういう値に近づいていくか，その値は，2.5とどういう関係にあるか，考えましょう。"
   ]
  },
  {
   "cell_type": "code",
   "execution_count": 40,
   "metadata": {},
   "outputs": [],
   "source": [
    "y=0.01"
   ]
  },
  {
   "cell_type": "code",
   "execution_count": 131,
   "metadata": {},
   "outputs": [
    {
     "name": "stdout",
     "output_type": "stream",
     "text": [
      "0.6000000000226585\n"
     ]
    }
   ],
   "source": [
    "y=2.5*y*(1-y)\n",
    "print(y)"
   ]
  },
  {
   "cell_type": "markdown",
   "metadata": {},
   "source": [
    "これを何回も繰り返した時の挙動は，2.5 の時と 3.5 の時とは違っていそうですよね。\n",
    "手作業で実行するのは大変なので，100 回繰り返すということを指定したり，その間の y の値の変化をグラフ化したりといったことは，コンピュータに自動的にさせるべきことです。そのようなプログラムの書き方について，これから学んでいきましょう。\n",
    "\n",
    "コンピュータにいくら計算させ，可視化してみても，この繰り返しでどういう挙動になっていくかは分かりません。それを知るには，「数学」が必要です。"
   ]
  },
  {
   "cell_type": "markdown",
   "metadata": {},
   "source": [
    "**練習問題**\n",
    "$n$ を1,2,3 と変化させていった時に，\n",
    " $y = (1 + \\frac{1}{n})^n$ の値がどう変化するかを，次のような形の表示で，Ctrl-return で次々と表示されるようにしよう。\n",
    "\n",
    "`n= 1 , y= 2`\n",
    "\n",
    "`n= 2 , y= 2.25`"
   ]
  },
  {
   "cell_type": "markdown",
   "metadata": {},
   "source": [
    "次のようにすれば，1 から n までの和の値を，次々と求めることができます。"
   ]
  },
  {
   "cell_type": "code",
   "execution_count": 132,
   "metadata": {
    "tags": []
   },
   "outputs": [],
   "source": [
    "n = 0\n",
    "sum = 0"
   ]
  },
  {
   "cell_type": "code",
   "execution_count": 142,
   "metadata": {},
   "outputs": [
    {
     "name": "stdout",
     "output_type": "stream",
     "text": [
      "n= 10 , sum= 55\n"
     ]
    }
   ],
   "source": [
    "n = n + 1\n",
    "sum = sum + n\n",
    "print(\"n=\", n, \", sum=\", sum)"
   ]
  },
  {
   "cell_type": "markdown",
   "metadata": {},
   "source": [
    "**練習問題** 2n+1 までの奇数の和を，n = 0,1,2,3,4,5,... に対して表示しよう。それから，奇数の和に関してどのようなことが推測できるか？"
   ]
  },
  {
   "cell_type": "markdown",
   "metadata": {},
   "source": [
    "**練習問題** 下の，テキストの作成のところまで勉強した後に，その推測の証明を，このセルの中の...に数式をうめて完成させよう。\n",
    "\n",
    "$$\\sum_{i=0}^{n}{i}= \\frac{n(n+1)}{2}$$\n",
    "である。よって，\n",
    "$$\\sum_{i=0}^{n}{(2i+1)}= ...$$"
   ]
  },
  {
   "cell_type": "markdown",
   "metadata": {},
   "source": [
    "**練習問題** 次の公式は、ライプニッツの公式として知られている。\n",
    "$$\n",
    "\\frac{\\pi}{4} = 1 - \\frac{1}{3} + \\frac{1}{5} - \\frac{1}{7} ...\n",
    "$$\n",
    "これを用いて，$\\pi$ の値を求めたい。\n",
    "同様にしてできるだろうか？"
   ]
  },
  {
   "cell_type": "markdown",
   "metadata": {
    "tags": []
   },
   "source": [
    "## グラフの描画\n",
    "\n",
    "このように、Jupyter Notebook の中で簡単な Python プログラムを書くことにより、数学のツールとして使えます。\n",
    "今度は関数のグラフを書いてみましょう。y= x^2 および、y=4x(1-x) のグラフを、[0,1] の区間を100 個に細分した点を選び、それぞれの x に対する値を計算して、それを結んで書いたものです。5、6 行目の x*x, 4*x*(1-x) と 4 行目の 0, 1, 100 でこれらを指定しています。\n"
   ]
  },
  {
   "cell_type": "code",
   "execution_count": 150,
   "metadata": {},
   "outputs": [
    {
     "data": {
      "image/png": "[encoded data removed]",
      "text/plain": [
       "<Figure size 432x288 with 1 Axes>"
      ]
     },
     "metadata": {
      "needs_background": "light"
     },
     "output_type": "display_data"
    }
   ],
   "source": [
    "%matplotlib inline\n",
    "import numpy as np\n",
    "import matplotlib.pyplot as plt\n",
    "x = np.linspace(0, 2*np.pi, 100)\n",
    "plt.plot(x, np.sin(x))\n",
    "#plt.plot(x, 4*x*(1-x))\n",
    "plt.show()\n"
   ]
  },
  {
   "cell_type": "markdown",
   "metadata": {
    "slideshow": {
     "slide_type": "-"
    }
   },
   "source": [
    "まだ、このプログラムの解説は行いません。仕組みは分からなくても、見よう見真似でいろんなグラフが書けるでしょう。\n",
    "\n",
    "**練習問題**　実際に、0, 1, 100を変えて、グラフがどう変化するか見てみましょう。\n",
    "\n",
    "`x*x`は、表示する関数の式です。ここを `np.sin(x)` にすると、sin 関数のグラフが書けます。np.sin は、python の numpyライブラリでの sin 関数の呼び名です。しかし、一部しか表示されていません。円周率は`np.pi` で表せるので、４行目の 1 のところを 2*np.pi に置き換えると。1 周期分の sin 関数のグラフを表示できます。\n",
    "\n",
    "**練習問題** sin 関数を1周期表示させましょう。また、10 周期表示させましょう。グラフがギザギザになったと思います。これは、この間に100 回しかサンプリング（値をとってくること）をしていないからです。サンプリングの回数を多くして、なめらかにしましょう。\n",
    "\n",
    "なぜ、このプログラムでグラフが書けるのかという仕組みは十分に複雑です。Python についての説明をもっと進めないと、理解できません。理解しないで真似で書いていたのでは、複雑なものは書けません。これ以上のグラフ描画は、授業が進んでからの楽しみにしましょう。"
   ]
  },
  {
   "cell_type": "markdown",
   "metadata": {},
   "source": [
    "---\n",
    "# テキストの作成\n",
    "\n",
    "プログラム作成モードのセルを選んだ状態では，上部のメニューは Code になっています。\n",
    "このメニューから，Markdown を選ぶと，Markdown によるテキストの入力モードに切り替わります。このモードで文章を入力して実行（Shift-return）を行うと，文章を作成することができます。\n",
    "GFM というMarkdown言語なので，通常のテキストよりも見栄えのよいページが作れます。\n",
    "\n",
    "Markdown のセルでダブルクリックをすると、入力モードに戻すことができます。\n",
    "\n",
    "**練習問題** このセルでダブルクリックを行い、入力モードにして少し書き換えてみよう。そして，実行してみよう。\n"
   ]
  },
  {
   "cell_type": "markdown",
   "metadata": {},
   "source": [
    "## Markdown(GFM)の使い方\n",
    "\n",
    "GFM を用いると，それなりに見栄えのある文章を簡単に作ることができます。\n",
    "\n",
    "**練習問題*** 新たにセルを作り、そこに「この授業で身に付けたいこと」というタイトルで文章を作ろう。\n",
    "また，Markdown に慣れるため，その他の文章を作ろう。\n",
    "\n",
    "少しだけマークダウンの説明します。\n",
    "\n",
    "# 大見出し\n",
    "\n",
    "## 中見出し\n",
    "\n",
    "### 小見出し\n",
    "\n",
    "## 番号リスト\n",
    "\n",
    "1. 番号をつけてリストを作る\n",
    "2. こんな感じ\n",
    "\n",
    "## リスト\n",
    "\n",
    "* リスト表示\n",
    "* リスト表示2\n",
    "  * リスト表示2.1\n",
    "  * リスト表示2.2\n",
    "    * リスト表示2.3\n",
    "    \n",
    "> 引用\n",
    "\n",
    "\n",
    "**太字にしたり** できます。表も作れます。\n",
    "\n",
    "|大学名|場所|\n",
    "|--|--|\n",
    "|京大|京都|\n",
    "|東大|東京|\n",
    "\n",
    "## 数式\n",
    "\n",
    "Latex の記法で数式を入れることができます。例えば、\n",
    "$\n",
    "X = \\int_0^\\infty{\\frac{1}{x^2}dx}\n",
    "$\n",
    "という具合に。また、独立行は、\n",
    "$$X = \\int_0^\\infty{\\frac{1}{x^2}dx}$$\n",
    "という具合にかけます。Latex の詳細はここでは述べませんが、理系では論文などの文章を書く標準的な道具です。\n",
    "\n",
    "\n",
    "\n",
    "他の便利な機能については、ネットで調べてください。\n",
    "------------------\n",
    "\n",
    "Qiita が、Markdown　を採用しているので、Qiita のページにたくさん情報があります。例えば、\n",
    "\n",
    "https://qiita.com/Qiita/items/c686397e4a0f4f11683d\n",
    "\n",
    "https://qiita.com/oreo/items/82183bfbaac69971917f\n",
    "\n",
    "などがあります。"
   ]
  },
  {
   "cell_type": "markdown",
   "metadata": {},
   "source": [
    "## 新たなノートブックの作成\n",
    "\n",
    "新しいノートブックは，上部 File メニューの New の Notebook を選ぶことにより作れます。\n",
    "Kernel を選ぶ画面が出ますが，ノートブックの中の Python プログラムは，この Jupyter Lab のプログラムが実行しているのではなく，Python のプログラムを実行する別のプロセスが走っていて，それにより実行されています。そのプロセスは，ネットワーク上の他のマシン（例えば，GPU などの高速にプログラムを走られる機能を持ったマシン）で走らせることもできます。\n",
    "\n",
    "ファイル名は，最初は Untitled になります。左の Files タグからファイル一覧を出して，その中で名前を変更しましょう。ここでは，今回の課題を提出するためのノートブックにします。そのために，授業回数と自分の名字を使ったファイル名前にしましょう。1回目の授業なので，1Tsuiki という具合です。同姓の人がいる時には，授業中に指示します。\n",
    "\n",
    "上部のファイルに対応したタグを選ぶことにより，ファイルの切り替えができます。また，\n",
    "2 つのファイルを同時に画面に表示することもできます。上部のタグを下にドラッグしてみてください。左右，上下などに切って表示ができるはずです。\n",
    "\n",
    "セルは、Edit メニューの中の項目や、上部のショートカットを用いると、カット、コピー、移動などが容易にできます。\n",
    "これは，ファイル間でもできます。\n",
    "\n",
    "**練習問題** 今日解いた練習問題（あるいは，それ以外のプログラムも可）の中のめぼしいものを集めて，課題提出のノートブックを作成して，それにコピーしよう。そして，PandA に今日の課題の提出先を作ってあるので，そこに提出しよう。"
   ]
  },
  {
   "cell_type": "markdown",
   "metadata": {},
   "source": [
    "# 遊びましょう\n",
    "\n",
    "Jupyter と Python を用いれば、いろんな遊びができることが分かったはずです。情報はネットからいくらでも得られます。自分で興味のあることを、試してください。"
   ]
  },
  {
   "cell_type": "markdown",
   "metadata": {},
   "source": [
    "\n",
    "毎回，その時間に行った課題を提出してもらいますが，それは，成績評価というよりも，みなさんの Motivation を維持するためです。提出物を実際に見て採点するとは限らないことを了解ください。私に伝えたいことは，Notebook ではなく，課題提出の PandA の画面に直接書き込んでください。\n",
    "\n",
    "練習問題の解答も，主だった問題については用意してあります。来週からは，それも参考にしてください。\n"
   ]
  },
  {
   "cell_type": "code",
   "execution_count": null,
   "metadata": {},
   "outputs": [],
   "source": []
  }
 ],
 "metadata": {
  "kernelspec": {
   "display_name": "Python 3",
   "language": "python",
   "name": "python3"
  },
  "language_info": {
   "codemirror_mode": {
    "name": "ipython",
    "version": 3
   },
   "file_extension": ".py",
   "mimetype": "text/x-python",
   "name": "python",
   "nbconvert_exporter": "python",
   "pygments_lexer": "ipython3",
   "version": "3.8.3"
  }
 },
 "nbformat": 4,
 "nbformat_minor": 4
}
