{
 "cells": [
  {
   "cell_type": "markdown",
   "metadata": {},
   "source": [
    "## map と filter\n",
    "\n",
    "\n",
    "    "
   ]
  },
  {
   "cell_type": "markdown",
   "metadata": {},
   "source": [
    "# データ型\n",
    "\n",
    "リスト以外の，様々なデータ型の使い方について学びます。"
   ]
  },
  {
   "cell_type": "markdown",
   "metadata": {},
   "source": [
    "## 文字列\n",
    "\n",
    "文字列も、[n] で n 番目の文字をとりだしたり、[a:b] というスライスをつけて部分文字列を取り出したりと、リストと同様の操作ができます。文字列に対しても for 文を使えます。これらは，sequence 型という，文字列やリストを含んだ型に対して適用可能です。"
   ]
  },
  {
   "cell_type": "code",
   "execution_count": 1,
   "metadata": {},
   "outputs": [
    {
     "name": "stdout",
     "output_type": "stream",
     "text": [
      "Python はいい言語\n",
      "P いい\n",
      "12\n",
      "P y t h o n   は い い 言 語 "
     ]
    }
   ],
   "source": [
    "u = \"Python はいい言語\"\n",
    "print(u)\n",
    "print(u[0], u[8:10])\n",
    "print(len(u))\n",
    "for i in u:\n",
    "    print(i,end=\" \")"
   ]
  },
  {
   "cell_type": "markdown",
   "metadata": {},
   "source": [
    "文字列どおしも+ で結合できます。また，* で繰り返しもできます。"
   ]
  },
  {
   "cell_type": "code",
   "execution_count": 4,
   "metadata": {},
   "outputs": [
    {
     "data": {
      "text/plain": [
       "\"今日の明日の明日の明日は'あさって'です。\""
      ]
     },
     "execution_count": 4,
     "metadata": {},
     "output_type": "execute_result"
    }
   ],
   "source": [
    "statement = \"今日\" + 3 * \"の明日\" + \"は'あさって'です。\"\n",
    "statement\n"
   ]
  },
  {
   "cell_type": "code",
   "execution_count": 6,
   "metadata": {},
   "outputs": [
    {
     "data": {
      "text/plain": [
       "'今のはうそ'"
      ]
     },
     "execution_count": 6,
     "metadata": {},
     "output_type": "execute_result"
    }
   ],
   "source": [
    "uso = statement[0] + statement[2]+ statement[11] + \"うそ\"\n",
    "uso"
   ]
  },
  {
   "cell_type": "markdown",
   "metadata": {},
   "source": [
    "print 文で、print した後に改行したくなければ、 print(a, end=',') という形で、終了文字を end= で指定します。 関数には，複数の引数を , で区切って指定することができます。 print 関数は，複数の引数が与えられれば，それらを全て表示します。"
   ]
  },
  {
   "cell_type": "code",
   "execution_count": 8,
   "metadata": {},
   "outputs": [
    {
     "name": "stdout",
     "output_type": "stream",
     "text": [
      "Pyt,h, on はいい言語!\n"
     ]
    }
   ],
   "source": [
    "print(u[0],end='')\n",
    "print(u[1],end='')\n",
    "print(u[2],end=',')\n",
    "print(u[3],end=', ')\n",
    "print(u[4:],end='!')\n",
    "print()   # 引数が何もなければ改行だけ"
   ]
  },
  {
   "cell_type": "markdown",
   "metadata": {},
   "source": [
    "\n",
    "**練習問題 a** 次のように表示するプログラムを書いてみよう。(いろんな方法を考えてみよう）\n",
    "```\n",
    "p\n",
    "py\n",
    "pyt\n",
    "pyth\n",
    "pytho\n",
    "python\n",
    "python \n",
    "python p\n",
    "python py\n",
    "python pyt\n",
    "python pyth\n",
    "python pytho\n",
    "python python\n",
    "```"
   ]
  },
  {
   "cell_type": "markdown",
   "metadata": {},
   "source": [
    "\n",
    "**練習問題 b** 次のように表示するプログラムを書いてみよう。\n",
    "```\n",
    " python python\n",
    "  ython python\n",
    "   thon python\n",
    "    hon python\n",
    "     on python\n",
    "      n python\n",
    "        python\n",
    "        python\n",
    "         ython\n",
    "          thon\n",
    "           hon\n",
    "            on\n",
    "             n\n",
    "```"
   ]
  },
  {
   "cell_type": "markdown",
   "metadata": {},
   "source": [
    "## タプル\n",
    "\n",
    "リストは要素の追加，削除ができました。それに対してタプルは，内容と長さの固定したデータの列を表現するものです。タプルにも，[] でインデックスを指定できますし，len, in などの，リストに対して適用した関数が適用できます。（これらの関数は，list，tuple，range を含んだシーケンス型に適用できます）\n"
   ]
  },
  {
   "cell_type": "code",
   "execution_count": 19,
   "metadata": {},
   "outputs": [
    {
     "name": "stdout",
     "output_type": "stream",
     "text": [
      "[('リンゴ', 100), ('みかん', 50), ('いちご', 200)]\n",
      "リンゴ\n",
      "6\n",
      "20\n"
     ]
    }
   ],
   "source": [
    "a = (\"リンゴ\", 100)\n",
    "o = (\"みかん\", 50)\n",
    "s = (\"いちご\", 200)\n",
    "fruits = [a, o, s]\n",
    "print(fruits)\n",
    "print(a[0])\n",
    "print(len((1,1,2,3,5,8)))\n",
    "print(sum((1,1,2,3,5,8)))\n"
   ]
  },
  {
   "cell_type": "markdown",
   "metadata": {},
   "source": [
    "タプルは，変数の列に代入できます。また，これを用いた for 文も書くことができます。"
   ]
  },
  {
   "cell_type": "code",
   "execution_count": 20,
   "metadata": {},
   "outputs": [
    {
     "name": "stdout",
     "output_type": "stream",
     "text": [
      "x=リンゴ,y=100\n",
      "100\n",
      "50\n",
      "200\n"
     ]
    }
   ],
   "source": [
    "x,y = a   #  (x, y) = a と書くこともできる\n",
    "print(\"x={},y={}\".format(x, y))\n",
    "for x,y in fruits:   #(x, y) と，変数のタプルにしてもよい\n",
    "    print(y)"
   ]
  },
  {
   "cell_type": "markdown",
   "metadata": {},
   "source": [
    "## タプルを用いた代入\n",
    "\n",
    "プログラム中で，, で並べられた値は，タプルとみなされます。\n"
   ]
  },
  {
   "cell_type": "code",
   "execution_count": 21,
   "metadata": {},
   "outputs": [
    {
     "name": "stdout",
     "output_type": "stream",
     "text": [
      "(3, 1, 4)\n"
     ]
    }
   ],
   "source": [
    "a = 3,1,4\n",
    "print(a)"
   ]
  },
  {
   "cell_type": "code",
   "execution_count": 22,
   "metadata": {},
   "outputs": [
    {
     "name": "stdout",
     "output_type": "stream",
     "text": [
      "1 2\n",
      "2 3\n"
     ]
    }
   ],
   "source": [
    "x = 1\n",
    "y = 2\n",
    "print(x,y)\n",
    "x,y = y,x+y\n",
    "print(x,y)"
   ]
  },
  {
   "cell_type": "markdown",
   "metadata": {},
   "source": [
    "これを普通の代入文で行おうとすると、次の様に書くしか方法はありません。\n",
    "```\n",
    "tmp = x\n",
    "x = y\n",
    "y = tmp + y\n",
    "```"
   ]
  },
  {
   "cell_type": "markdown",
   "metadata": {},
   "source": [
    "**練習問題6* ** フィボナッチ数列は、前の2つの数の和が次の数になる列です。\n",
    "```\n",
    "1, 1, 2, 3, 5, 8, ... \n",
    "```\n",
    "フィボナッチ数列を表示し続けるプログラムを書こう。（無限ループは，while(True): で作れます）"
   ]
  },
  {
   "cell_type": "markdown",
   "metadata": {},
   "source": [
    "**練習問題7* ** 二つの変数の値を入れ替えるのにも、この代入の仕組みは便利です。与えられた数のリストを、小さい順にならべかえる(すなわち，ソートする)手順を考えましょう。いろんな方法がありますが、2つの方法を考えましょう。\n",
    "\n",
    "(1) リストの最初の n 個の要素の中で一番大きな数を見つけて、それと n-1 番目の要素を入れ替える、それを、n を減らしながら n=1 まで行う。まず、リスト x と n をもらい、x の最初の n 個の要素の中の最大の値のインデックスを返す関数 findmax(x,n) を作ろう。\n",
    "\n",
    "(2) 隣り合う２つの要素を比べて，順番が逆ならひっくり返す。それをリストの最初から順番に行うと，一番大きな要素は最後にくるはずです。今度は，最後の要素を除いた部分に対してそれを行う，というのを，先頭の要素だけになるまで繰り返す。\n",
    "\n",
    "自分で並べ替えを行いたい時には， python の組み込み関数 sorted を用いましょう。"
   ]
  },
  {
   "cell_type": "code",
   "execution_count": 23,
   "metadata": {},
   "outputs": [
    {
     "data": {
      "text/plain": [
       "[2, 3, 3, 3, 4, 4, 10]"
      ]
     },
     "execution_count": 23,
     "metadata": {},
     "output_type": "execute_result"
    }
   ],
   "source": [
    "def findmax(x, n):   # 長さ n の範囲内の max の index を探す \n",
    "    u = 0  # max の index\n",
    "    for i in range(1,n):\n",
    "        if(x[u] < x[i]):\n",
    "            u = i\n",
    "    return(u) \n",
    "\n",
    "\n",
    "def sort(x):\n",
    "#    for n in range(len(x)): - 1, 0, -1):\n",
    "    n = len(x)\n",
    "    while(n > 0):\n",
    "        u = findmax(x, n)\n",
    "        x[u], x[n-1] = x[n-1], x[u]\n",
    "        n = n - 1\n",
    "\n",
    "x = [10,4,2,3,4,3,3]\n",
    "sort(x)\n",
    "x\n"
   ]
  },
  {
   "cell_type": "markdown",
   "metadata": {},
   "source": [
    "## タプルとリストなどとの変換\n",
    "\n",
    "型変換は，tuple, list 関数で行えます。"
   ]
  },
  {
   "cell_type": "code",
   "execution_count": 4,
   "metadata": {},
   "outputs": [
    {
     "name": "stdout",
     "output_type": "stream",
     "text": [
      "(0, 1, 2, 3, 4, 5, 6, 7, 8, 9)\n",
      "[0, 1, 2, 3, 4, 5, 6, 7, 8, 9]\n"
     ]
    }
   ],
   "source": [
    "a = tuple(range(10))\n",
    "print(a)\n",
    "print(list(a))\n"
   ]
  },
  {
   "cell_type": "markdown",
   "metadata": {},
   "source": [
    "要素が1つだけのタプルは，(1,) のように書かれます。"
   ]
  },
  {
   "cell_type": "code",
   "execution_count": 3,
   "metadata": {},
   "outputs": [
    {
     "name": "stdout",
     "output_type": "stream",
     "text": [
      "(7,) ()\n"
     ]
    }
   ],
   "source": [
    "a = tuple([7])\n",
    "b = tuple([])\n",
    "print(a,b)"
   ]
  },
  {
   "cell_type": "markdown",
   "metadata": {},
   "source": [
    "tuple もシーケンスです。[n] で要素を取り出したり，+ で2つの tuple をくっつけたりできます。"
   ]
  },
  {
   "cell_type": "code",
   "execution_count": 2,
   "metadata": {},
   "outputs": [
    {
     "data": {
      "text/plain": [
       "2"
      ]
     },
     "execution_count": 2,
     "metadata": {},
     "output_type": "execute_result"
    }
   ],
   "source": [
    "(1,2,3)[1]"
   ]
  },
  {
   "cell_type": "code",
   "execution_count": 3,
   "metadata": {},
   "outputs": [
    {
     "data": {
      "text/plain": [
       "(1, 2, 3, 1, 2, 3, 1, 2, 3, 1, 2, 3, 1, 2, 3, 4, 5)"
      ]
     },
     "execution_count": 3,
     "metadata": {},
     "output_type": "execute_result"
    }
   ],
   "source": [
    "(1,2,3)*5 + (4,5)"
   ]
  },
  {
   "cell_type": "markdown",
   "metadata": {},
   "source": [
    "tuple にアスタリスク(*)をつけると，その内容を , で区切って列としてを書いたのと同じになります。\n",
    "tuple を，複数の引数を持つ関数に渡したり，tuple に要素を付け加えるのに便利です。\n",
    "アスタリスクは，リストにもつけられます。"
   ]
  },
  {
   "cell_type": "code",
   "execution_count": 25,
   "metadata": {},
   "outputs": [
    {
     "name": "stdout",
     "output_type": "stream",
     "text": [
      "25\n"
     ]
    }
   ],
   "source": [
    "def fun(x,y):\n",
    "    print(x+y)\n",
    "    \n",
    "point = (10,15)\n",
    "# fun(point)  これは，エラー\n",
    "fun(*point)"
   ]
  },
  {
   "cell_type": "code",
   "execution_count": 26,
   "metadata": {},
   "outputs": [
    {
     "name": "stdout",
     "output_type": "stream",
     "text": [
      "25\n"
     ]
    }
   ],
   "source": [
    "point2 = [10,15]\n",
    "fun(*point2)"
   ]
  },
  {
   "cell_type": "code",
   "execution_count": 27,
   "metadata": {},
   "outputs": [
    {
     "data": {
      "text/plain": [
       "(5, 10, 15)"
      ]
     },
     "execution_count": 27,
     "metadata": {},
     "output_type": "execute_result"
    }
   ],
   "source": [
    "5,*point"
   ]
  },
  {
   "cell_type": "markdown",
   "metadata": {},
   "source": [
    "## enumerate と zip"
   ]
  },
  {
   "cell_type": "markdown",
   "metadata": {},
   "source": [
    "enumerate 関数で，リストから，インデックスと要素のタプルのリストを作れます。"
   ]
  },
  {
   "cell_type": "code",
   "execution_count": 28,
   "metadata": {},
   "outputs": [
    {
     "name": "stdout",
     "output_type": "stream",
     "text": [
      "0 太郎\n",
      "1 次郎\n",
      "2 花子\n"
     ]
    }
   ],
   "source": [
    "attendance = [\"太郎\", \"次郎\", \"花子\"]\n",
    "for i,a in enumerate(attendance):\n",
    "    print(i, a)"
   ]
  },
  {
   "cell_type": "markdown",
   "metadata": {},
   "source": [
    "zip 関数で，複数のリストから，tuple のリストを作ることができます。(これも，zip という iterator が返されるので，ここでは list に変換して表示しています。)"
   ]
  },
  {
   "cell_type": "code",
   "execution_count": 5,
   "metadata": {},
   "outputs": [
    {
     "data": {
      "text/plain": [
       "[(1, 4), (2, 5), (3, 6)]"
      ]
     },
     "execution_count": 5,
     "metadata": {},
     "output_type": "execute_result"
    }
   ],
   "source": [
    "list(zip([1,2,3], [4,5,6]))"
   ]
  },
  {
   "cell_type": "code",
   "execution_count": 29,
   "metadata": {},
   "outputs": [
    {
     "name": "stdout",
     "output_type": "stream",
     "text": [
      "5\n",
      "7\n",
      "9\n"
     ]
    }
   ],
   "source": [
    "for x, y in (zip([1,2,3],[4,5,6])):\n",
    "    print(x+y)"
   ]
  },
  {
   "cell_type": "markdown",
   "metadata": {},
   "source": [
    "**練習問題** 前回作った素数のリスト primes に対して，[(0, 2) (1, 3), (2, 5), ...] という形で，(n, n番目の素数) のタプルのリストを作ろう。また，前回作った素因数分解 factorize(x) の結果を，18 なら (1,2) ではなく= [(2,1), (3, 2)] と，素数と個数のペアのリストで表現するようにしよう。\n",
    "(1,2) のようなfactorize(x) の結果のリストをもらい，x の値を返す関数 defactorize を作ろう。"
   ]
  },
  {
   "cell_type": "code",
   "execution_count": 31,
   "metadata": {},
   "outputs": [
    {
     "data": {
      "text/plain": [
       "2700"
      ]
     },
     "execution_count": 31,
     "metadata": {},
     "output_type": "execute_result"
    }
   ],
   "source": [
    "primes = [2,3,5,7,11,13,17,19]\n",
    "def factorize2(x):\n",
    "    zip(factorize(x),primes)\n",
    "    \n",
    "def prod(x):\n",
    "    z = 1\n",
    "    for i in x:\n",
    "        z = z * i\n",
    "    return z\n",
    "\n",
    "    \n",
    "list(zip([2,3,2], primes))\n",
    "prod ([x**y for (x, y) in zip(primes, [2,3,2])])\n"
   ]
  },
  {
   "cell_type": "markdown",
   "metadata": {},
   "source": [
    "**練習問題8* ** リストに対して，差分リスト（最初の要素以外は，前の要素との差分の入ったリスト）を返す関数 diff(x) と，\n",
    "差分リストを元のリストに戻す関数 rdiff(x) を作ろう。diff は，zip を用いてスマートに書ける。rdiff は\n",
    "繰り返しで書く必要がある。差分リストの差分リストの... と 10 回繰り返したものを，元にもどして，同じになることを確認しよう。\n"
   ]
  },
  {
   "cell_type": "code",
   "execution_count": 32,
   "metadata": {},
   "outputs": [
    {
     "name": "stdout",
     "output_type": "stream",
     "text": [
      "[3, 4, 3, 12, 5, 1, 2, 3]\n",
      "[3, 1, -1, 9, -7, -4, 1, 1]\n",
      "[3, 4, 3, 12, 5, 1, 2, 3]\n"
     ]
    }
   ],
   "source": [
    "def diff(x):\n",
    "    return [a - b for a, b in zip(x, [0]+x)]\n",
    "\n",
    "def rdiff(x):\n",
    "    ret = []\n",
    "    sum = 0\n",
    "    for u in x:\n",
    "        sum += u\n",
    "        ret.append(sum)\n",
    "    return ret\n",
    "\n",
    "u = [3,4,3,12,5,1,2,3]\n",
    "v = diff(u)\n",
    "w = rdiff(v)\n",
    "print(u)\n",
    "print(v)\n",
    "print(w)\n",
    "    \n",
    "    \n",
    "    "
   ]
  },
  {
   "cell_type": "markdown",
   "metadata": {},
   "source": [
    "# 集合(set)\n",
    "\n",
    "https://docs.python.org/ja/3/library/stdtypes.html#set\n",
    "\n",
    "Python には，set 型という，集合を意味する型があります。集合もオブジェクトです。集合とリストの違いは，集合は，要素の重複や順序の概念がないことです。集合に要素を追加しても，それが存在しない場合のみ追加されます。また，和集合，積集合，差集合をとるなどの演算があります。その代わりに，リストのようにインデックスを用いてを指定して要素を指定することができません。詳しい説明は省略します。"
   ]
  },
  {
   "cell_type": "code",
   "execution_count": 33,
   "metadata": {},
   "outputs": [
    {
     "name": "stdout",
     "output_type": "stream",
     "text": [
      "{1, 2, 3}\n"
     ]
    },
    {
     "data": {
      "text/plain": [
       "{1, 2, 3}"
      ]
     },
     "execution_count": 33,
     "metadata": {},
     "output_type": "execute_result"
    }
   ],
   "source": [
    "a = set([1,2,3])\n",
    "print(a)\n",
    "a.add(3)\n",
    "a"
   ]
  },
  {
   "cell_type": "markdown",
   "metadata": {},
   "source": [
    "# dict(辞書)\n",
    "\n",
    "https://docs.python.org/ja/3/library/stdtypes.html#mapping-types-dict\n",
    "\n",
    "dict(辞書)は，キーと値とのペアの集まりを保持するオブジェクトです。値には，キーを用いてアクセスします。また，他の辞書を引数にupdate メソッドで値を更新します。キーには，通常，数，文字列などを用います。"
   ]
  },
  {
   "cell_type": "code",
   "execution_count": 38,
   "metadata": {},
   "outputs": [
    {
     "data": {
      "text/plain": [
       "{'apple': 100, 'grape': 200, 'orange': 50}"
      ]
     },
     "execution_count": 38,
     "metadata": {},
     "output_type": "execute_result"
    }
   ],
   "source": [
    "# d = dict() で空の辞書を作れます。\n",
    "d = {'apple': 100, 'grape': 200, 'orange': 50}\n",
    "d"
   ]
  },
  {
   "cell_type": "code",
   "execution_count": 39,
   "metadata": {},
   "outputs": [
    {
     "data": {
      "text/plain": [
       "100"
      ]
     },
     "execution_count": 39,
     "metadata": {},
     "output_type": "execute_result"
    }
   ],
   "source": [
    "d.get('apple')   #d['apple'] でも可能"
   ]
  },
  {
   "cell_type": "code",
   "execution_count": 40,
   "metadata": {},
   "outputs": [
    {
     "data": {
      "text/plain": [
       "True"
      ]
     },
     "execution_count": 40,
     "metadata": {},
     "output_type": "execute_result"
    }
   ],
   "source": [
    "'grape' in d"
   ]
  },
  {
   "cell_type": "code",
   "execution_count": 41,
   "metadata": {},
   "outputs": [
    {
     "data": {
      "text/plain": [
       "{'apple': 100, 'grape': 200, 'melon': 500, 'orange': 100}"
      ]
     },
     "execution_count": 41,
     "metadata": {},
     "output_type": "execute_result"
    }
   ],
   "source": [
    "d.update({'orange':100, 'melon':500})\n",
    "d"
   ]
  },
  {
   "cell_type": "code",
   "execution_count": 42,
   "metadata": {},
   "outputs": [
    {
     "data": {
      "text/plain": [
       "{'apple': 100, 'melon': 500, 'orange': 100}"
      ]
     },
     "execution_count": 42,
     "metadata": {},
     "output_type": "execute_result"
    }
   ],
   "source": [
    "del d['grape']\n",
    "d"
   ]
  },
  {
   "cell_type": "code",
   "execution_count": 43,
   "metadata": {},
   "outputs": [
    {
     "data": {
      "text/plain": [
       "{100: 30, 'apple': 100, 'orange': 100}"
      ]
     },
     "execution_count": 43,
     "metadata": {},
     "output_type": "execute_result"
    }
   ],
   "source": [
    "d.update({100:30})\n",
    "del d['melon']\n",
    "d"
   ]
  },
  {
   "cell_type": "markdown",
   "metadata": {},
   "source": [
    "**練習問題** 文字列オブジェクトのsplit() メソッドは，空白文字で区切ってできた文字列のリストを返す。文字列 s を単語に分けて，各単語の出現回数を辞書に格納するプログラム countwords(s)  を作ろう。文字列には，lower() という，\n",
    "\n",
    "文字列 chars に含まれる文字を区切り文字にするには、re ライブラリの split を用いる。すなわち、ファイルの先頭で import re とした上で、re.split([chars], s) を用いる。例えば、コンマ(,)ピリオド(.) 改行文字(\\n) 空白文字を区切りにしたければ、re.split('[,.\\n ]', s) とする。"
   ]
  },
  {
   "cell_type": "code",
   "execution_count": 66,
   "metadata": {},
   "outputs": [
    {
     "data": {
      "text/plain": [
       "[('', 3),\n",
       " ('a', 2),\n",
       " ('wonderful', 2),\n",
       " ('this', 1),\n",
       " ('is', 1),\n",
       " ('day', 1),\n",
       " ('boy', 1),\n",
       " ('enjoyed', 1),\n",
       " ('occasion', 1)]"
      ]
     },
     "execution_count": 66,
     "metadata": {},
     "output_type": "execute_result"
    }
   ],
   "source": [
    "import re\n",
    "def countwords(s):\n",
    "#    words = s.split()\n",
    "    words = re.split('[,.\\n ]', s)\n",
    "    d = dict()\n",
    "    for ww in words:\n",
    "        w = ww.lower()\n",
    "        if (ww in d):\n",
    "            d.update({w:d.get(w)+1})\n",
    "        else:\n",
    "            d.update({w:1})\n",
    "    return sorted(d.items(), key=(lambda x:x[1]), reverse=True)\n",
    "\n",
    "countwords(\"This is a wonderful day.  A boy enjoyed a wonderful occasion.\")"
   ]
  },
  {
   "cell_type": "markdown",
   "metadata": {},
   "source": [
    "### 複素数\n",
    "\n",
    "Python では、複素数も扱えます。複素数は、x + yj と、素数単位を j で表現します。"
   ]
  },
  {
   "cell_type": "code",
   "execution_count": 1,
   "metadata": {},
   "outputs": [
    {
     "data": {
      "text/plain": [
       "(4+3j)"
      ]
     },
     "execution_count": 1,
     "metadata": {},
     "output_type": "execute_result"
    }
   ],
   "source": [
    "4 + 3j"
   ]
  },
  {
   "cell_type": "code",
   "execution_count": 7,
   "metadata": {},
   "outputs": [
    {
     "data": {
      "text/plain": [
       "(-1+0j)"
      ]
     },
     "execution_count": 7,
     "metadata": {},
     "output_type": "execute_result"
    }
   ],
   "source": [
    "1j*1j   #i^2 = -1 "
   ]
  },
  {
   "cell_type": "code",
   "execution_count": 6,
   "metadata": {},
   "outputs": [
    {
     "data": {
      "text/plain": [
       "2j"
      ]
     },
     "execution_count": 6,
     "metadata": {},
     "output_type": "execute_result"
    }
   ],
   "source": [
    "(1+1j)*(1+1j) #(1+i)^2 = 2i"
   ]
  },
  {
   "cell_type": "code",
   "execution_count": 15,
   "metadata": {},
   "outputs": [
    {
     "data": {
      "text/plain": [
       "(-1+1.2246467991473532e-16j)"
      ]
     },
     "execution_count": 15,
     "metadata": {},
     "output_type": "execute_result"
    }
   ],
   "source": [
    "import math\n",
    "math.e**((math.pi)*1j) #オイラーの公式"
   ]
  },
  {
   "cell_type": "markdown",
   "metadata": {},
   "source": [
    "複素数については、複素平面という形で後で扱います。"
   ]
  },
  {
   "cell_type": "markdown",
   "metadata": {},
   "source": [
    "# 練習問題"
   ]
  },
  {
   "cell_type": "code",
   "execution_count": null,
   "metadata": {},
   "outputs": [],
   "source": []
  }
 ],
 "metadata": {
  "kernelspec": {
   "display_name": "Python 3",
   "language": "python",
   "name": "python3"
  },
  "language_info": {
   "codemirror_mode": {
    "name": "ipython",
    "version": 3
   },
   "file_extension": ".py",
   "mimetype": "text/x-python",
   "name": "python",
   "nbconvert_exporter": "python",
   "pygments_lexer": "ipython3",
   "version": "3.6.4"
  }
 },
 "nbformat": 4,
 "nbformat_minor": 2
}
