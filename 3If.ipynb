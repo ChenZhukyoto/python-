{
 "cells": [
  {
   "cell_type": "markdown",
   "metadata": {},
   "source": [
    "# 第3回　制御構文，メソッド\n",
    "\n",
    "前回は，for 文による繰り返しについて学びました。今回は、if 文，while 文などの，他の実行の流れを制御する方法について学びましょう。 準備として、乱数モジュールと bool 値について学びます。\n",
    "\n",
    "## モジュールと乱数\n",
    "\n",
    "呼び出すたびにランダムな値を返してくれる関数は，実用上も，おもしろい例題を考える上でも有用です。\n",
    "乱数を返す関数は，random というモジュールに納められています。モジュールは，他のプログラムから呼び出される\n",
    "ことを目的に書かれたプログラムで，そのプログラムの書かれたファイル名がモジュール名になります。それには、python　システムに付随して最初から提供されているもの，他の人が作成して公開しているもの，そして，自分で作るものがあります。\n",
    "random モジュールは，python システムと共に最初から提供されているモジュールです。\n",
    "\n",
    "モジュールを利用するには，最初に `import モジュール名` という宣言でそのライブラリを読み込む必要があります。\n",
    "また，モジュール内の関数は，`モジュール名.関数名`という名前で利用します。\n",
    "random モジュールには，次のような関数が定義されています。\n",
    "```\n",
    "randrange(to)  0 以上 to 未満の整数の乱数を返す。\n",
    "randrange(from, to)  from 以上 to 未満の整数の乱数を返す。\n",
    "uniform(from, to)    from 以上 to 以下の一様な実数の乱数を返す\n",
    "```"
   ]
  },
  {
   "cell_type": "code",
   "execution_count": 3,
   "metadata": {},
   "outputs": [
    {
     "name": "stdout",
     "output_type": "stream",
     "text": [
      "8.992227220627381\n",
      "1\n",
      "7\n",
      "0\n",
      "2\n",
      "4\n",
      "2\n",
      "5\n",
      "3\n",
      "1\n",
      "5\n"
     ]
    }
   ],
   "source": [
    "import random\n",
    "print(random.uniform(0,10))\n",
    "for i in range(10):\n",
    "    print(random.randrange(10))\n",
    "          "
   ]
  },
  {
   "cell_type": "markdown",
   "metadata": {},
   "source": [
    "## bool 型\n",
    "\n",
    "**bool** は，**真偽値**を表す型です。真偽値とは，True と False の２つの値です。例えば，2 < 3 は正しいので True ですが，2 > 3 は間違いなので False です。このように，< は，数を２つもらい，真偽値を返す演算子です。同様の演算子に，== (両辺が同じものかどうか調べる)，<= (小なりイコール) があります。\n"
   ]
  },
  {
   "cell_type": "code",
   "execution_count": 4,
   "metadata": {},
   "outputs": [
    {
     "data": {
      "text/plain": [
       "True"
      ]
     },
     "execution_count": 4,
     "metadata": {},
     "output_type": "execute_result"
    }
   ],
   "source": [
    "2==2"
   ]
  },
  {
   "cell_type": "code",
   "execution_count": 10,
   "metadata": {},
   "outputs": [],
   "source": [
    "2 > 3"
   ]
  },
  {
   "cell_type": "markdown",
   "metadata": {},
   "source": [
    "リストがある値を含んでいるかどうかは、in という演算子で調べることができます。"
   ]
  },
  {
   "cell_type": "code",
   "execution_count": 11,
   "metadata": {},
   "outputs": [
    {
     "data": {
      "text/plain": [
       "True"
      ]
     },
     "execution_count": 11,
     "metadata": {},
     "output_type": "execute_result"
    }
   ],
   "source": [
    "3 in [1,2,3,4,5]"
   ]
  },
  {
   "cell_type": "code",
   "execution_count": 13,
   "metadata": {},
   "outputs": [
    {
     "data": {
      "text/plain": [
       "False"
      ]
     },
     "execution_count": 13,
     "metadata": {},
     "output_type": "execute_result"
    }
   ],
   "source": [
    "6 in range(1,10,2)"
   ]
  },
  {
   "cell_type": "markdown",
   "metadata": {},
   "source": [
    "真偽値をもらい真偽値を返す演算子として`and`と`or`があります。\n",
    "```\n",
    "   True and True = True\n",
    "   True and False = False\n",
    "   False and True = False\n",
    "   False and False = False\n",
    "```\n",
    "です。また、\n",
    "```\n",
    "   True or True = True\n",
    "   True or False = True\n",
    "   False or True = True\n",
    "   False or False = False\n",
    "```\n",
    "です。よって、条件を二つ `and` でつなぐと両方なりたつという条件を意味する式が、\n",
    " `or` でつないぐと，少なくともどちらか一方が成り立つという条件を意味する式が作れます。\n",
    "`A and B` を `A & B`, `A or B` を `A | B` と書くこともできます。また、否定を表す not\n",
    "という 1 引数の演算子もあります。\n",
    "```\n",
    "    not True = False\n",
    "    not False = True\n",
    "```\n",
    "また、`!=` は` == ` の否定を表します。 つまり、 `x != y` は` not (x == y)` です。\n"
   ]
  },
  {
   "cell_type": "code",
   "execution_count": 5,
   "metadata": {},
   "outputs": [
    {
     "data": {
      "text/plain": [
       "True"
      ]
     },
     "execution_count": 5,
     "metadata": {},
     "output_type": "execute_result"
    }
   ],
   "source": [
    "x = 2\n",
    "y = 4\n",
    "(x * x == y) and (x > 0)  # x*2=y であり，かつ，x > 0"
   ]
  },
  {
   "cell_type": "code",
   "execution_count": 9,
   "metadata": {},
   "outputs": [
    {
     "data": {
      "text/plain": [
       "False"
      ]
     },
     "execution_count": 9,
     "metadata": {},
     "output_type": "execute_result"
    }
   ],
   "source": [
    "(x * x == y) and (x < 0)"
   ]
  },
  {
   "cell_type": "code",
   "execution_count": 10,
   "metadata": {},
   "outputs": [
    {
     "data": {
      "text/plain": [
       "True"
      ]
     },
     "execution_count": 10,
     "metadata": {},
     "output_type": "execute_result"
    }
   ],
   "source": [
    "(x * x == y) or (x in [1,3,5])\n"
   ]
  },
  {
   "cell_type": "code",
   "execution_count": 8,
   "metadata": {},
   "outputs": [
    {
     "data": {
      "text/plain": [
       "False"
      ]
     },
     "execution_count": 8,
     "metadata": {},
     "output_type": "execute_result"
    }
   ],
   "source": [
    "not (x == 2)"
   ]
  },
  {
   "cell_type": "markdown",
   "metadata": {},
   "source": [
    "**練習問題** 次の条件を，式で表そう。変数の値をいろいろ設定して，正しさを確認しよう。\n",
    "1.  x は 2 以外の偶数。\n",
    "2.  mon は，小の月 (2, 4, 6, 9, 11)。\n",
    "3.  y 年は，閏年。（4の倍数であり 100 の倍数ではない年。ただし，例外的に，400 の倍数は閏年。）\n",
    "4.  点 (x, y) は，(200, 200) を左上にした，(100, 50) の長方形内にある。\n",
    "5.  リスト l の長さは 5 以上で，3 を要素に含む。"
   ]
  },
  {
   "cell_type": "markdown",
   "metadata": {},
   "source": [
    "## if 文\n",
    "\n",
    "if 文を用いると，ある条件が満たされた時だけ処理を行うことが可能になります。if 文は，以下のように書きます。\n",
    "```\n",
    "if(条件式):\n",
    "     本体\n",
    "```\n",
    "\n",
    "本体のところは，4 文字インデントします。同じだけインデントされた範囲が，本体になります。"
   ]
  },
  {
   "cell_type": "code",
   "execution_count": 12,
   "metadata": {},
   "outputs": [
    {
     "name": "stdout",
     "output_type": "stream",
     "text": [
      "0 8\n",
      "1 8\n",
      "4 7\n",
      "9 9\n"
     ]
    }
   ],
   "source": [
    "for i in range(10):           # 10 回繰り返す\n",
    "    x = random.randrange(10)  # 10 までの乱数をとってきて\n",
    "    if(x >= 7):               # その値が 7 以上なら　　　\n",
    "        print(i, x)           # i と x を表示する\n",
    "        \n",
    "# 何回も実行してみよう"
   ]
  },
  {
   "cell_type": "markdown",
   "metadata": {},
   "source": [
    "If 文は，条件を満たさなかった時に実行することも書いた\n",
    "\n",
    "```\n",
    "if(条件式):\n",
    "     本体1\n",
    "else:\n",
    "     本体2\n",
    "```\n",
    "という形もあります。"
   ]
  },
  {
   "cell_type": "code",
   "execution_count": 13,
   "metadata": {},
   "outputs": [
    {
     "name": "stdout",
     "output_type": "stream",
     "text": [
      "はずれ\n",
      "はずれ\n",
      "あたり\n",
      "はずれ\n",
      "はずれ\n",
      "はずれ\n",
      "あたり\n",
      "あたり\n",
      "あたり\n",
      "はずれ\n"
     ]
    }
   ],
   "source": [
    "for i in range(10):\n",
    "    x = random.randrange(10)\n",
    "    if(x >= 7):\n",
    "        print(\"あたり\")\n",
    "    else:\n",
    "        print(\"はずれ\")"
   ]
  },
  {
   "cell_type": "markdown",
   "metadata": {},
   "source": [
    "さらに，次の形で，いくつかの条件のどれが成り立つかで分岐もできます。\n",
    "```\n",
    "if(条件式1):\n",
    "     条件式1が成り立つ時に実行する内容\n",
    "elif(条件式2):\n",
    "     条件式1は成り立たないが条件式2は成り立つ時に実行する内容\n",
    "elif(条件式3):\n",
    "     ...\n",
    "...\n",
    "else:\n",
    "    どれも成り立たない時に実行する内容\n",
    "```"
   ]
  },
  {
   "cell_type": "markdown",
   "metadata": {},
   "source": [
    "**練習問題1* ** 与えられた数が素数であるかどうかを bool 型の値として返す関数 prime を作ろう。\n",
    "素数とは，2 以上でその数未満である約数を持たない数である。約数かどうかは，割ったあまり (`%` 演算子) が 0 かどうかで判断できる。"
   ]
  },
  {
   "cell_type": "markdown",
   "metadata": {},
   "source": [
    "**練習問題2*** 2 から x までの素数の個数を返す関数 numprime(x) を作ろう。"
   ]
  },
  {
   "cell_type": "markdown",
   "metadata": {},
   "source": [
    "**練習問題3* **: 100 未満の $n$ をもらい、0 以上 10 未満の実数の乱数を 10000 回発生して、その数の 2 乗が n 以下となる回数を求めることにより、$\\sqrt{n}$ の近似値を求めるプログラムを作ろう。"
   ]
  },
  {
   "cell_type": "markdown",
   "metadata": {},
   "source": [
    "**練習問題4* **: 0 以上 1 未満の乱数 x, y を生成し、$x^2 + y^2 < 1$ となる確率を求めることにより、円周率の近似値を求めるプログラムを作成しよう。"
   ]
  },
  {
   "cell_type": "markdown",
   "metadata": {},
   "source": [
    "**練習問題5* ** 先週の ライプニッツの公式を用いてπの近似値を求めるプログラムを、if 文で書いたらどうなるか。"
   ]
  },
  {
   "cell_type": "markdown",
   "metadata": {},
   "source": [
    "# while 文 \n",
    "\n",
    "ある条件が満たされる間，あることを繰り返すということを表現するのに，while 文を用います。\n",
    "1 から 100 までの和を求めるプログラムを while 文を用いて書いたものです。"
   ]
  },
  {
   "cell_type": "code",
   "execution_count": 14,
   "metadata": {},
   "outputs": [
    {
     "name": "stdout",
     "output_type": "stream",
     "text": [
      "4950\n"
     ]
    }
   ],
   "source": [
    "i = 0\n",
    "x = 0\n",
    "while (i < 100):\n",
    "    x = x + i\n",
    "    i = i + 1 \n",
    "print(x)\n"
   ]
  },
  {
   "cell_type": "markdown",
   "metadata": {},
   "source": [
    "このように、同じプログラムでも、for 文で書いたり while 文で書いたりできます。繰り返し回数の上限を特に定めない繰り返しは、while 文で書く必要があります。その場合には、無限ループに陥る可能性があります。"
   ]
  },
  {
   "cell_type": "code",
   "execution_count": 19,
   "metadata": {},
   "outputs": [],
   "source": [
    "def forever():\n",
    "    i = 0\n",
    "    while (i < 100):\n",
    "        i = i-1\n",
    "    return(10000)  # この文は実行されない\n",
    "\n",
    "# forever()  # コメントをはずして実行してみよう\n",
    "# 無限ループに陥ったプログラムは、Ctrl-C で終了する。\n"
   ]
  },
  {
   "cell_type": "code",
   "execution_count": 22,
   "metadata": {},
   "outputs": [
    {
     "data": {
      "text/plain": [
       "20"
      ]
     },
     "execution_count": 22,
     "metadata": {},
     "output_type": "execute_result"
    }
   ],
   "source": [
    "def f(x):\n",
    "    return(x**2 - 2)\n",
    "def df(x):\n",
    "    return(2*x)"
   ]
  },
  {
   "cell_type": "markdown",
   "metadata": {},
   "source": [
    "**練習問題7* ** 数 n をもらい、n より大きな素数の中でもっとも小さなものを返す関数を作ろう。"
   ]
  },
  {
   "cell_type": "markdown",
   "metadata": {},
   "source": [
    "**練習問題8* ** (コラッツ予想) 次の関数 f を考える\n",
    "$$\n",
    "f(n) = \\left\\{ \\begin{array}{ll}3n-1 & \\mbox{($n$ が奇数の時)}\\\\\n",
    "                              n/2 & \\mbox{($n$ が偶数の時)}\\end{array}\\right.\n",
    "$$\n",
    "どんな正の整数 $n$ から始めても、n, f(n), f(f(n)), ... を順に計算していくと、1 にたどり着くと予想されている。 \n",
    "\n",
    "1. n をもらい、n, f(n), f(f(n)),... を 1 にたどり着くまで表示するプログラムを作ろう。\n",
    "1. n = 27 で確かめてみよ。\n",
    "1. n をもらい、この列が 1 になるまでの長さを求めるプログラムを書こう。\n",
    "1. それを n=1, 2, 3, 4, ... と繰り返していき、今まで現れた最長の長さ以上の長さが得られた時には、その n の値と、その時の長さを表示するプログラムを作ろう。\n"
   ]
  },
  {
   "cell_type": "markdown",
   "metadata": {},
   "source": [
    "## break 文"
   ]
  },
  {
   "cell_type": "markdown",
   "metadata": {},
   "source": [
    "for や while などの繰り返し文から、繰り返しの途中でぬけるには、break 文を用います。\n",
    "break を実行すると、break を含む一番小さい for 文や while 文の実行を終了します。\n",
    "次のプログラムは、$0 \\leq x < 100$ の範囲内で、 $x^2 -6 x - 72 = 0$ の整数解を\n",
    "一つ求めるものです。\n"
   ]
  },
  {
   "cell_type": "code",
   "execution_count": 4,
   "metadata": {},
   "outputs": [
    {
     "name": "stdout",
     "output_type": "stream",
     "text": [
      "12\n"
     ]
    }
   ],
   "source": [
    "def hoteishiki():\n",
    "    xx = -1\n",
    "    for x in range(100):\n",
    "        if(x**2 - 6*x - 72 == 0):\n",
    "            xx = x\n",
    "            break\n",
    "    if(xx == -1):\n",
    "        print(\"解なし\")\n",
    "    else:\n",
    "        print(xx)\n",
    "\n",
    "hoteishiki()        "
   ]
  },
  {
   "cell_type": "markdown",
   "metadata": {},
   "source": [
    "continue 文を実行すると，その後の部分を実行せずに，ループの先頭に戻ります。上のプログラムに，次のように continue 文を追加するｔ，奇数のみについて探すようになります。"
   ]
  },
  {
   "cell_type": "code",
   "execution_count": 2,
   "metadata": {},
   "outputs": [
    {
     "name": "stdout",
     "output_type": "stream",
     "text": [
      "解なし\n"
     ]
    }
   ],
   "source": [
    "def hoteishiki():\n",
    "    xx = -1\n",
    "    for x in range(100):\n",
    "        if (x % 2 == 0):\n",
    "            continue\n",
    "        if(x**2 - 6*x - 72 == 0):\n",
    "            xx = x\n",
    "            break\n",
    "    if(xx == -1):\n",
    "        print(\"解なし\")\n",
    "    else:\n",
    "        print(xx)\n",
    "\n",
    "hoteishiki()        "
   ]
  },
  {
   "cell_type": "code",
   "execution_count": null,
   "metadata": {},
   "outputs": [],
   "source": []
  },
  {
   "cell_type": "code",
   "execution_count": null,
   "metadata": {},
   "outputs": [],
   "source": []
  }
 ],
 "metadata": {
  "kernelspec": {
   "display_name": "Python 3",
   "language": "python",
   "name": "python3"
  },
  "language_info": {
   "codemirror_mode": {
    "name": "ipython",
    "version": 3
   },
   "file_extension": ".py",
   "mimetype": "text/x-python",
   "name": "python",
   "nbconvert_exporter": "python",
   "pygments_lexer": "ipython3",
   "version": "3.6.4"
  }
 },
 "nbformat": 4,
 "nbformat_minor": 2
}
