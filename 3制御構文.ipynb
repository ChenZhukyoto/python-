{
 "cells": [
  {
   "cell_type": "markdown",
   "metadata": {},
   "source": [
    "# 第3回　制御構文，辞書\n",
    "\n",
    "前回は，for 文による繰り返しについて学びました。他のif 文，while 文などの，他の実行の流れを制御する方法について学びましょう。\n",
    "\n",
    "## モジュールと乱数\n",
    "\n",
    "呼び出すたびにランダムな値を返してくれる関数は，実用上も，おもしろい例題を考える上でも有用です。\n",
    "乱数を関数は，random というモジュールに納められています。モジュールは，他のプログラムから呼び出される\n",
    "ことを目的に書かれたプログラムで，そのプログラムの書かれたファイル名がモジュール名になります。python　システムに最初から提供されているものも，他の人が作成して公開しているもの，そして，自分で作るものがあります。\n",
    "random モジュールは，python システムと共に最初から提供されているモジュールです。\n",
    "\n",
    "モジュールを利用するには，最初に `import モジュール名` という宣言でそのライブラリを読み込む必要があります。\n",
    "また，モジュール内の関数は，`モジュール名.関数名`という名前で利用します。\n",
    "random モジュールには，次のような関数が定義されています。\n",
    "```\n",
    "randrange(to)  0 以上 to 未満の整数の乱数を返す。\n",
    "randrange(from, to)  from 以上 to 未満の整数の乱数を返す。\n",
    "uniform(from, to)    from 以上 to 以下の一様な実数の乱数を返す\n",
    "```"
   ]
  },
  {
   "cell_type": "code",
   "execution_count": 33,
   "metadata": {},
   "outputs": [
    {
     "name": "stdout",
     "output_type": "stream",
     "text": [
      "6.9301906878633845\n",
      "4\n",
      "2\n",
      "5\n",
      "6\n",
      "8\n",
      "9\n",
      "3\n",
      "9\n",
      "5\n",
      "6\n"
     ]
    }
   ],
   "source": [
    "import random\n",
    "print(random.uniform(0,10))\n",
    "for i in range(10):\n",
    "    print(random.randrange(10))\n",
    "          "
   ]
  },
  {
   "cell_type": "markdown",
   "metadata": {},
   "source": [
    "## if 文\n",
    "\n",
    "if 文を用いると，ある条件が満たされた時だけ処理を行うことが可能になります。if 文は，以下のように書きます。\n",
    "\n",
    "`if(条件式):\n",
    "     本体`\n",
    "     \n",
    "本体のところは，4 文字インデントします。同じだけインデントされた範囲が，本体になります。"
   ]
  },
  {
   "cell_type": "code",
   "execution_count": 37,
   "metadata": {},
   "outputs": [
    {
     "name": "stdout",
     "output_type": "stream",
     "text": [
      "0 8\n",
      "3 9\n",
      "4 8\n",
      "5 8\n",
      "6 7\n"
     ]
    }
   ],
   "source": [
    "for i in range(10):\n",
    "    x = random.randrange(10)\n",
    "    if(x >= 7):\n",
    "        print(i, x)\n"
   ]
  },
  {
   "cell_type": "markdown",
   "metadata": {},
   "source": [
    "条件式のところには，bool 型の式がきます。，<, <=, ==(等しい), !=(等しくない) などの数の比較で作られたもの，True, False の他に，条件を二つ `&` でつないで両方なりたつこと, `|` でつないで，少なくともどちらか一方が成り立つことを表す式が作れます。また，x in y で，リスト y に x が含まれることを判定できます。"
   ]
  },
  {
   "cell_type": "code",
   "execution_count": 44,
   "metadata": {},
   "outputs": [
    {
     "data": {
      "text/plain": [
       "False"
      ]
     },
     "execution_count": 44,
     "metadata": {},
     "output_type": "execute_result"
    }
   ],
   "source": [
    "x = 2\n",
    "y = 4\n",
    "(x * x == y) & (x > 0)"
   ]
  },
  {
   "cell_type": "code",
   "execution_count": 40,
   "metadata": {},
   "outputs": [
    {
     "data": {
      "text/plain": [
       "False"
      ]
     },
     "execution_count": 40,
     "metadata": {},
     "output_type": "execute_result"
    }
   ],
   "source": [
    "(x * x == y) & (x < 0)"
   ]
  },
  {
   "cell_type": "code",
   "execution_count": 41,
   "metadata": {},
   "outputs": [
    {
     "data": {
      "text/plain": [
       "True"
      ]
     },
     "execution_count": 41,
     "metadata": {},
     "output_type": "execute_result"
    }
   ],
   "source": [
    "(x * x == y) | (x < 0)"
   ]
  },
  {
   "cell_type": "markdown",
   "metadata": {},
   "source": [
    "**練習問題** 次の条件を，式で表せ。\n",
    "1.  x は 2 以外の偶数。\n",
    "2.  mon は，小の月 (2, 4, 6, 9, 11)。\n",
    "3.  y 年は，閏年。（4の倍数であり 100 の倍数ではない年。ただし，例外的に，400 の倍数は閏年。）\n",
    "4.  点 (x, y) は，(200, 200) を左上にした，(100, 50) の長方形内にある。\n",
    "5.  リスト l の長さは 5 以上で，3 を要素に含む。"
   ]
  },
  {
   "cell_type": "markdown",
   "metadata": {},
   "source": [
    "If 文は，条件を満たさなかった時に実行することも書いた\n",
    "\n",
    "```\n",
    "if(条件式):\n",
    "     本体1\n",
    "else:\n",
    "     本体2\n",
    "```\n",
    "という形もあります。さらに，次の形で，いくつかの条件のどれが成り立つかで分岐もできます。\n",
    "```\n",
    "if(条件式1):\n",
    "     条件式1が成り立つ時に実行する内容\n",
    "elif(条件式2):\n",
    "     条件式1は成り立たないが条件式2は成り立つ時に実行する内容\n",
    "elif(条件式3):\n",
    "     ...\n",
    "...\n",
    "else:\n",
    "    どれも成り立たない時に実行する内容\n",
    "```"
   ]
  },
  {
   "cell_type": "markdown",
   "metadata": {},
   "source": [
    "**練習問題** リストをもらい，"
   ]
  },
  {
   "cell_type": "code",
   "execution_count": 1,
   "metadata": {},
   "outputs": [
    {
     "data": {
      "text/plain": [
       "2450"
      ]
     },
     "execution_count": 1,
     "metadata": {},
     "output_type": "execute_result"
    }
   ],
   "source": [
    "def evensum(n):\n",
    "    s = 0;\n",
    "    for i in range(n):\n",
    "        if(i % 2 == 0):\n",
    "            s += i\n",
    "    return s\n",
    "\n",
    "evensum(100)\n"
   ]
  },
  {
   "cell_type": "code",
   "execution_count": null,
   "metadata": {},
   "outputs": [],
   "source": []
  },
  {
   "cell_type": "code",
   "execution_count": null,
   "metadata": {},
   "outputs": [],
   "source": []
  },
  {
   "cell_type": "code",
   "execution_count": 2,
   "metadata": {},
   "outputs": [
    {
     "data": {
      "text/plain": [
       "1"
      ]
     },
     "execution_count": 2,
     "metadata": {},
     "output_type": "execute_result"
    }
   ],
   "source": [
    "1\n"
   ]
  },
  {
   "cell_type": "code",
   "execution_count": 3,
   "metadata": {},
   "outputs": [
    {
     "data": {
      "text/plain": [
       "[0,\n",
       " 1,\n",
       " 2,\n",
       " 3,\n",
       " 4,\n",
       " 5,\n",
       " 6,\n",
       " 7,\n",
       " 8,\n",
       " 9,\n",
       " 10,\n",
       " 11,\n",
       " 12,\n",
       " 13,\n",
       " 14,\n",
       " 15,\n",
       " 16,\n",
       " 17,\n",
       " 18,\n",
       " 19,\n",
       " 20,\n",
       " 21,\n",
       " 22,\n",
       " 23,\n",
       " 24,\n",
       " 25,\n",
       " 26,\n",
       " 27,\n",
       " 28,\n",
       " 29,\n",
       " 30,\n",
       " 31,\n",
       " 32,\n",
       " 33,\n",
       " 34,\n",
       " 35,\n",
       " 36,\n",
       " 37,\n",
       " 38,\n",
       " 39,\n",
       " 40,\n",
       " 41,\n",
       " 42,\n",
       " 43,\n",
       " 44,\n",
       " 45,\n",
       " 46,\n",
       " 47,\n",
       " 48,\n",
       " 49,\n",
       " 50,\n",
       " 51,\n",
       " 52,\n",
       " 53,\n",
       " 54,\n",
       " 55,\n",
       " 56,\n",
       " 57,\n",
       " 58,\n",
       " 59,\n",
       " 60,\n",
       " 61,\n",
       " 62,\n",
       " 63,\n",
       " 64,\n",
       " 65,\n",
       " 66,\n",
       " 67,\n",
       " 68,\n",
       " 69,\n",
       " 70,\n",
       " 71,\n",
       " 72,\n",
       " 73,\n",
       " 74,\n",
       " 75,\n",
       " 76,\n",
       " 77,\n",
       " 78,\n",
       " 79,\n",
       " 80,\n",
       " 81,\n",
       " 82,\n",
       " 83,\n",
       " 84,\n",
       " 85,\n",
       " 86,\n",
       " 87,\n",
       " 88,\n",
       " 89,\n",
       " 90,\n",
       " 91,\n",
       " 92,\n",
       " 93,\n",
       " 94,\n",
       " 95,\n",
       " 96,\n",
       " 97,\n",
       " 98,\n",
       " 99,\n",
       " 100,\n",
       " 101,\n",
       " 102,\n",
       " 103,\n",
       " 104,\n",
       " 105,\n",
       " 106,\n",
       " 107,\n",
       " 108]"
      ]
     },
     "execution_count": 3,
     "metadata": {},
     "output_type": "execute_result"
    }
   ],
   "source": [
    "list(range(109))"
   ]
  },
  {
   "cell_type": "code",
   "execution_count": 4,
   "metadata": {},
   "outputs": [
    {
     "data": {
      "text/plain": [
       "<function sum>"
      ]
     },
     "execution_count": 4,
     "metadata": {},
     "output_type": "execute_result"
    }
   ],
   "source": [
    "sum"
   ]
  },
  {
   "cell_type": "code",
   "execution_count": null,
   "metadata": {},
   "outputs": [],
   "source": []
  }
 ],
 "metadata": {
  "kernelspec": {
   "display_name": "Python 3",
   "language": "python",
   "name": "python3"
  },
  "language_info": {
   "codemirror_mode": {
    "name": "ipython",
    "version": 3
   },
   "file_extension": ".py",
   "mimetype": "text/x-python",
   "name": "python",
   "nbconvert_exporter": "python",
   "pygments_lexer": "ipython3",
   "version": "3.6.4"
  }
 },
 "nbformat": 4,
 "nbformat_minor": 2
}
