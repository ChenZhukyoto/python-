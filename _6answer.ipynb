{
 "cells": [
  {
   "cell_type": "code",
   "execution_count": null,
   "metadata": {},
   "outputs": [],
   "source": []
  },
  {
   "cell_type": "code",
   "execution_count": 23,
   "metadata": {},
   "outputs": [
    {
     "data": {
      "text/plain": [
       "[2, 3, 3, 3, 4, 4, 10]"
      ]
     },
     "execution_count": 23,
     "metadata": {},
     "output_type": "execute_result"
    }
   ],
   "source": [
    "# 練習問題10\n",
    "\n",
    "def findmax(x, n):   # 長さ n の範囲内の max の index を探す \n",
    "    u = 0  # max の index\n",
    "    for i in range(1,n):\n",
    "        if(x[u] < x[i]):\n",
    "            u = i\n",
    "    return(u) \n",
    "\n",
    "\n",
    "def sort(x):\n",
    "#    for n in range(len(x)): - 1, 0, -1):\n",
    "    n = len(x)\n",
    "    while(n > 0):\n",
    "        u = findmax(x, n)\n",
    "        x[u], x[n-1] = x[n-1], x[u]\n",
    "        n = n - 1\n",
    "\n",
    "x = [10,4,2,3,4,3,3]\n",
    "sort(x)\n",
    "x\n"
   ]
  },
  {
   "cell_type": "code",
   "execution_count": 32,
   "metadata": {},
   "outputs": [
    {
     "name": "stdout",
     "output_type": "stream",
     "text": [
      "[3, 4, 3, 12, 5, 1, 2, 3]\n",
      "[3, 1, -1, 9, -7, -4, 1, 1]\n",
      "[3, 4, 3, 12, 5, 1, 2, 3]\n"
     ]
    }
   ],
   "source": [
    "# 練習問題20\n",
    "\n",
    "def diff(x):\n",
    "    return [a - b for a, b in zip(x, [0]+x)]\n",
    "\n",
    "def rdiff(x):\n",
    "    ret = []\n",
    "    sum = 0\n",
    "    for u in x:\n",
    "        sum += u\n",
    "        ret.append(sum)\n",
    "    return ret\n",
    "\n",
    "u = [3,4,3,12,5,1,2,3]\n",
    "v = diff(u)\n",
    "w = rdiff(v)\n",
    "print(u)\n",
    "print(v)\n",
    "print(w)\n",
    "    \n",
    "    \n",
    "    "
   ]
  },
  {
   "cell_type": "code",
   "execution_count": 10,
   "metadata": {},
   "outputs": [
    {
     "data": {
      "text/plain": [
       "[('', 3),\n",
       " ('a', 2),\n",
       " ('wonderful', 2),\n",
       " ('this', 1),\n",
       " ('is', 1),\n",
       " ('day', 1),\n",
       " ('boy', 1),\n",
       " ('enjoyed', 1),\n",
       " ('occasion', 1)]"
      ]
     },
     "execution_count": 10,
     "metadata": {},
     "output_type": "execute_result"
    }
   ],
   "source": [
    "# 練習問題30\n",
    "\n",
    "import re\n",
    "def countwords(s):\n",
    "#    words = s.split()\n",
    "    words = re.split('[,.\\n ]', s)\n",
    "    d = dict()\n",
    "    for ww in words:\n",
    "        w = ww.lower()\n",
    "        if (ww in d):\n",
    "            d.update({w:d.get(w)+1})\n",
    "        else:\n",
    "            d.update({w:1})\n",
    "    return sorted(d.items(), key=(lambda x:x[1]), reverse=True)\n",
    "\n",
    "countwords(\"This is a wonderful day.  A boy enjoyed a wonderful occasion.\")"
   ]
  },
  {
   "cell_type": "code",
   "execution_count": 9,
   "metadata": {},
   "outputs": [
    {
     "ename": "TypeError",
     "evalue": "'dict_items' object does not support indexing",
     "output_type": "error",
     "traceback": [
      "\u001b[0;31m---------------------------------------------------------------------------\u001b[0m",
      "\u001b[0;31mTypeError\u001b[0m                                 Traceback (most recent call last)",
      "\u001b[0;32m<ipython-input-9-62707639c934>\u001b[0m in \u001b[0;36m<module>\u001b[0;34m()\u001b[0m\n\u001b[0;32m----> 1\u001b[0;31m \u001b[0md\u001b[0m\u001b[0;34m.\u001b[0m\u001b[0mitems\u001b[0m\u001b[0;34m(\u001b[0m\u001b[0;34m)\u001b[0m\u001b[0;34m[\u001b[0m\u001b[0;36m0\u001b[0m\u001b[0;34m]\u001b[0m\u001b[0;34m\u001b[0m\u001b[0m\n\u001b[0m",
      "\u001b[0;31mTypeError\u001b[0m: 'dict_items' object does not support indexing"
     ]
    }
   ],
   "source": [
    "\n"
   ]
  },
  {
   "cell_type": "code",
   "execution_count": null,
   "metadata": {},
   "outputs": [],
   "source": []
  }
 ],
 "metadata": {
  "kernelspec": {
   "display_name": "Python 3",
   "language": "python",
   "name": "python3"
  },
  "language_info": {
   "codemirror_mode": {
    "name": "ipython",
    "version": 3
   },
   "file_extension": ".py",
   "mimetype": "text/x-python",
   "name": "python",
   "nbconvert_exporter": "python",
   "pygments_lexer": "ipython3",
   "version": "3.6.4"
  }
 },
 "nbformat": 4,
 "nbformat_minor": 2
}
