{
 "cells": [
  {
   "cell_type": "code",
   "execution_count": null,
   "metadata": {},
   "outputs": [],
   "source": []
  },
  {
   "cell_type": "code",
   "execution_count": 23,
   "metadata": {},
   "outputs": [
    {
     "data": {
      "text/plain": [
       "[2, 3, 3, 3, 4, 4, 10]"
      ]
     },
     "execution_count": 23,
     "metadata": {},
     "output_type": "execute_result"
    }
   ],
   "source": [
    "# 練習問題10\n",
    "\n",
    "def findmax(x, n):   # 長さ n の範囲内の max の index を探す \n",
    "    u = 0  # max の index\n",
    "    for i in range(1,n):\n",
    "        if(x[u] < x[i]):\n",
    "            u = i\n",
    "    return(u) \n",
    "\n",
    "\n",
    "def sort(x):\n",
    "#    for n in range(len(x)): - 1, 0, -1):\n",
    "    n = len(x)\n",
    "    while(n > 0):\n",
    "        u = findmax(x, n)\n",
    "        x[u], x[n-1] = x[n-1], x[u]\n",
    "        n = n - 1\n",
    "\n",
    "x = [10,4,2,3,4,3,3]\n",
    "sort(x)\n",
    "x\n"
   ]
  },
  {
   "cell_type": "code",
   "execution_count": 3,
   "metadata": {},
   "outputs": [
    {
     "data": {
      "text/plain": [
       "2700"
      ]
     },
     "execution_count": 3,
     "metadata": {},
     "output_type": "execute_result"
    }
   ],
   "source": [
    "# 練習問題 30\n",
    "\n",
    "primes = [2,3,5,7,11,13,17,19]\n",
    "def factorize2(x):\n",
    "    zip(factorize(x),primes)\n",
    "    \n",
    "def prod(x):\n",
    "    z = 1\n",
    "    for i in x:\n",
    "        z = z * i\n",
    "    return z\n",
    "\n",
    "prod ([x**y for (x, y) in zip(primes, [2,3,2])])\n"
   ]
  },
  {
   "cell_type": "code",
   "execution_count": 4,
   "metadata": {},
   "outputs": [
    {
     "name": "stdout",
     "output_type": "stream",
     "text": [
      "[3, 4, 3, 12, 5, 1, 2, 3]\n",
      "[3, 1, -1, 9, -7, -4, 1, 1]\n",
      "[3, 4, 3, 12, 5, 1, 2, 3]\n",
      "[3, 304, 15553, 535612, 13966980, 294148861, 5211231957, 79877386413]\n"
     ]
    }
   ],
   "source": [
    "# 練習問題40\n",
    "\n",
    "def diff(x):\n",
    "    return [a - b for a, b in zip(x, [0]+x)]\n",
    "\n",
    "def rdiff(x):\n",
    "    ret = []\n",
    "    sum = 0\n",
    "    for u in x:\n",
    "        sum += u\n",
    "        ret.append(sum)\n",
    "    return ret\n",
    "\n",
    "u = [3,4,3,12,5,1,2,3]\n",
    "v = diff(u)\n",
    "w = rdiff(v)\n",
    "print(u)\n",
    "print(v)\n",
    "print(w)\n",
    "\n",
    "\n",
    "    \n",
    "    "
   ]
  },
  {
   "cell_type": "code",
   "execution_count": 37,
   "metadata": {},
   "outputs": [
    {
     "name": "stdout",
     "output_type": "stream",
     "text": [
      "{'python': 1, 'is': 1, 'a': 1, 'good': 1, 'programming': 2, 'language': 1, \"let's\": 1, 'enjoy': 1}\n"
     ]
    }
   ],
   "source": [
    "# 練習問題30\n",
    "\n",
    "import re\n",
    "def countwords(d, s):\n",
    "#    words = s.split()\n",
    "    words = re.split('[,.\\n ]', s)\n",
    "    for ww in words:\n",
    "        if (ww == \"\"):\n",
    "            continue\n",
    "        w = ww.lower()\n",
    "        if (ww in d):\n",
    "            d.update({w:d.get(w)+1})\n",
    "        else:\n",
    "            d.update({w:1})\n",
    "    return d\n",
    " \n",
    "d = dict()\n",
    "countwords(d, '''\n",
    "Python is a good programming language.\n",
    "Let's enjoy Python programming.\n",
    "''')\n",
    "print(d)\n"
   ]
  },
  {
   "cell_type": "code",
   "execution_count": 38,
   "metadata": {},
   "outputs": [
    {
     "ename": "FileNotFoundError",
     "evalue": "[Errno 2] No such file or directory: 'sample.txt'",
     "output_type": "error",
     "traceback": [
      "\u001b[0;31m---------------------------------------------------------------------------\u001b[0m",
      "\u001b[0;31mFileNotFoundError\u001b[0m                         Traceback (most recent call last)",
      "\u001b[0;32m<ipython-input-38-4739c76ad414>\u001b[0m in \u001b[0;36m<module>\u001b[0;34m()\u001b[0m\n\u001b[1;32m      1\u001b[0m \u001b[0;31m# 練習問題40\u001b[0m\u001b[0;34m\u001b[0m\u001b[0;34m\u001b[0m\u001b[0m\n\u001b[1;32m      2\u001b[0m \u001b[0;34m\u001b[0m\u001b[0m\n\u001b[0;32m----> 3\u001b[0;31m \u001b[0mdata\u001b[0m \u001b[0;34m=\u001b[0m \u001b[0mopen\u001b[0m\u001b[0;34m(\u001b[0m\u001b[0;34m\"sample.txt\"\u001b[0m\u001b[0;34m,\u001b[0m \u001b[0;34m\"r\"\u001b[0m\u001b[0;34m)\u001b[0m\u001b[0;34m\u001b[0m\u001b[0m\n\u001b[0m\u001b[1;32m      4\u001b[0m \u001b[0md\u001b[0m \u001b[0;34m=\u001b[0m \u001b[0mdict\u001b[0m\u001b[0;34m(\u001b[0m\u001b[0;34m)\u001b[0m\u001b[0;34m\u001b[0m\u001b[0m\n\u001b[1;32m      5\u001b[0m \u001b[0;32mfor\u001b[0m \u001b[0ml\u001b[0m \u001b[0;32min\u001b[0m \u001b[0mdata\u001b[0m\u001b[0;34m:\u001b[0m\u001b[0;34m\u001b[0m\u001b[0m\n",
      "\u001b[0;31mFileNotFoundError\u001b[0m: [Errno 2] No such file or directory: 'sample.txt'"
     ]
    }
   ],
   "source": [
    "# 練習問題40\n",
    "\n",
    "data = open(\"sample.txt\", \"r\")\n",
    "d = dict()\n",
    "for l in data:\n",
    "    countwords(d,l)\n",
    "\n",
    "result = sorted(d.items(), key=(lambda x:x[1]), reverse=True)\n"
   ]
  }
 ],
 "metadata": {
  "kernelspec": {
   "display_name": "Python 3",
   "language": "python",
   "name": "python3"
  },
  "language_info": {
   "codemirror_mode": {
    "name": "ipython",
    "version": 3
   },
   "file_extension": ".py",
   "mimetype": "text/x-python",
   "name": "python",
   "nbconvert_exporter": "python",
   "pygments_lexer": "ipython3",
   "version": "3.6.4"
  }
 },
 "nbformat": 4,
 "nbformat_minor": 2
}
