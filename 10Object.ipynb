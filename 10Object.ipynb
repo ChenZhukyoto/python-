{
 "cells": [
  {
   "cell_type": "markdown",
   "metadata": {},
   "source": [
    "# オブジェクト指向"
   ]
  },
  {
   "cell_type": "markdown",
   "metadata": {},
   "source": [
    "## オブジェクトの属性とメソッド"
   ]
  },
  {
   "cell_type": "markdown",
   "metadata": {},
   "source": [
    "複素数は，real, imag というデータ属性をもっていました。このように，各オブジェクトは、その属するクラスごとに決まったデータ属性(attribute)を持っています。データ属性は，オブジェクト指向的なプログラムの場合には，インスタンス変数ともいいます。今まで，リストなどのオブジェクトに対するメソッド呼び出しを行ってきましたが，メソッドも，データの持つ属性です。このように，属性には，データ属性（インスタンス変数）とメソッドがあります。データ属性が python での正式名称の様ですが，ここでは，オブジェクト指向で一般に使われているインスタンス変数という呼び方で説明します。\n",
    "\n",
    "属性は，オブジェクトがもつ名前空間に結びつけられています。つまり，それぞれのオブジェクトは名前空間を持っており，その名前空間に登録されたものを属性といい，属性の中で，関数をメソッド，関数以外のものをインスタンス変数といいます。\n",
    "属性の値は，変更可能なものについては，代入によって変えたり，del 関数で削除したりできます。インスタンス変数は，変更可能な場合と，そうでない場合があります。\n",
    "\n",
    "インスタンス変数には，\n",
    "```\n",
    "オブジェクト.変数名\n",
    "```\n",
    "という形でアクセスしました。また，メソッド呼び出しは，\n",
    "```\n",
    "オブジェクト.メソッド名()\n",
    "```\n",
    "という形でアクセスしました。これは，モジュールに属する変数や関数のアクセスと同じ形です。\n",
    "このように，. は，オブジェクトやモジュールの名前空間から，その名前のものをとってくるという演算です。そして，それが関数の時，\"(引数の列)\" を後ろにつけると，その関数の呼び出しになります。\n"
   ]
  },
  {
   "cell_type": "code",
   "execution_count": 5,
   "metadata": {},
   "outputs": [
    {
     "data": {
      "text/plain": [
       "<function list.append>"
      ]
     },
     "execution_count": 5,
     "metadata": {},
     "output_type": "execute_result"
    }
   ],
   "source": [
    "a = [1,2,3]\n",
    "a.append"
   ]
  },
  {
   "cell_type": "code",
   "execution_count": 75,
   "metadata": {},
   "outputs": [
    {
     "data": {
      "text/plain": [
       "[1, 2, 3, 4]"
      ]
     },
     "execution_count": 75,
     "metadata": {},
     "output_type": "execute_result"
    }
   ],
   "source": [
    "a.append(4)\n",
    "a"
   ]
  },
  {
   "cell_type": "markdown",
   "metadata": {},
   "source": [
    "これは，メソッド以外の関数の呼び出しと同じ形です。"
   ]
  },
  {
   "cell_type": "code",
   "execution_count": 76,
   "metadata": {},
   "outputs": [
    {
     "data": {
      "text/plain": [
       "<function sum>"
      ]
     },
     "execution_count": 76,
     "metadata": {},
     "output_type": "execute_result"
    }
   ],
   "source": [
    "sum"
   ]
  },
  {
   "cell_type": "code",
   "execution_count": 77,
   "metadata": {},
   "outputs": [
    {
     "data": {
      "text/plain": [
       "6"
      ]
     },
     "execution_count": 77,
     "metadata": {},
     "output_type": "execute_result"
    }
   ],
   "source": [
    "sum([1,2,3])"
   ]
  },
  {
   "cell_type": "markdown",
   "metadata": {},
   "source": [
    "違いは，メソッド呼び出しの時には，オブジェクト（上の場合には a に代入されている）[1,2,3]) も，関数に引数として与えられることです。実際，append は，リストと要素をもらって，そのリストにその要素を付け加える関数として定義されます。"
   ]
  },
  {
   "cell_type": "markdown",
   "metadata": {},
   "source": [
    "## オブジェクト指向の考え方\n",
    "\n",
    "少し複雑ですが，オブジェクトの属性となっている関数の呼び出し方をこのように定義しているのは，オブジェクトに，それを処理する手続きも持たせることが，複雑な処理をきれいなプログラムに書くために役に立つからです。\n",
    "\n",
    "append という名前は，リストに要素を追加する時には自然ですが，一般的な名前なので，自分でプログラムしている時に，使ってしまうことがありそうです。そのような名前の衝突を避けるには，list_append といった長い名前をそれぞれにつけえていくことが考えられますが，これではプログラムが煩雑になります。もちろん，append の定義を書き換えて，いろんな引数に適用できるように変えていくこともできるでしょうが，それでは，append がどんどん大きくなっていきますし，新しいデータを考えた時に，それに対する append 処理を append 関数に付け加えたのでは，あるデータを処理するプログラムがあちこちに分散していくことになり，管理がしきれなくなります。\n",
    "\n",
    "そこで，データに，そのデータを処理するための方法をもたせることが考えられます。それが，オブジェクト指向という考え方です。このようにすると，その処理を利用する人の呼び出し手続きが楽になります。\n",
    "\n",
    "例えば，あらゆる電化製品は，ON というボタンを持っています。ON が押された時に行わないといけない処理の詳細は，ディスプレイと電灯では違うと思いますが，ON という名前（から想像される処理）を行いたい時には，ON というボタンを押せばいいです。\n",
    "これは，電化製品が ON という処理を中に持っているからです。\n",
    "これにより，電化製品をオブジェクト，ボタンをメソッドに見立てると\n",
    "```\n",
    "オブジェクト.on()\n",
    "```\n",
    "という呼び出しで，そのオブジェクトが内部に持つ ON が呼び出されることになります。普通の関数呼び出しなら，ディスプレイの on なら diaplay_on，Aというパソコンの on なら pc_A_on といった具合に別々の関数を定義して，\n",
    "```\n",
    "diaplay_on(オブジェクト)\n",
    "```\n",
    "などと書くことになると思いますが，これでは，呼び出し処理が大変です。\n",
    "それに対して\n",
    "```\n",
    "オブジェクト.on()\n",
    "```\n",
    "で押せるようにした時の利点は，オブジェクトが変数 x の時，\n",
    "同じ\n",
    "```\n",
    "x.on()\n",
    "```\n",
    "で，x がディスプレイの時にはディスプレイの ON が，x がパソコンの時にはパソコンの ON が起動されるということです。これは，単に個々の処理の名前を覚えなくてもいいという以上の利点があります。\n",
    "例えば，いろんな家電製品のリストがあったとして，全て ON するのに，for 文で x という変数に順に代入しながら x.on() を実行していくことができます。これが，もし，x の種類ごとに異なる関数を呼び出さないといけないとすると，大変な場合分けのプログラムになってしまいます。"
   ]
  },
  {
   "cell_type": "markdown",
   "metadata": {},
   "source": [
    "## クラスの定義方法\n",
    "\n",
    "Python では，全てのデータはオブジェクトであり，オブジェクトはクラス（=型）に属しているという話をしました。\n",
    "\n",
    "自分でクラスを定義する方法を説明しますしょう。\n",
    "\n",
    "クラスの定義は， \n",
    "```\n",
    "class クラス名:\n",
    "```\n",
    "ではじめます。クラス名は，大文字から始めることが推奨されています。この後，インデントを下げてある部分がクラス定義となります。クラスの定義の中には，モジュールのトップレベルに記述する時や，関数定義の時と同じように，プログラムが書けます。しかし，普通は，メソッドの定義（と，後に述べるクラス変数の初期値を与える代入）を書いていきます。\n",
    "\n",
    "メソッドは，自分自身を第1引数としてとるような関数定義として書きます。\n",
    "\n",
    "あるクラスのオブジェクトを新たに作るには，クラス名の関数を呼び出します。\n",
    "メソッドには，`__init__` という名前の，特殊なメソッドがあります。\n",
    "これは，オブジェクトが新しく作られた時に呼び出されます。"
   ]
  },
  {
   "cell_type": "code",
   "execution_count": 8,
   "metadata": {},
   "outputs": [
    {
     "name": "stdout",
     "output_type": "stream",
     "text": [
      "new point generated.\n",
      "new point generated.\n",
      "new point generated.\n",
      "<class '__main__.Point'>\n",
      "<class '__main__.Point'> 4379188360\n",
      "<class '__main__.Point'> 4379188248\n",
      "<class '__main__.Point'> 4379189088\n",
      "Hello I am 4379188360\n",
      "Hello I am 4379188248\n",
      "Hello I am 4379189088\n"
     ]
    }
   ],
   "source": [
    "class Point:\n",
    "    ''' Point class'''\n",
    "    def __init__(self):\n",
    "        print(\"new point generated.\")\n",
    "    def hello(self):\n",
    "        print(f\"Hello I am {id(self)}\")\n",
    "        \n",
    "point1 = Point()\n",
    "point2 = Point()\n",
    "point3 = Point()\n",
    "print(Point)\n",
    "print(type(point1), id(point1))\n",
    "print(type(point2), id(point2))\n",
    "print(type(point3), id(point3))\n",
    "point1.hello()\n",
    "point2.hello()\n",
    "point3.hello()"
   ]
  },
  {
   "cell_type": "markdown",
   "metadata": {},
   "source": [
    "ここでは Point クラスのインスタンス（あるクラスのオブジェクトを，そのクラスのインスタンスといます）を３つ作ってそれぞれに hello メソッドを呼び出しています。オブジェクトは，型（クラス）と id を持っているのでした(5章)。上の例が示すように，これらのPointオブジェクトの型は，`__main__` モジュール のPointクラスです。また，id は，3つのオブジェクトでそれぞれ別の番号がふられています。\n",
    "\n",
    "メソッドは，呼び出されると，その呼出されたオブジェクトを第１引数として呼び出されます。第１引数は，通常，self という名前にします。ここでは，id(self) の値を表示していますが，それぞれ，自分の id を表示していることがわかります。"
   ]
  },
  {
   "cell_type": "markdown",
   "metadata": {},
   "source": [
    "オブジェクトは，インスタンス変数を持てるのでした。Point クラスに x, y というインスタンス変数を与えましょう。インスタンス変数は，オブジェクトの名前空間に登録されている名前でした。すなわち，self にそのオブジェクトが代入されているときには，self.x でアクセスできます。そして，他の変数と同様に，その変数に最初に代入が行われた時にインスタンス変数は作られます。\n",
    "\n",
    "今度は，`__init__` が２つ引数をとるようにしています。そうすると，Point() で生成する時に引数としてその値を与えることができます。"
   ]
  },
  {
   "cell_type": "code",
   "execution_count": 9,
   "metadata": {},
   "outputs": [
    {
     "name": "stdout",
     "output_type": "stream",
     "text": [
      "I am at (20, 20).\n",
      "I am at (20, 40).\n",
      "I am at (50, 40).\n",
      "I am at (0, 0).\n",
      "50\n"
     ]
    }
   ],
   "source": [
    "class Point:\n",
    "    ''' Point class'''\n",
    "    def __init__(self, xx, yy):\n",
    "        self.x = xx\n",
    "        self.y = yy\n",
    "    def location(self):\n",
    "        print(f\"I am at ({self.x}, {self.y}).\")\n",
    "    def up(self,dist):\n",
    "        self.y = self.y + dist\n",
    "    def right(self,dist):\n",
    "        self.x = self.x + dist \n",
    "        \n",
    "point1 = Point(20,20)\n",
    "point2 = Point(0,0)\n",
    "point1.location()\n",
    "point1.up(20)\n",
    "point1.location()\n",
    "point1.right(30)\n",
    "point1.location()\n",
    "point2.location()\n",
    "print(point1.x)"
   ]
  },
  {
   "cell_type": "markdown",
   "metadata": {},
   "source": [
    "通常は，このように，`__init__` の中で初期値を与えるようにインスタンス変数への代入を行ってインスタンス変数を作ります。インスタンス変数は，オブジェクトの名前空間に登録されているデータ属性なので，最後の行のように\n",
    "```\n",
    "オブジェクト.変数名\n",
    "```\n",
    "でどこでもアクセスできます。この値は，そのクラスで定義されたメソッド以外でも変更できますし，普通はしませんが，新たな変数を作ることもできてしまいます。\n"
   ]
  },
  {
   "cell_type": "code",
   "execution_count": 80,
   "metadata": {},
   "outputs": [
    {
     "name": "stdout",
     "output_type": "stream",
     "text": [
      "I am at (50, 40).\n",
      "30\n"
     ]
    }
   ],
   "source": [
    "point1.x = 50\n",
    "point1.location()\n",
    "point1.new1 = 30\n",
    "print(point1.new1)"
   ]
  },
  {
   "cell_type": "markdown",
   "metadata": {},
   "source": [
    "このように，python は，言語としてできることと，通常やっていいことが異なります。言語の仕組みを理解することと，通常の書き方と，２つのことを学ぶ必要があります。（それは，自然言語でも同じで，文法的に正しいことと，通常の会話での話し方とは違うでしょう。）\n",
    "\n",
    "Python は，文法をシンプルで統一的にして言語としてできることを汎用的にして，通常のプログラムの書き方（例えば，このように書いたらオブジェクト指向的にプログラムが書ける）といったことを別に学んで，それに従ってみんながプログラムを書くというスタイルになっています。\n",
    "\n",
    "point1 の名前空間の状態を確認しておきましょう。`__init__` 以外は，`__` で囲まれた名前は無視してください。\n"
   ]
  },
  {
   "cell_type": "code",
   "execution_count": 81,
   "metadata": {},
   "outputs": [
    {
     "name": "stdout",
     "output_type": "stream",
     "text": [
      "['__class__', '__delattr__', '__dict__', '__dir__', '__doc__', '__eq__', '__format__', '__ge__', '__getattribute__', '__gt__', '__hash__', '__init__', '__init_subclass__', '__le__', '__lt__', '__module__', '__ne__', '__new__', '__reduce__', '__reduce_ex__', '__repr__', '__setattr__', '__sizeof__', '__str__', '__subclasshook__', '__weakref__', 'location', 'new1', 'right', 'up', 'x', 'y']\n"
     ]
    }
   ],
   "source": [
    "print(dir(point1))"
   ]
  },
  {
   "cell_type": "markdown",
   "metadata": {},
   "source": [
    "オブジェクトは名前空間をもっており，そこにはインスタンス変数とメソッドを持っているのでした。それに加えて，それぞれのクラスも名前空間を持っています。クラスの名前は，クラス変数とよばれ，\n",
    "あるクラスに属するオブジェクトが共有するデータを保持する目的に使われます。クラス変数へのアクセスの形は，\n",
    "```\n",
    "クラス名.変数名\n",
    "```\n",
    "となります。 クラス定義も普通のプログラムと同じだと話しましたが，クラス定義が実行される時には，\n",
    "この名前空間でクラス定義の中身が実行されます。よって，そこで\"名前空間.変数名\" ではなく，変数名だけを用いた変数へ\n",
    "の代入があると，新しいクラス変数が作られます。"
   ]
  },
  {
   "cell_type": "code",
   "execution_count": 101,
   "metadata": {},
   "outputs": [
    {
     "name": "stdout",
     "output_type": "stream",
     "text": [
      "2\n"
     ]
    }
   ],
   "source": [
    "class Point:\n",
    "    count = 0\n",
    "    ''' Point class'''\n",
    "    def __init__(self, xx, yy):\n",
    "        Point.count += 1\n",
    "        self.x = xx\n",
    "        self.y = yy\n",
    "    def location(self):\n",
    "        print(f\"I am at ({self.x}, {self.y}).\")\n",
    "    def up(self,dist):\n",
    "        self.y += dist\n",
    "    def right(self,dist):\n",
    "        self.x += dist \n",
    "        \n",
    "point1 = Point(20,20)\n",
    "point2 = Point(0,0)\n",
    "print(Point.count)"
   ]
  },
  {
   "cell_type": "markdown",
   "metadata": {},
   "source": [
    "クラス変数は，インスタンスの名前空間からも見ることができます。しかし，それに代入を行うと，インスタンスの名前空間にその変数ができてしまいます。これは，関数定義の中からグローバル変数を使う時と同じです。間違いを防ぐために，クラス変数は，常にクラス名からアクセスするようにすることをおすすめします。"
   ]
  },
  {
   "cell_type": "code",
   "execution_count": 102,
   "metadata": {},
   "outputs": [
    {
     "data": {
      "text/plain": [
       "2"
      ]
     },
     "execution_count": 102,
     "metadata": {},
     "output_type": "execute_result"
    }
   ],
   "source": [
    "point1.count"
   ]
  },
  {
   "cell_type": "code",
   "execution_count": 104,
   "metadata": {},
   "outputs": [
    {
     "name": "stdout",
     "output_type": "stream",
     "text": [
      "2 3\n"
     ]
    }
   ],
   "source": [
    "point1.count = 3\n",
    "print(Point.count, point1.count)"
   ]
  },
  {
   "cell_type": "markdown",
   "metadata": {},
   "source": [
    "Point クラスの名前空間の中身をみてみましょう。"
   ]
  },
  {
   "cell_type": "code",
   "execution_count": 83,
   "metadata": {},
   "outputs": [
    {
     "name": "stdout",
     "output_type": "stream",
     "text": [
      "['__class__', '__delattr__', '__dict__', '__dir__', '__doc__', '__eq__', '__format__', '__ge__', '__getattribute__', '__gt__', '__hash__', '__init__', '__init_subclass__', '__le__', '__lt__', '__module__', '__ne__', '__new__', '__reduce__', '__reduce_ex__', '__repr__', '__setattr__', '__sizeof__', '__str__', '__subclasshook__', '__weakref__', 'count', 'location', 'right', 'up']\n"
     ]
    }
   ],
   "source": [
    "print(dir(Point))"
   ]
  },
  {
   "cell_type": "markdown",
   "metadata": {},
   "source": [
    "このように，クラスの名前空間には，そのクラスで定義されたメソッドも含まれます。メソッドは，第１引数にそのクラスのオブジェクトをとる関数です。よって，普通に関数としても適用できます。"
   ]
  },
  {
   "cell_type": "code",
   "execution_count": 84,
   "metadata": {},
   "outputs": [],
   "source": [
    "Point.up(point2,30)"
   ]
  },
  {
   "cell_type": "code",
   "execution_count": 85,
   "metadata": {},
   "outputs": [
    {
     "name": "stdout",
     "output_type": "stream",
     "text": [
      "I am at (0, 30).\n"
     ]
    }
   ],
   "source": [
    "point2.location()"
   ]
  },
  {
   "cell_type": "markdown",
   "metadata": {},
   "source": [
    "## 継承\n",
    "\n",
    "クラスは，すでに存在するクラスを継承して作ることができます。そうすることにより，そこに定義されているインスタンス変数，メソッド定義に，定義を追加（あるいは上書き）する形でクラスを定義することになります。\n",
    "あるクラスを継承したクラスを定義するには，クラス名の後に継承するクラス名を括弧の中に与えます。\n",
    "\n",
    "ここでは，x, y に加えて，名前の文字列も保持する Point である NamePoint クラスを作ることにします。"
   ]
  },
  {
   "cell_type": "code",
   "execution_count": 10,
   "metadata": {},
   "outputs": [
    {
     "name": "stdout",
     "output_type": "stream",
     "text": [
      "I am Hajime at (60, 80).\n",
      "I am at (40, 30).\n"
     ]
    }
   ],
   "source": [
    "class NamePoint(Point):\n",
    "    ''' Point class'''\n",
    "    def __init__(self, xx, yy, name):\n",
    "        Point.__init__(self,xx,yy)\n",
    "        self.name = name\n",
    "    def location(self):\n",
    "        print(f\"I am {self.name} at ({self.x}, {self.y}).\")\n",
    "\n",
    "        \n",
    "point1 = NamePoint(20,20, \"Hajime\")\n",
    "point2 = Point(0,0)\n",
    "point1.up(30)\n",
    "for p in [point1, point2]:\n",
    "    p.up(30)\n",
    "    p.right(40)\n",
    "    p.location()\n",
    "    \n"
   ]
  },
  {
   "cell_type": "markdown",
   "metadata": {},
   "source": [
    "継承したクラスでは，元のクラスで定義されたメソッドも使えますし (up, right)，その定義を上書きして\n",
    "書き換えたものも使えます(location)。また，`__init__` で行っているように上書きして定義しながらも，クラス名.メソッド名で，self も与える関数の呼び出しの形で，上書きされた元のメソッドも呼び出すことができます。\n",
    "\n",
    "下の方の呼び出しで，point1, point2 はそれぞれ NamePoint, Point であることに注意してください。\n",
    "両方とも up, right, location を持っている (up, right は同じメソッドだが，location は別のメソッド)ので，このようなプログラムが書けます。"
   ]
  },
  {
   "cell_type": "code",
   "execution_count": null,
   "metadata": {},
   "outputs": [],
   "source": []
  }
 ],
 "metadata": {
  "kernelspec": {
   "display_name": "Python 3",
   "language": "python",
   "name": "python3"
  },
  "language_info": {
   "codemirror_mode": {
    "name": "ipython",
    "version": 3
   },
   "file_extension": ".py",
   "mimetype": "text/x-python",
   "name": "python",
   "nbconvert_exporter": "python",
   "pygments_lexer": "ipython3",
   "version": "3.8.3"
  }
 },
 "nbformat": 4,
 "nbformat_minor": 4
}
