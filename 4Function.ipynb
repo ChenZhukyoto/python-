{
 "cells": [
  {
   "cell_type": "markdown",
   "metadata": {},
   "source": [
    "# 関数定義"
   ]
  },
  {
   "cell_type": "markdown",
   "metadata": {},
   "source": [
    "関数定義について，詳しい説明を行います。まず、関数の中で用いる変数は、関数の外での変数と別のものです。"
   ]
  },
  {
   "cell_type": "code",
   "execution_count": 23,
   "metadata": {},
   "outputs": [
    {
     "name": "stdout",
     "output_type": "stream",
     "text": [
      "10\n",
      "  関数内 20\n",
      "20\n"
     ]
    }
   ],
   "source": [
    "a = 10\n",
    "def foo():\n",
    "    a = 20\n",
    "    print(\"  関数内\", a)\n",
    "    \n",
    "print(a)\n",
    "foo()\n",
    "print(a)\n"
   ]
  },
  {
   "cell_type": "markdown",
   "metadata": {},
   "source": [
    "変数などの名前の一覧表のことを、名前空間といいます。関数を実行する前は、グローバルな名前空間の中でプログラムは動いています。それに対して、関数を呼び出すと、その関数のためのローカルな名前空間が作られ、関数内の変数 a は、特別な指定(global指定)がない限り、そこに置かれます。ですから、この2つの変数は別物です。さらにその関数から別の関数が呼ばれると、別の名前空間が作られますが、それが終わると、元の名前空間に戻ります。"
   ]
  },
  {
   "cell_type": "code",
   "execution_count": 29,
   "metadata": {},
   "outputs": [
    {
     "name": "stdout",
     "output_type": "stream",
     "text": [
      "10\n",
      "  関数 foo内 20\n",
      "    関数 bar内 30\n",
      "  関数 foo内 20\n",
      "30\n",
      "4491568016 4446934640 4491567992\n"
     ]
    }
   ],
   "source": [
    "a = 10\n",
    "def foo():\n",
    "    a = 20\n",
    "    print(\"  関数 foo内\", a)\n",
    "    bar();\n",
    "    print(\"  関数 foo内\", a)\n",
    "\n",
    "def bar():\n",
    "    global a\n",
    "    a = 30\n",
    "    print(\"    関数 bar内\", a)\n",
    "\n",
    "print(a)\n",
    "foo()\n",
    "print(a)"
   ]
  },
  {
   "cell_type": "markdown",
   "metadata": {},
   "source": [
    "これによって、関数を定義する時に、そこから行う関数呼び出しの中で変数の値が変化する心配はなく、また、その関数が実行される時のグローバルな変数の値の影響を受けることも考えずに、その関数定義の中だけで閉じて考えることができます。 名前空間の中身は、dir 関数で調べることができます。"
   ]
  },
  {
   "cell_type": "markdown",
   "metadata": {},
   "source": [
    "**練習問題** 上の foo, bar の中とトップレベルで dir() を呼び出してみよう。"
   ]
  },
  {
   "cell_type": "markdown",
   "metadata": {},
   "source": [
    "関数の引数に、関数をとることができます。次の関数は、引数でもらった関数を 10 に対して適応した値を返します。"
   ]
  },
  {
   "cell_type": "code",
   "execution_count": 15,
   "metadata": {},
   "outputs": [
    {
     "data": {
      "text/plain": [
       "100"
      ]
     },
     "execution_count": 15,
     "metadata": {},
     "output_type": "execute_result"
    }
   ],
   "source": [
    "def double(f):\n",
    "    return f(10)\n",
    "\n",
    "def square(x):\n",
    "    return x*x\n",
    "\n",
    "double(square)"
   ]
  },
  {
   "cell_type": "markdown",
   "metadata": {},
   "source": [
    "関数の引数は、引数が与えられなかった時のデフォルトの値を与えておくことができます。下の例では x は必須引数、y,z はオプション引数となります。"
   ]
  },
  {
   "cell_type": "code",
   "execution_count": 69,
   "metadata": {},
   "outputs": [
    {
     "name": "stdout",
     "output_type": "stream",
     "text": [
      "800\n",
      "600\n",
      "700\n"
     ]
    }
   ],
   "source": [
    "def foo(x, y=100,z=300):\n",
    "    return(x + y+z)\n",
    "\n",
    "print(foo(200, 300))\n",
    "print(foo(200))"
   ]
  },
  {
   "cell_type": "markdown",
   "metadata": {},
   "source": [
    "また、オプション引数は、場所だけではなく、キー(すなわち、関数定義の中での引数名)で指定することができます。"
   ]
  },
  {
   "cell_type": "code",
   "execution_count": 72,
   "metadata": {},
   "outputs": [
    {
     "name": "stdout",
     "output_type": "stream",
     "text": [
      "1300\n",
      "1500\n"
     ]
    }
   ],
   "source": [
    "print(foo(200,z=1000))\n",
    "print(foo(200,z=1000,y=300))"
   ]
  },
  {
   "cell_type": "markdown",
   "metadata": {},
   "source": [
    "**練習問題** 関数 f と自然数 n と初期値 x をもらい、f(f(..(f(x)..)) という形で f を n 回繰り返し適用した結果の値を返す関数 repeat(f, n, x) を作ろう。"
   ]
  },
  {
   "cell_type": "markdown",
   "metadata": {},
   "source": [
    "### ラムダ式"
   ]
  },
  {
   "cell_type": "code",
   "execution_count": 78,
   "metadata": {},
   "outputs": [],
   "source": [
    "def repeat(f, n, x):\n",
    "    for _ in range(n):\n",
    "        x = f(x)\n",
    "    return x"
   ]
  },
  {
   "cell_type": "markdown",
   "metadata": {},
   "source": [
    "引数をもらって一つの式で値を返すだけの小さな関数は、ラムダ式という記法で名前をつけずに簡単に定義することができます。ラムダ式は、\n",
    "`lambda 変数:式` という形で、定義します。"
   ]
  },
  {
   "cell_type": "code",
   "execution_count": 74,
   "metadata": {},
   "outputs": [
    {
     "data": {
      "text/plain": [
       "100"
      ]
     },
     "execution_count": 74,
     "metadata": {},
     "output_type": "execute_result"
    }
   ],
   "source": [
    "double(lambda x: x*x)"
   ]
  },
  {
   "cell_type": "markdown",
   "metadata": {},
   "source": [
    "関数をもらって、関数を返す関数も作れます。次の関数は、引数で与えられた関数に対して、それを2回繰り返し適用するという関数を返すものです。"
   ]
  },
  {
   "cell_type": "code",
   "execution_count": 75,
   "metadata": {},
   "outputs": [
    {
     "data": {
      "text/plain": [
       "12"
      ]
     },
     "execution_count": 75,
     "metadata": {},
     "output_type": "execute_result"
    }
   ],
   "source": [
    "def doublefun(f):\n",
    "    return (lambda x:f(f(x)))\n",
    "\n",
    "g = doublefun(lambda x: x+1)\n",
    "   # g は、x をもらい、x + 2 を返すことになる。\n",
    "g(10)"
   ]
  },
  {
   "cell_type": "markdown",
   "metadata": {},
   "source": [
    "**練習問題** repeat を用いて、関数 f と自然数 n をもらい、f の n 回合成関数を返す関数を作ろう。"
   ]
  },
  {
   "cell_type": "markdown",
   "metadata": {},
   "source": [
    "# 練習問題"
   ]
  },
  {
   "cell_type": "markdown",
   "metadata": {},
   "source": [
    "**練習問題6* ** ニュートン法という、$\\sqrt{x}$ を高速に求める方法がある。これは、$f(x) = x^2-2$ という関数に対して $f(x) = 0$ となる点を求めればいいので、解からあまり遠くない適当な値 $u$ (例えば 2) から初めて、$y=f(x)$ の$(u, f(u))$ での接線と $x$ 軸の交点を求め、それを新しい $u$ にして、ということを繰り返せば、高速に $f(u) = 0$ となる $u$ に近づくという方法である。次のように f(x) と df(x) が定義されているとして、u = 2 から初めて、この手順を 10 回繰り返し、u の値がどう変化するかを求めるプログラムを書こう。また、何回繰り返せば十分に解に近くなるかは分からないので、繰り返しが 1000 回になるか、前回と今の u の値の差がある値 epsilon (例えば、epsilon=0.000001) より小さくなったら繰り返しを打ち切るようにして f(x)=0 の解を求めるプログラム newton を書こう。(for 文は 1000 回まわして、その間に近似が十分近くなれば、break しよう。) それを用いて、2 の 10 乗根の近似値を求めてみよう。\n",
    "\n",
    "    "
   ]
  },
  {
   "cell_type": "markdown",
   "metadata": {},
   "source": [
    "** 練習問題** newton(f, df) を、初期値 x と近似の範囲 epsilon もオプションでとるようにしよう。Newton 法では、ある解に十分近い解から始めれば、その解が求まる。f(x)=x(x-1)(x+1) に対してニュートン法を用いて、そのことを確かめよう。"
   ]
  },
  {
   "cell_type": "markdown",
   "metadata": {},
   "source": [
    "**練習問題** Newton 法で、導関数の分かっている関数を用いた、ラムダ式を用いて、いろんな関数とその導関数を与えての方程式の解を求めてみよう。数学的な関数は、math モジュールに用意されている。モジュールの利用方法は、この文章の先頭を参照。\n",
    "\n",
    "https://docs.python.org/ja/3/library/math.html"
   ]
  },
  {
   "cell_type": "markdown",
   "metadata": {},
   "source": [
    "**練習問題** 関数 $f$ をもらい、その定積分 $\\int_0^1{f(x) dx}$ の近似を求めるプログラム integral を書こう。[0,1] を 1000 分割して、短冊状に足し算を行い、$(\\sum_{k=0}^n{f(k/1000)/1000)}$ で求まるはずである。積分の範囲を a, b とし、分割数を n とし、a, b, n はデフォルトの値を持つ引数にしよう。また、台形状に近似を行えば、よりよい近似になるし、上や下に凸な関数なら、近似値を上からと下からの近似のペアとして与えられるはずである。そのことも考えよう。"
   ]
  }
 ],
 "metadata": {
  "kernelspec": {
   "display_name": "Python 3",
   "language": "python",
   "name": "python3"
  },
  "language_info": {
   "codemirror_mode": {
    "name": "ipython",
    "version": 3
   },
   "file_extension": ".py",
   "mimetype": "text/x-python",
   "name": "python",
   "nbconvert_exporter": "python",
   "pygments_lexer": "ipython3",
   "version": "3.6.4"
  }
 },
 "nbformat": 4,
 "nbformat_minor": 2
}
