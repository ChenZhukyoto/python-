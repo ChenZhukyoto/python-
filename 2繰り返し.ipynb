{
 "cells": [
  {
   "cell_type": "markdown",
   "metadata": {},
   "source": [
    "# 第2回 変数，制御構造，関数\n",
    "\n",
    "今回から，Python プログラミングについて勉強します。Python については，たくさん書籍が出てます。\n",
    "また，online でのチュートリアルも充実しています。この授業のためのノートも，一通りの内容をカバーするつもりですが，\n",
    "\n",
    "https://docs.python.org/ja/3/tutorial/index.html\n",
    "\n",
    "も参照するのがいいでしょう。また，より詳しい Python 自体のドキュメントも，\n",
    "\n",
    "https://docs.python.org/ja/3/index.html\n",
    "\n",
    "にあります。このノートでPython の機能を全て網羅するつもりはありませんし，全体を覚える必要もありません。\n",
    "細かいライブラリ等は，どんなことができるかと，使い方の調べ方を知っておけば十分でしょう。\n",
    "\n",
    "\n",
    "# 変数とデータ型\n",
    "\n",
    "\n",
    "## 変数\n",
    "\n",
    "**変数**とは，値を記憶する場所です。変数には，変数名という名前をつけます。任意の文字列が，変数名になります。\n",
    "日本語文字も大丈夫です。\n",
    "変数に値を記憶することを，**代入**といいます。代入は，`変数名 = 値` と，= を用いて行います。\n",
    "変数名がプログラム中で現れると，それは，その変数に記憶された値を意味します。\n",
    "まだ代入が行われていない名前を使おうとすると，エラーが起こります。\n"
   ]
  },
  {
   "cell_type": "code",
   "execution_count": 1,
   "metadata": {},
   "outputs": [],
   "source": [
    "x = 7\n",
    "あ=2+3\n"
   ]
  },
  {
   "cell_type": "code",
   "execution_count": 2,
   "metadata": {},
   "outputs": [
    {
     "data": {
      "text/plain": [
       "7"
      ]
     },
     "execution_count": 2,
     "metadata": {},
     "output_type": "execute_result"
    }
   ],
   "source": [
    "x"
   ]
  },
  {
   "cell_type": "code",
   "execution_count": 3,
   "metadata": {},
   "outputs": [
    {
     "data": {
      "text/plain": [
       "5"
      ]
     },
     "execution_count": 3,
     "metadata": {},
     "output_type": "execute_result"
    }
   ],
   "source": [
    "あ\n"
   ]
  },
  {
   "cell_type": "code",
   "execution_count": 4,
   "metadata": {},
   "outputs": [],
   "source": [
    "total = x+あ"
   ]
  },
  {
   "cell_type": "code",
   "execution_count": 5,
   "metadata": {},
   "outputs": [
    {
     "ename": "NameError",
     "evalue": "name 't' is not defined",
     "output_type": "error",
     "traceback": [
      "\u001b[0;31m---------------------------------------------------------------------------\u001b[0m",
      "\u001b[0;31mNameError\u001b[0m                                 Traceback (most recent call last)",
      "\u001b[0;32m<ipython-input-5-34fc7a11cb38>\u001b[0m in \u001b[0;36m<module>\u001b[0;34m()\u001b[0m\n\u001b[0;32m----> 1\u001b[0;31m \u001b[0mt\u001b[0m\u001b[0;34m\u001b[0m\u001b[0m\n\u001b[0m",
      "\u001b[0;31mNameError\u001b[0m: name 't' is not defined"
     ]
    }
   ],
   "source": [
    "t"
   ]
  },
  {
   "cell_type": "code",
   "execution_count": 6,
   "metadata": {},
   "outputs": [
    {
     "ename": "NameError",
     "evalue": "name 'notyet' is not defined",
     "output_type": "error",
     "traceback": [
      "\u001b[0;31m---------------------------------------------------------------------------\u001b[0m",
      "\u001b[0;31mNameError\u001b[0m                                 Traceback (most recent call last)",
      "\u001b[0;32m<ipython-input-6-5e7c872888db>\u001b[0m in \u001b[0;36m<module>\u001b[0;34m()\u001b[0m\n\u001b[0;32m----> 1\u001b[0;31m \u001b[0my\u001b[0m \u001b[0;34m=\u001b[0m \u001b[0mnotyet\u001b[0m \u001b[0;34m+\u001b[0m \u001b[0;36m10\u001b[0m\u001b[0;34m\u001b[0m\u001b[0m\n\u001b[0m",
      "\u001b[0;31mNameError\u001b[0m: name 'notyet' is not defined"
     ]
    }
   ],
   "source": [
    "y = notyet + 10"
   ]
  },
  {
   "cell_type": "markdown",
   "metadata": {},
   "source": [
    "このエラーは，notyet という名前が未知のものであることを言っています。変数名には，数字も含めることができますが，数字から始まる名前はつけられません。また，予約語(for などのプログラムで意味のある名前)をつけることもできません。大文字，小文字は区別されます。"
   ]
  },
  {
   "cell_type": "markdown",
   "metadata": {},
   "source": [
    "すでに値を代入してある変数に新たな値を代入すると，記憶されている値がその値に置き換わります。\n",
    "\n",
    "**練習問題**\n",
    "x に 3 を代入しよう。"
   ]
  },
  {
   "cell_type": "markdown",
   "metadata": {},
   "source": [
    "**練習問題**\n",
    "\n",
    "1. 2 の 20 乗を huge という変数に代入して，huge の値を表示させよう。\n",
    "2. huge / 2 を huge に代入して，huge の値を表示させよう。これを，１つのボックスにしよう。\n",
    "3. そのボックスを，繰り返し実行しよう。\n",
    "\n"
   ]
  },
  {
   "cell_type": "markdown",
   "metadata": {},
   "source": [
    "**練習問題4**\n",
    "\n",
    "1. 0.01 を x という変数に代入しよう。\n",
    "2. x に 2.5x(1-x) を計算して代入し，x の値を表示しよう。\n",
    "3. これを，繰り返し実行しよう。\n",
    "4. 何回も繰り返すと，どういう値に近づいていくか，その値は，2.5とどういう関係にあるか，考えよう。\n",
    "4. 同じことを，3.5x(1-x) で実行しよう。\n",
    "\n"
   ]
  },
  {
   "cell_type": "markdown",
   "metadata": {},
   "source": [
    "## 型\n",
    "\n",
    "プログラムで扱う値には，型があります。数の型には，**整数(int)**と**浮動小数点(float)**，それに**複素数(complex)**があります。例えば，4//2 は 2, 4/2 は 2.0 と表示されます。これは，同じ 2 という値を示してますが，前者は int, 後者は float です。同じ割り算でも、// は切り捨てを行い整数を返す演算、/ は浮動小数点数を返す演算です。complex については，後に説明します。式の型は，type 関数で調べることができます。C や Java 言語のように，int で表現できる値の範囲の制限について意識する必要はありません。"
   ]
  },
  {
   "cell_type": "code",
   "execution_count": 7,
   "metadata": {},
   "outputs": [
    {
     "data": {
      "text/plain": [
       "2"
      ]
     },
     "execution_count": 7,
     "metadata": {},
     "output_type": "execute_result"
    }
   ],
   "source": [
    "4//2"
   ]
  },
  {
   "cell_type": "code",
   "execution_count": 8,
   "metadata": {},
   "outputs": [
    {
     "data": {
      "text/plain": [
       "int"
      ]
     },
     "execution_count": 8,
     "metadata": {},
     "output_type": "execute_result"
    }
   ],
   "source": [
    "type(4//2)"
   ]
  },
  {
   "cell_type": "code",
   "execution_count": 9,
   "metadata": {},
   "outputs": [
    {
     "data": {
      "text/plain": [
       "2.0"
      ]
     },
     "execution_count": 9,
     "metadata": {},
     "output_type": "execute_result"
    }
   ],
   "source": [
    "4/2"
   ]
  },
  {
   "cell_type": "code",
   "execution_count": 10,
   "metadata": {},
   "outputs": [
    {
     "data": {
      "text/plain": [
       "float"
      ]
     },
     "execution_count": 10,
     "metadata": {},
     "output_type": "execute_result"
    }
   ],
   "source": [
    "type(4/2)"
   ]
  },
  {
   "cell_type": "markdown",
   "metadata": {},
   "source": [
    "**bool** は，**真偽値**を表す型です。真偽値とは，True と False の２つの値です。例えば，2 < 3 は正しいので True ですが，2 > 3 は間違いなので False です。このように，< は，数を２つもらい，真偽値を返す演算子です。同様の演算子に，== (両辺が同じものかどうか調べる)，<= (小なりイコール) があります。\n"
   ]
  },
  {
   "cell_type": "code",
   "execution_count": 11,
   "metadata": {},
   "outputs": [
    {
     "data": {
      "text/plain": [
       "True"
      ]
     },
     "execution_count": 11,
     "metadata": {},
     "output_type": "execute_result"
    }
   ],
   "source": [
    "2==2"
   ]
  },
  {
   "cell_type": "code",
   "execution_count": 12,
   "metadata": {},
   "outputs": [
    {
     "data": {
      "text/plain": [
       "False"
      ]
     },
     "execution_count": 12,
     "metadata": {},
     "output_type": "execute_result"
    }
   ],
   "source": [
    "2 > 3"
   ]
  },
  {
   "cell_type": "markdown",
   "metadata": {},
   "source": [
    "## 文字列\n",
    "\n",
    "プログラムの中で、数だけでなく文字列も扱うことができます。文字列の型は，str です。文字列は，\"\" または'' で囲って作ります。"
   ]
  },
  {
   "cell_type": "code",
   "execution_count": 13,
   "metadata": {},
   "outputs": [
    {
     "data": {
      "text/plain": [
       "'Python はいい言語'"
      ]
     },
     "execution_count": 13,
     "metadata": {},
     "output_type": "execute_result"
    }
   ],
   "source": [
    "u = \"Python はいい言語\"\n",
    "u"
   ]
  },
  {
   "cell_type": "markdown",
   "metadata": {},
   "source": [
    "\"'hello\" や '\"hello' とすると，' や \"を含む文字列も作れます。\n",
    "'10' と 10 のように，文字列と数を混同しないようにしてください。文字列からそれの表す整数値は int 関数，浮動小数点数は float 関数で作れます。このように，型の名前は，データをその型に強制的に変換したデータを返す演算子になります。"
   ]
  },
  {
   "cell_type": "code",
   "execution_count": 14,
   "metadata": {},
   "outputs": [],
   "source": [
    "name = \"123\""
   ]
  },
  {
   "cell_type": "code",
   "execution_count": 15,
   "metadata": {},
   "outputs": [
    {
     "data": {
      "text/plain": [
       "str"
      ]
     },
     "execution_count": 15,
     "metadata": {},
     "output_type": "execute_result"
    }
   ],
   "source": [
    "type(name)"
   ]
  },
  {
   "cell_type": "code",
   "execution_count": 16,
   "metadata": {},
   "outputs": [
    {
     "data": {
      "text/plain": [
       "123"
      ]
     },
     "execution_count": 16,
     "metadata": {},
     "output_type": "execute_result"
    }
   ],
   "source": [
    "int(name)"
   ]
  },
  {
   "cell_type": "code",
   "execution_count": 17,
   "metadata": {},
   "outputs": [
    {
     "data": {
      "text/plain": [
       "123.0"
      ]
     },
     "execution_count": 17,
     "metadata": {},
     "output_type": "execute_result"
    }
   ],
   "source": [
    "float(name)"
   ]
  },
  {
   "cell_type": "code",
   "execution_count": 18,
   "metadata": {},
   "outputs": [
    {
     "data": {
      "text/plain": [
       "12"
      ]
     },
     "execution_count": 18,
     "metadata": {},
     "output_type": "execute_result"
    }
   ],
   "source": [
    "x = int(12.5)\n",
    "x"
   ]
  },
  {
   "cell_type": "code",
   "execution_count": 19,
   "metadata": {},
   "outputs": [
    {
     "data": {
      "text/plain": [
       "'12'"
      ]
     },
     "execution_count": 19,
     "metadata": {},
     "output_type": "execute_result"
    }
   ],
   "source": [
    "str(x)"
   ]
  },
  {
   "cell_type": "code",
   "execution_count": 20,
   "metadata": {},
   "outputs": [
    {
     "ename": "ValueError",
     "evalue": "invalid literal for int() with base 10: 'の'",
     "output_type": "error",
     "traceback": [
      "\u001b[0;31m---------------------------------------------------------------------------\u001b[0m",
      "\u001b[0;31mValueError\u001b[0m                                Traceback (most recent call last)",
      "\u001b[0;32m<ipython-input-20-6cea303aed49>\u001b[0m in \u001b[0;36m<module>\u001b[0;34m()\u001b[0m\n\u001b[0;32m----> 1\u001b[0;31m \u001b[0mint\u001b[0m\u001b[0;34m(\u001b[0m\u001b[0;34m'の'\u001b[0m\u001b[0;34m)\u001b[0m\u001b[0;34m\u001b[0m\u001b[0m\n\u001b[0m",
      "\u001b[0;31mValueError\u001b[0m: invalid literal for int() with base 10: 'の'"
     ]
    }
   ],
   "source": [
    "int('の')"
   ]
  },
  {
   "cell_type": "markdown",
   "metadata": {},
   "source": [
    "文字列どおしは，+ で結合できます。また，* で繰り返しもできます。"
   ]
  },
  {
   "cell_type": "code",
   "execution_count": 21,
   "metadata": {},
   "outputs": [
    {
     "data": {
      "text/plain": [
       "\"今日の明日の明日の明日は'しあさって'です。\""
      ]
     },
     "execution_count": 21,
     "metadata": {},
     "output_type": "execute_result"
    }
   ],
   "source": [
    "statement = \"今日\" + 3 * \"の明日\" + \"は'しあさって'です。\"\n",
    "statement"
   ]
  },
  {
   "cell_type": "markdown",
   "metadata": {},
   "source": [
    "文字列 x の中の先頭から i 番目の文字を，x[i] で示すことができます。0 番目が先頭文字です。"
   ]
  },
  {
   "cell_type": "code",
   "execution_count": 22,
   "metadata": {},
   "outputs": [
    {
     "data": {
      "text/plain": [
       "'今のはうそ'"
      ]
     },
     "execution_count": 22,
     "metadata": {},
     "output_type": "execute_result"
    }
   ],
   "source": [
    "uso = statement[0] + statement[2]+ statement[11] + \"うそ\"\n",
    "uso"
   ]
  },
  {
   "cell_type": "markdown",
   "metadata": {},
   "source": [
    "文字列 s の長さは、len(s) で求めることができます。この len のように、後ろの括弧の中に指定された値に対して、何らかの計算を行い、結果を返すものを、**関数**と言います。関数に、括弧に入れて渡される値を**引数**といいます。\n",
    "\n",
    "**練習問題** len(u)、len(s) を求めて、あっているかどうか確かめよ。\n",
    "\n",
    "上に出てきた int, float は、型の名前ですが、()が後ろにつくと、引数でもらったものを、それに対応した、その型の値に変換して返すという関数としての役割をします。\n",
    "\n",
    "**練習問題** int(2.5) や、float(4) を実行するとどうなるか調べよう。str, bool についても実験してみよう。"
   ]
  },
  {
   "cell_type": "markdown",
   "metadata": {},
   "source": [
    "文字列の部分となる文字列は `[from:to]` というスライスをつけることにより作れます。"
   ]
  },
  {
   "cell_type": "code",
   "execution_count": 23,
   "metadata": {},
   "outputs": [
    {
     "data": {
      "text/plain": [
       "'のは'"
      ]
     },
     "execution_count": 23,
     "metadata": {},
     "output_type": "execute_result"
    }
   ],
   "source": [
    "uso[1:3]"
   ]
  },
  {
   "cell_type": "markdown",
   "metadata": {},
   "source": [
    "ボックスの中に複数の文が書かれている時には、それらが順に実行され、最後の結果だけが表示されました。それに対し、途中で値を表示したい時がありますその時には、print 関数を用います。"
   ]
  },
  {
   "cell_type": "code",
   "execution_count": 24,
   "metadata": {},
   "outputs": [
    {
     "name": "stdout",
     "output_type": "stream",
     "text": [
      "Python はいい言語\n",
      "P\n",
      "y\n",
      "t\n",
      "h\n",
      "o\n",
      "n\n"
     ]
    }
   ],
   "source": [
    "print(u)\n",
    "print(u[0])\n",
    "print(u[1])\n",
    "print(u[2])\n",
    "print(u[3])\n",
    "print(u[4])\n",
    "print(u[5])"
   ]
  },
  {
   "cell_type": "markdown",
   "metadata": {},
   "source": [
    "print 文で、print した後に改行したくなければ、 print(a, end=',')\n",
    "という形で、終了文字を end= で指定します。\n",
    "関数には，複数の引数を , で区切って指定することができます。\n",
    "print 関数は，複数の引数が与えられれば，それらを全て表示します。"
   ]
  },
  {
   "cell_type": "code",
   "execution_count": 25,
   "metadata": {},
   "outputs": [
    {
     "name": "stdout",
     "output_type": "stream",
     "text": [
      "Pyt,h, o*n!\n",
      "りんご ばなな 10\n",
      "2*3 は 6 です\n"
     ]
    }
   ],
   "source": [
    "print(u[0],end='')\n",
    "print(u[1],end='')\n",
    "print(u[2],end=',')\n",
    "print(u[3],end=', ')\n",
    "print(u[4],end='*')\n",
    "print(u[5],end='!')\n",
    "print()   # 引数が何もなければ改行だけ\n",
    "x = 10\n",
    "print(\"りんご\",\"ばなな\", x)\n",
    "print(\"2*3 は\", 2*3, \"です\")"
   ]
  },
  {
   "cell_type": "markdown",
   "metadata": {},
   "source": [
    "# リストと for 文による繰り返し\n",
    "\n",
    "## リスト\n",
    "\n",
    "複数の値を並べたものを，リストといいます。リストは，[1.3.5] という形で,`[  ]`で囲んで , で区切って作ります。\n"
   ]
  },
  {
   "cell_type": "code",
   "execution_count": 26,
   "metadata": {},
   "outputs": [
    {
     "name": "stdout",
     "output_type": "stream",
     "text": [
      "[1, 4, 7, 10]\n"
     ]
    },
    {
     "data": {
      "text/plain": [
       "list"
      ]
     },
     "execution_count": 26,
     "metadata": {},
     "output_type": "execute_result"
    }
   ],
   "source": [
    "n3 = [1,4,7,10]\n",
    "print(n3)\n",
    "type(n3)"
   ]
  },
  {
   "cell_type": "markdown",
   "metadata": {},
   "source": [
    "リスト要素にも、文字列とだいたい同じ操作ができます。例えば、[i] というインデックスをつけて、i 番目の要素にアクセスできます。リストのインデックスは 0 から始まります。\n",
    "リストに対しても、len という関数を適用できます。\n",
    "また、[from:to] という**スライス**をつけて、部分をとることもできます。\n",
    "また、足し算でリスト同士をくっつけることができます。\n",
    "sum は，数のリストをもらい，その和を返す関数です。\n",
    "\n",
    "**練習問題** リスト n3 の和を求めよう。\n",
    "\n"
   ]
  },
  {
   "cell_type": "markdown",
   "metadata": {},
   "source": [
    "インデックスの所は、定数ではなく、変数を用いることもできます。変数を用いた式も使えます。次の例をみてください。最後の例は分かりにくいかもしれませんが，n3[c-2] が1 なので，n3[1] ということです。\n"
   ]
  },
  {
   "cell_type": "code",
   "execution_count": 27,
   "metadata": {},
   "outputs": [
    {
     "name": "stdout",
     "output_type": "stream",
     "text": [
      "[4, 7]\n",
      "7\n",
      "1\n",
      "7\n",
      "1\n",
      "4\n"
     ]
    }
   ],
   "source": [
    "print(n3[1:3])\n",
    "print(n3[1:3][1])\n",
    "c = 0\n",
    "print(n3[c])\n",
    "c = 2\n",
    "print(n3[c])\n",
    "print(n3[c-2])\n",
    "print(n3[n3[c-2]])"
   ]
  },
  {
   "cell_type": "markdown",
   "metadata": {},
   "source": [
    "\n",
    "\n",
    "**練習問題** 31, 28, ... という、1年の各月の日数のリストを作り、mon という変数に代入しよう。\n",
    "\n",
    "**練習問題** mon の長さを求めよう。1 月の日数を表示しよう。また、mon の中の 4 月から 9 月までの部分を取り出して、zenki という変数に代入しよう。変数 c に対して，c 月の日数を表示しよう。"
   ]
  },
  {
   "cell_type": "markdown",
   "metadata": {},
   "source": [
    "## 繰り返し\n",
    "\n",
    "リストの中に入った要素に対し，順番に同じ処理をすることができます。それには，for 文を用います。まず，繰り返しのための変数を定めます。ここでは i にしましょう。繰り返し処理するリストを [1,3,5] だとします。すると，次のように書くことによって，i を 1,3,5 に代入しながら，それぞれの i の時に print(i) を実行します。"
   ]
  },
  {
   "cell_type": "code",
   "execution_count": 28,
   "metadata": {},
   "outputs": [
    {
     "name": "stdout",
     "output_type": "stream",
     "text": [
      "1\n",
      "3\n",
      "5\n"
     ]
    }
   ],
   "source": [
    "for i in [1,3,5]:\n",
    "    print(i)\n"
   ]
  },
  {
   "cell_type": "raw",
   "metadata": {},
   "source": [
    "2 行目の文字下げ（インデント）が重要で，通常は 4 文字下げます。インデントをつけてある行が，繰り返し実行する範囲になります。\n"
   ]
  },
  {
   "cell_type": "code",
   "execution_count": 29,
   "metadata": {},
   "outputs": [
    {
     "name": "stdout",
     "output_type": "stream",
     "text": [
      "1\n",
      "2\n",
      "3\n",
      "4\n",
      "5\n",
      "6\n"
     ]
    }
   ],
   "source": [
    "for i in [1,3,5]:\n",
    "    print(i)\n",
    "    print(i+1)"
   ]
  },
  {
   "cell_type": "markdown",
   "metadata": {},
   "source": [
    "## range \n",
    "\n",
    "sum 関数を用いて、1 から 10 までの和を求めることはできても、0 から 99 までの和を求めるのは大変です。そういう時に、range を用います。range(100) を実行すると、[0,1,2,...,99] というリストと実質的に同じものが作られて返されます。\n",
    "実際、これを sum 関数に渡すと、0 から 99 までの和が返されます。また，for 文と一緒に使うと，同じことを指定された回数繰り返し実行させることも簡単にできます。"
   ]
  },
  {
   "cell_type": "code",
   "execution_count": 30,
   "metadata": {},
   "outputs": [
    {
     "data": {
      "text/plain": [
       "4950"
      ]
     },
     "execution_count": 30,
     "metadata": {},
     "output_type": "execute_result"
    }
   ],
   "source": [
    "sum(range(100))"
   ]
  },
  {
   "cell_type": "code",
   "execution_count": 31,
   "metadata": {},
   "outputs": [
    {
     "name": "stdout",
     "output_type": "stream",
     "text": [
      "Happy birthday to you.\n",
      "Happy birthday to you.\n",
      "Happy birthday to you.\n"
     ]
    }
   ],
   "source": [
    "for i in range(3):\n",
    "    print(\"Happy birthday to you.\")"
   ]
  },
  {
   "cell_type": "code",
   "execution_count": 32,
   "metadata": {},
   "outputs": [
    {
     "name": "stdout",
     "output_type": "stream",
     "text": [
      "0, 1, 2, 3, 4, 5, 6, 7, 8, 9, "
     ]
    }
   ],
   "source": [
    "for i in range(10):\n",
    "    print(i, end=\", \")"
   ]
  },
  {
   "cell_type": "raw",
   "metadata": {},
   "source": [
    "range は，2 引数で最初の数と最後の数を指定することも，3引数でその間の増分をしていすることもできます。"
   ]
  },
  {
   "cell_type": "code",
   "execution_count": 33,
   "metadata": {},
   "outputs": [
    {
     "name": "stdout",
     "output_type": "stream",
     "text": [
      "1, 2, 3, 4, 5, 6, 7, 8, 9, 10, "
     ]
    },
    {
     "data": {
      "text/plain": [
       "55"
      ]
     },
     "execution_count": 33,
     "metadata": {},
     "output_type": "execute_result"
    }
   ],
   "source": [
    "for i in range(1,11):\n",
    "    print(i, end=\", \")\n",
    "sum(range(1,11))"
   ]
  },
  {
   "cell_type": "markdown",
   "metadata": {},
   "source": [
    "**練習問題** 100 までの奇数の和，3の倍数の和を求めよう。"
   ]
  },
  {
   "cell_type": "markdown",
   "metadata": {},
   "source": [
    "sum を使わずに，for を用いてリストの和を求めることを考えよう。\n",
    "それには，変数を用意しておいて，最初は 0 にしておいて，繰り返しの度に足しこんでいけばよい。\n",
    "次のプログラムは，range(11)= [0,1,2,3,4,5,6,7,8,9,10] というリストに対して和を求めている。\n"
   ]
  },
  {
   "cell_type": "code",
   "execution_count": 34,
   "metadata": {},
   "outputs": [
    {
     "name": "stdout",
     "output_type": "stream",
     "text": [
      "55\n"
     ]
    }
   ],
   "source": [
    "total = 0\n",
    "for i in range(11):\n",
    "    total = total + i\n",
    "print(total)    "
   ]
  },
  {
   "cell_type": "markdown",
   "metadata": {},
   "source": [
    "**練習問題** 上のプログラムで，それぞれの i の時に，i の値とそこまでの和も表示するようにしよう。\n",
    "\n",
    "**練習問題** 100 までの2乗の和を求めるプログラムを書こう。\n",
    "\n",
    "**練習問題** 10 の階乗を求めるプログラムを書こう。"
   ]
  },
  {
   "cell_type": "markdown",
   "metadata": {},
   "source": [
    "\n",
    "**練習問題 a** 次のように表示するプログラムを書いてみよう。(ヒント，スライスを有効に利用しよう）\n",
    "```\n",
    "p\n",
    "py\n",
    "pyt\n",
    "pyth\n",
    "pytho\n",
    "python\n",
    "python \n",
    "python p\n",
    "python py\n",
    "python pyt\n",
    "python pyth\n",
    "python pytho\n",
    "python python\n",
    "```"
   ]
  },
  {
   "cell_type": "markdown",
   "metadata": {},
   "source": [
    "\n",
    "**練習問題 b** 次のように表示するプログラムを書いてみよう。\n",
    "```\n",
    " python python\n",
    "  ython python\n",
    "   thon python\n",
    "    hon python\n",
    "     on python\n",
    "      n python\n",
    "        python\n",
    "        python\n",
    "         ython\n",
    "          thon\n",
    "           hon\n",
    "            on\n",
    "             n\n",
    "```"
   ]
  },
  {
   "cell_type": "markdown",
   "metadata": {},
   "source": [
    "# 関数定義と range\n",
    "\n",
    "## 関数\n",
    "\n",
    "上のプログラムは,一つのことしかできません。どんなリストであっても、その和を求める手順は同じはずです。このような時に、関数を定義すると，手順に名前をつけて，引数をもらって，それに対して指定した手順を実行させることができます。\n",
    "\n",
    "`def 関数名(仮引数):\n",
    "     本体`\n",
    "     \n",
    "という形で行います。仮引数は，引数として与えられた値を記憶する変数です。関数が呼び出されると、仮引数に引数として与えられた値が代入された状態で本体に書かれた手順が実行されます。リストをもらい、その和を表示する関数 mysum0 を定義してみましょう。"
   ]
  },
  {
   "cell_type": "code",
   "execution_count": 35,
   "metadata": {},
   "outputs": [],
   "source": [
    "def mysum0(li):\n",
    "    x = 0\n",
    "    for i in li:\n",
    "        x = x + i\n",
    "    print(\"sum = \", x)"
   ]
  },
  {
   "cell_type": "code",
   "execution_count": 36,
   "metadata": {
    "scrolled": true
   },
   "outputs": [
    {
     "name": "stdout",
     "output_type": "stream",
     "text": [
      "sum =  15\n",
      "sum =  4950\n"
     ]
    }
   ],
   "source": [
    "mysum0([1,2,3,4,5])\n",
    "mysum(0range(100))"
   ]
  },
  {
   "cell_type": "markdown",
   "metadata": {},
   "source": [
    "上で定義した mysum0 は値を返しませんでした。sum のような，計算した結果の値を返す関数も定義できます。関数定義の中で値を返すには，`return 式` を呼び出します。`式`は，返す値を意味する式です。次の関数 mysum は，和の値を返します。\n"
   ]
  },
  {
   "cell_type": "code",
   "execution_count": 43,
   "metadata": {},
   "outputs": [
    {
     "name": "stdout",
     "output_type": "stream",
     "text": [
      "15\n"
     ]
    }
   ],
   "source": [
    "def mysum(li):\n",
    "    x = 0\n",
    "    for i in li:\n",
    "        x = x + i\n",
    "    return x\n",
    "\n",
    "print(mysum([1,2,3,4,5]))"
   ]
  },
  {
   "cell_type": "code",
   "execution_count": 44,
   "metadata": {},
   "outputs": [
    {
     "data": {
      "text/plain": [
       "15"
      ]
     },
     "execution_count": 44,
     "metadata": {},
     "output_type": "execute_result"
    }
   ],
   "source": [
    "mysum([1,2,3]) + mysum([2,3,4])\n"
   ]
  },
  {
   "cell_type": "markdown",
   "metadata": {},
   "source": [
    "これは、`mysum([1,2,3]+[2,3,4])`と一緒ですね。"
   ]
  },
  {
   "cell_type": "markdown",
   "metadata": {},
   "source": [
    "関数を定義すると、その関数を用いてより複雑な関数を作ることができます。\n",
    "関数に引数がたくさんある時には、引数のところにコンマで区切って書きます。\n",
    "二つのリストの和の積を求める関数は、次のようにかけます。"
   ]
  },
  {
   "cell_type": "code",
   "execution_count": 45,
   "metadata": {},
   "outputs": [
    {
     "data": {
      "text/plain": [
       "54"
      ]
     },
     "execution_count": 45,
     "metadata": {},
     "output_type": "execute_result"
    }
   ],
   "source": [
    "def hello(list1, list2):\n",
    "    \"\"\"2 つのリスト list1, list2の要素の和の積を返す\"\"\"\n",
    "    return(mysum(list1) * mysum(list2))\n",
    "hello([1,2,3], [2,3,4])"
   ]
  },
  {
   "cell_type": "markdown",
   "metadata": {},
   "source": [
    "このプログラムの最初の行は文字列です。この文字列を実行しても何も起きないですが、このように、関数の最初の行に、簡単な説明(**docstring**といいます)を書いておくと、後ですぐに分かります。また、これを用いるプログラムを書いている途中で、helloとだけ書いてshift+tab を押すと、docstring の文字列が表示されます。関数は、後で使うためのものです。使う時に定義に戻らなくても分かるように、ドキュメントは書くように心がけてください。\n",
    "\n",
    "このドキュメントの表示以外にも、jupyter は便利な機能をたくさん持っています。例えば、hello 関数が定義されている時に、hel まで打ち込んで tab を押すと、そこに入力できる hel から始まる文字列のリストを表示してくれます。"
   ]
  },
  {
   "cell_type": "markdown",
   "metadata": {},
   "source": [
    "# 練習問題\n",
    "\n",
    "**練習問題** 数 n をもらい、1 から n までの積（すなわち、factorial）を返す関数 fact(n) を定義しよう。\n",
    "\n",
    "**練習問題**\n",
    "$$\n",
    "\\sum_{n=0}^{\\infty} \\frac{1}{\\mathrm {fact}(n)}\n",
    "$$\n",
    "を計算しよう。これは何になるか？解析の教科書などで復習しよう。\n",
    "(実際に求めるのは、十分大きな n に対する和です。) n をもらってこの値を返す関数として定義し，n が 10, 20, .. 100 の時に，n の値とこの値を表示しよう。\n",
    "\n",
    "この計算で求められるのは、e の値そのものではなく、近似値である。実際，途中で値の変化が止まっている。このように，float 型は，倍精度浮動小数点型という形で実数を表現しており，それで表現できるのは，2 進で52 桁，10 進で 15 桁程度である。しかし，それだけの桁までは正確な値が求まるとも分からない。\n",
    "それぞれの計算の中での割り算がすでに、近似値となっており、誤差を含んでいる。よって、それぞれの n の時の値も誤差を含んでおり、実数計算を繰り返すと、その誤差が積み重なっていくので、注意が必要である。\n",
    "\n",
    "**練習問題** 次の公式は、ライプニッツの公式として知られている。\n",
    "$$\n",
    "\\frac{\\pi}{4} = 1 - \\frac{1}{3} + \\frac{1}{5} - \\frac{1}{7} ...\n",
    "$$\n",
    "この n　項目までの和の4倍を求めるプログラムを書き、n を大きくしていった時に円周率の値に近づいていくことを確認しよう。1 項おきに、プラスとマイナスを変化させる方法を、いくつも考えよう。\n",
    "\n",
    "**練習問題** この公式による収束は、収束の速さが遅いと言われている。\n",
    "より効率のよい公式を調べて、計算してみよう。\n",
    "\n",
    "**練習問題**  練習問題 a, 練習問題 b で行なった表示を、与えられた文字列に対して行える関数 incr を作ろう。incr(\"python\") , incr2(\"python\") で上の表示ができるようにしよう。"
   ]
  },
  {
   "cell_type": "code",
   "execution_count": 50,
   "metadata": {},
   "outputs": [
    {
     "name": "stdout",
     "output_type": "stream",
     "text": [
      "1 2.0\n",
      "2 2.5\n",
      "3 2.6666666666666665\n",
      "4 2.708333333333333\n",
      "5 2.7166666666666663\n",
      "6 2.7180555555555554\n",
      "7 2.7182539682539684\n",
      "8 2.71827876984127\n",
      "9 2.7182815255731922\n",
      "10 2.7182818011463845\n",
      "11 2.718281826198493\n",
      "12 2.7182818282861687\n",
      "13 2.7182818284467594\n",
      "14 2.71828182845823\n",
      "15 2.718281828458995\n",
      "16 2.718281828459043\n",
      "17 2.7182818284590455\n",
      "18 2.7182818284590455\n",
      "19 2.7182818284590455\n"
     ]
    }
   ],
   "source": [
    "def fact (n):\n",
    "    \"\"\" n の階乗を計算する\"\"\"\n",
    "    x = 1\n",
    "    for i in range(1,n+1):\n",
    "        x = x * i\n",
    "    return x\n",
    "\n",
    "def e(n):\n",
    "    \"\"\" e の値の近似値を計算する\"\"\"\n",
    "    x = 0\n",
    "    for i in range(0,n+1):\n",
    "        x = x + 1/fact(i)\n",
    "    return x\n",
    "\n",
    "for x in range(1,20):\n",
    "    print(x, e(x))\n",
    "\n",
    "\n",
    "    "
   ]
  },
  {
   "cell_type": "code",
   "execution_count": null,
   "metadata": {},
   "outputs": [],
   "source": [
    "def pi1(n):\n",
    "    \"\"\" 円周率の計算。i 回目の繰り返しで、プラスとマイナスの項を求めている。\"\"\"\n",
    "    x = 0\n",
    "    for i in range(0, n):\n",
    "        x = x + 1/(2*(2 * i)+1) - 1/(2*(2*i+1)+1)\n",
    "    return(x*4)\n",
    "\n",
    "\n",
    "def pi2(n):\n",
    "    \"\"\" 円周率の計算。i 回目の繰り返しで、(-1)のi 乗をかけて符号を変える。\"\"\"\n",
    "    x = 0\n",
    "    for i in range(0, n):\n",
    "        x = x + ((-1)**i)/(2*i+1)\n",
    "    return(x*4)\n",
    "\n",
    "\n",
    "def pi3(n):\n",
    "    \"\"\" 円周率の計算。inv の値が毎回変化するように、繰り返しの中で計算する。\"\"\"\n",
    "    x = 0\n",
    "    inv = 1\n",
    "    for i in range(0, n):\n",
    "        x = x + inv/(2*i+1)\n",
    "        inv = inv * (-1)\n",
    "    return(x*4)\n",
    "\n",
    "pi3(10000)\n",
    "                                 \n",
    "                                     "
   ]
  },
  {
   "cell_type": "markdown",
   "metadata": {},
   "source": [
    "## 補遺 ##\n",
    "\n",
    "sum などの関数名も，実は変数であり，最初から関数が代入されていただけです。ですので，誤って他の値を代入すると，使えなくなります。"
   ]
  },
  {
   "cell_type": "code",
   "execution_count": null,
   "metadata": {},
   "outputs": [],
   "source": [
    "print(sum)\n",
    "sum = 2 + 3 + 4\n",
    "print(sum)\n",
    "sum(range(10))"
   ]
  },
  {
   "cell_type": "markdown",
   "metadata": {},
   "source": [
    "文字列は、文字からできたリストと同じように扱われるので，文字列に対しても for 文は使えます。\n"
   ]
  },
  {
   "cell_type": "code",
   "execution_count": 51,
   "metadata": {},
   "outputs": [
    {
     "name": "stdout",
     "output_type": "stream",
     "text": [
      "P y t h o n   は い い 言 語 "
     ]
    }
   ],
   "source": [
    "for i in u:\n",
    "    print(i,end=\" \")"
   ]
  },
  {
   "cell_type": "code",
   "execution_count": null,
   "metadata": {},
   "outputs": [],
   "source": []
  }
 ],
 "metadata": {
  "kernelspec": {
   "display_name": "Python 3",
   "language": "python",
   "name": "python3"
  },
  "language_info": {
   "codemirror_mode": {
    "name": "ipython",
    "version": 3
   },
   "file_extension": ".py",
   "mimetype": "text/x-python",
   "name": "python",
   "nbconvert_exporter": "python",
   "pygments_lexer": "ipython3",
   "version": "3.6.4"
  }
 },
 "nbformat": 4,
 "nbformat_minor": 2
}
