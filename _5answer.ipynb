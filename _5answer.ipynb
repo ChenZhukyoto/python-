{
 "cells": [
  {
   "cell_type": "markdown",
   "metadata": {},
   "source": [
    "# map と filter"
   ]
  },
  {
   "cell_type": "code",
   "execution_count": 1,
   "metadata": {},
   "outputs": [
    {
     "name": "stdout",
     "output_type": "stream",
     "text": [
      "[0, 1, 4, 9, 16, 25, 36, 49, 64, 81]\n",
      "[0, 1, 4, 9, 16, 25, 36, 49, 64, 81]\n",
      "[25, 36, 49, 64, 81]\n"
     ]
    }
   ],
   "source": [
    "# 練習問題10\n",
    "def mymap(f, s):\n",
    "    r = []\n",
    "    for i in s:\n",
    "        r.append(f(i))\n",
    "    return r\n",
    "\n",
    "def myfilter(f, s):\n",
    "    r = []\n",
    "    for i in s:\n",
    "        if(f(i)):\n",
    "            r.append(i)\n",
    "    return r\n",
    "\n",
    "u = mymap(lambda x:x*x, range(10))\n",
    "print(u)\n",
    "print(list(map(lambda x:x*x, range(10))))\n",
    "v =myfilter(lambda x: x > 20, u)\n",
    "print(v)"
   ]
  },
  {
   "cell_type": "markdown",
   "metadata": {},
   "source": [
    "# 練習問題"
   ]
  },
  {
   "cell_type": "code",
   "execution_count": 2,
   "metadata": {},
   "outputs": [
    {
     "name": "stdout",
     "output_type": "stream",
     "text": [
      "[1, 1, 1, 1, 1, 1, 1, 1, 1, 1, 1, 1, 1, 1, 1, 1, 1, 1, 1, 1, 1, 1, 1, 1, 1, 2, 2, 2, 2, 3, 3, 3, 3, 3, 3, 3, 3, 3, 3, 3, 3, 3, 3, 3, 3, 3, 3, 3, 3, 3, 3, 3, 3, 3, 3, 3, 3, 3, 3, 3, 3, 4, 4, 5, 5, 5, 5, 5, 5, 5, 5, 5, 5, 5, 5, 5, 5, 5, 5, 6, 7, 7, 7, 7, 7, 7, 7, 7, 7, 7, 8, 9, 9, 11, 11, 11, 11, 11]\n"
     ]
    }
   ],
   "source": [
    "# 練習問題20\n",
    "def divs(x):\n",
    "    return [i for i in range(1,x) if x % i == 0 ]\n",
    "\n",
    "divslist = sorted(map(lambda x:len(divs(x)), range(2,100)))\n",
    "print(list(divslist))"
   ]
  },
  {
   "cell_type": "code",
   "execution_count": 6,
   "metadata": {},
   "outputs": [
    {
     "name": "stdout",
     "output_type": "stream",
     "text": [
      "[1, 1, 1, 1, 1, 1, 1, 1, 1, 1, 1, 1, 1, 1, 1, 1, 1, 1, 1, 1, 1, 1, 1, 1, 1, 2, 2, 2, 2, 3, 3, 3, 3, 3, 3, 3, 3, 3, 3, 3, 3, 3, 3, 3, 3, 3, 3, 3, 3, 3, 3, 3, 3, 3, 3, 3, 3, 3, 3, 3, 3, 4, 4, 5, 5, 5, 5, 5, 5, 5, 5, 5, 5, 5, 5, 5, 5, 5, 5, 6, 7, 7, 7, 7, 7, 7, 7, 7, 7, 7, 8, 9, 9, 11, 11, 11, 11, 11]\n"
     ]
    },
    {
     "data": {
      "text/plain": [
       "[6, 28, 496]"
      ]
     },
     "execution_count": 6,
     "metadata": {},
     "output_type": "execute_result"
    }
   ],
   "source": [
    "# 練習問題30\n",
    "def complete(i):\n",
    "    return (sum(divs(i)) == i)\n",
    "\n",
    "[i for i in range(1,1000) if complete(i)]"
   ]
  },
  {
   "cell_type": "code",
   "execution_count": 7,
   "metadata": {},
   "outputs": [
    {
     "data": {
      "text/plain": [
       "<matplotlib.collections.PathCollection at 0x11cd237b8>"
      ]
     },
     "execution_count": 7,
     "metadata": {},
     "output_type": "execute_result"
    },
    {
     "data": {
      "image/png": "[encoded data removed]",
      "text/plain": [
       "<Figure size 432x288 with 1 Axes>"
      ]
     },
     "metadata": {},
     "output_type": "display_data"
    }
   ],
   "source": [
    "# 練習問題40\n",
    "%matplotlib inline\n",
    "import matplotlib.pyplot as plt\n",
    "\n",
    "def isprime(x):\n",
    "    return (len(divs(x)) == 1)\n",
    "\n",
    "primes = [i for i in range(2,10000) if isprime(i)]\n",
    "\n",
    "plt.scatter(range(len(primes)),primes, s=0.01)\n"
   ]
  },
  {
   "cell_type": "code",
   "execution_count": 9,
   "metadata": {},
   "outputs": [
    {
     "data": {
      "text/plain": [
       "<matplotlib.collections.PathCollection at 0x11ce5b668>"
      ]
     },
     "execution_count": 9,
     "metadata": {},
     "output_type": "execute_result"
    },
    {
     "data": {
      "image/png": "[encoded data removed]",
      "text/plain": [
       "<Figure size 432x288 with 1 Axes>"
      ]
     },
     "metadata": {},
     "output_type": "display_data"
    }
   ],
   "source": [
    "#\n",
    "lessprimes = [len ([i for i in primes if i < k]) for k in range(10000)]\n",
    "plt.scatter(range(len(lessprimes)),lessprimes, s=0.01)\n",
    "\n",
    "# 素直に読めば，上記のようになるが，上のグラフの x, y を入れ替えると，この意味になる。\n",
    "# plt.scatter(primes, range(len(primes)))"
   ]
  },
  {
   "cell_type": "code",
   "execution_count": 10,
   "metadata": {},
   "outputs": [
    {
     "name": "stdout",
     "output_type": "stream",
     "text": [
      "78498\n",
      "[999863, 999883, 999907, 999917, 999931, 999953, 999959, 999961, 999979, 999983]\n"
     ]
    }
   ],
   "source": [
    "# 練習問題50\n",
    "MAX = 1000000\n",
    "x = list(range(MAX))\n",
    "x[1] = 0\n",
    "k = 0\n",
    "while(k < MAX):\n",
    "    if (x[k] != 0):\n",
    "        j = 2* k\n",
    "        while(j < MAX):\n",
    "            x[j] = 0\n",
    "            j = j + k\n",
    "    k += 1\n",
    "primes = [k for k in range(MAX) if x[k] != 0]\n",
    "print(len(primes))\n",
    "print(primes[len(primes)-10:])\n",
    "\n",
    "    \n"
   ]
  },
  {
   "cell_type": "code",
   "execution_count": null,
   "metadata": {},
   "outputs": [],
   "source": []
  }
 ],
 "metadata": {
  "kernelspec": {
   "display_name": "Python 3",
   "language": "python",
   "name": "python3"
  },
  "language_info": {
   "codemirror_mode": {
    "name": "ipython",
    "version": 3
   },
   "file_extension": ".py",
   "mimetype": "text/x-python",
   "name": "python",
   "nbconvert_exporter": "python",
   "pygments_lexer": "ipython3",
   "version": "3.6.4"
  }
 },
 "nbformat": 4,
 "nbformat_minor": 2
}
