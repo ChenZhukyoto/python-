{
 "cells": [
  {
   "cell_type": "code",
   "execution_count": 21,
   "metadata": {},
   "outputs": [
    {
     "name": "stdout",
     "output_type": "stream",
     "text": [
      "5 90 2 3\n",
      "[5, 3, 0, 1, 3]\n"
     ]
    }
   ],
   "source": [
    "# 練習問題1\n",
    "def mymax(u):\n",
    "    m = u[0]\n",
    "    for a in u:\n",
    "        if (a > m):\n",
    "            m = a\n",
    "    return m\n",
    "\n",
    "def prod(u):\n",
    "    p = 1\n",
    "    for a in u:\n",
    "        p = p * a\n",
    "    return p\n",
    "\n",
    "def count(u, a):\n",
    "    num = 0\n",
    "    for b in u:\n",
    "        if(b == a):\n",
    "            num += 1\n",
    "    return num\n",
    "\n",
    "def index(u, a):\n",
    "    for n in range(len(u)):\n",
    "        if(u[n] == a):\n",
    "            return n\n",
    "\n",
    "def ezero(u):\n",
    "    for n in range(len(u)):\n",
    "        if(u[n]%2 == 0):\n",
    "            u[n] = 0\n",
    "\n",
    "print(\n",
    "    mymax ([5,3,2,1,3]),\n",
    "    prod  ([5,3,2,1,3]),\n",
    "    count ([5,3,2,1,3],3),\n",
    "    index ([5,3,2,1,3],1)        \n",
    ")\n",
    "\n",
    "u = [5,3,2,1,3]\n",
    "ezero(u)\n",
    "print(u) \n",
    "    "
   ]
  },
  {
   "cell_type": "code",
   "execution_count": 18,
   "metadata": {},
   "outputs": [
    {
     "name": "stdout",
     "output_type": "stream",
     "text": [
      "[10, 7, 8, 7, 12, 17, 5, 7, 14, 13]\n"
     ]
    }
   ],
   "source": [
    "# 練習問題3\n",
    "import random\n",
    "NUM = 10\n",
    "freq = [0]*NUM\n",
    "for i in range(100):\n",
    "    freq[random.randrange(NUM)] += 1\n",
    "print(freq)    "
   ]
  },
  {
   "cell_type": "code",
   "execution_count": null,
   "metadata": {},
   "outputs": [],
   "source": [
    "# 練習問題5\n",
    "\n",
    "#大きさ 100 のリストu（内容は-1）を作っておき、\n",
    "#k が f^n(0) = a として現れたら、u[k] に n を\n",
    "#記憶していけばよい。"
   ]
  },
  {
   "cell_type": "code",
   "execution_count": null,
   "metadata": {},
   "outputs": [],
   "source": [
    "# 練習問題8\n",
    "\n",
    "#400年でカレンダーがどれだけずれるかと、\n",
    "#400年分の各月の13日の曜日を調べれば、分かるはずである。"
   ]
  },
  {
   "cell_type": "code",
   "execution_count": 19,
   "metadata": {},
   "outputs": [],
   "source": [
    "# 練習問題9\n",
    "#大きさ 1000 のリストで、表を1, 裏を -1 で表現するのがいいだろう。\n",
    "# それだと、ひっくり返すのは -1 を掛けるだけで済む。\n"
   ]
  },
  {
   "cell_type": "code",
   "execution_count": 100,
   "metadata": {},
   "outputs": [
    {
     "name": "stdout",
     "output_type": "stream",
     "text": [
      "\n",
      "double の結果:[1, 4, 9, 16, 25]\n",
      "more3 の結果:[3, 4, 5]\n",
      "intersectionの結果:[2, 4]\n",
      "difference の結果: [6, 8, 10]\n",
      "reverse の結果: [4, 3, 2, 1, 0]\n",
      "reverse1 の結果: [4, 3, 2, 1, 0]\n",
      "\n"
     ]
    },
    {
     "data": {
      "text/plain": [
       "[0, 2, 4]"
      ]
     },
     "execution_count": 100,
     "metadata": {},
     "output_type": "execute_result"
    }
   ],
   "source": [
    "# ** 練習問題10 ** \n",
    "\n",
    "def double(u):\n",
    "    ret = []\n",
    "    for a in u:\n",
    "        ret.append(a*a)\n",
    "    return(ret) \n",
    "\n",
    "def more3(u):\n",
    "    ret = []\n",
    "    for a in u:\n",
    "        if(a >= 3 ):\n",
    "            ret.append(a)\n",
    "    return(ret) \n",
    "\n",
    "def intersection(u,v):\n",
    "    ret = []\n",
    "    for a in u:\n",
    "        if(a in v):\n",
    "            ret.append(a)\n",
    "    return(ret)\n",
    "\n",
    "def difference(u,v):\n",
    "    ret = []\n",
    "    for a in u:\n",
    "        if(not(a in v)):\n",
    "            ret.append(a)\n",
    "    return(ret)\n",
    "\n",
    "def reverse(u):\n",
    "    ret = []\n",
    "    for a in u:\n",
    "        ret.insert(0,a)\n",
    "    return(ret)\n",
    "\n",
    "# 次のような書き方も考えられます。\n",
    "def reverse1(u):\n",
    "    n = len(u)\n",
    "    ret = []\n",
    "    for i in range(n):\n",
    "        ret.append(u[n-1-i])\n",
    "    return(ret) \n",
    "\n",
    "\n",
    "# ''' と ''' で囲んでも文字列が作れます。\n",
    "#''' を用いると文字列に改行を含むことができます。\n",
    "# それと、f による format を組み合わせて書いています。\n",
    "\n",
    "print(f'''\n",
    "double の結果:{double([1,2,3,4,5])}\n",
    "more3 の結果:{more3([1,2,3,4,5])}\n",
    "intersectionの結果:{intersection([2,4,6,8,10],[1,2,3,4,5])}\n",
    "difference の結果: {difference([2,4,6,8,10], [1,2,3,4,5])}\n",
    "reverse の結果: {reverse(range(5))}\n",
    "reverse1 の結果: {reverse1(range(5))}\n",
    "'''\n",
    ")\n"
   ]
  },
  {
   "cell_type": "code",
   "execution_count": 38,
   "metadata": {},
   "outputs": [
    {
     "data": {
      "text/plain": [
       "[0, 2, 4]"
      ]
     },
     "execution_count": 38,
     "metadata": {},
     "output_type": "execute_result"
    }
   ],
   "source": [
    "intersection(range(0,10,2),range(5))"
   ]
  },
  {
   "cell_type": "markdown",
   "metadata": {},
   "source": [
    "# map と filter"
   ]
  },
  {
   "cell_type": "code",
   "execution_count": 57,
   "metadata": {},
   "outputs": [
    {
     "name": "stdout",
     "output_type": "stream",
     "text": [
      "\n",
      "[0, 1, 4, 9, 16]\n",
      "[3, 4]\n",
      "[0, 2, 4]\n",
      "[1, 3]\n",
      "\n"
     ]
    }
   ],
   "source": [
    "# 練習問題20\n",
    "u = range(5)\n",
    "v = range(0,10,2)\n",
    "print(\n",
    "    f'''\n",
    "{list(map(lambda x: x*x, u))}\n",
    "{list(filter(lambda x: x >= 3, u))}\n",
    "{list(filter(lambda x: x in v, u))}\n",
    "{list(filter(lambda x: not(x in v), u))}\n",
    "''')\n"
   ]
  },
  {
   "cell_type": "code",
   "execution_count": 53,
   "metadata": {},
   "outputs": [
    {
     "name": "stdout",
     "output_type": "stream",
     "text": [
      "[0, 1, 4, 9, 16, 25, 36, 49, 64, 81]\n",
      "[25, 36, 49, 64, 81]\n"
     ]
    }
   ],
   "source": [
    "# 練習問題30\n",
    "def mymap(f, s):\n",
    "    r = []\n",
    "    for i in s:\n",
    "        r.append(f(i))\n",
    "    return r\n",
    "\n",
    "def myfilter(f, s):\n",
    "    r = []\n",
    "    for i in s:\n",
    "        if(f(i)):\n",
    "            r.append(i)\n",
    "    return r\n",
    "\n",
    "u = mymap(lambda x:x*x, range(10))\n",
    "print(u)\n",
    "v =myfilter(lambda x: x > 20, u)\n",
    "print(v)"
   ]
  },
  {
   "cell_type": "code",
   "execution_count": 56,
   "metadata": {},
   "outputs": [
    {
     "name": "stdout",
     "output_type": "stream",
     "text": [
      "\n",
      "[0, 1, 4, 9, 16]\n",
      "[3, 4]\n",
      "[0, 2, 4]\n",
      "[1, 3]\n",
      "\n"
     ]
    }
   ],
   "source": [
    "# 練習問題40\n",
    "u = range(5)\n",
    "v = range(0,10,2)\n",
    "print(f\"\"\"\n",
    "{[x*x for x in u]}\n",
    "{[x for x in u if x >= 3]}\n",
    "{[x for x in u if x in v]}\n",
    "{[x for x in u if not(x in v)]}\n",
    "\"\"\")"
   ]
  },
  {
   "cell_type": "markdown",
   "metadata": {},
   "source": [
    "# 練習問題"
   ]
  },
  {
   "cell_type": "code",
   "execution_count": 62,
   "metadata": {},
   "outputs": [
    {
     "data": {
      "text/plain": [
       "[[1, 2],\n",
       " [1, 3],\n",
       " [1, 2, 4],\n",
       " [1, 5],\n",
       " [1, 2, 3, 6],\n",
       " [1, 7],\n",
       " [1, 2, 4, 8],\n",
       " [1, 3, 9],\n",
       " [1, 2, 5, 10],\n",
       " [1, 11],\n",
       " [1, 2, 3, 4, 6, 12],\n",
       " [1, 13],\n",
       " [1, 2, 7, 14],\n",
       " [1, 3, 5, 15],\n",
       " [1, 2, 4, 8, 16],\n",
       " [1, 17],\n",
       " [1, 2, 3, 6, 9, 18],\n",
       " [1, 19],\n",
       " [1, 2, 4, 5, 10, 20],\n",
       " [1, 3, 7, 21],\n",
       " [1, 2, 11, 22],\n",
       " [1, 23],\n",
       " [1, 2, 3, 4, 6, 8, 12, 24],\n",
       " [1, 5, 25],\n",
       " [1, 2, 13, 26],\n",
       " [1, 3, 9, 27],\n",
       " [1, 2, 4, 7, 14, 28],\n",
       " [1, 29],\n",
       " [1, 2, 3, 5, 6, 10, 15, 30],\n",
       " [1, 31],\n",
       " [1, 2, 4, 8, 16, 32],\n",
       " [1, 3, 11, 33],\n",
       " [1, 2, 17, 34],\n",
       " [1, 5, 7, 35],\n",
       " [1, 2, 3, 4, 6, 9, 12, 18, 36],\n",
       " [1, 37],\n",
       " [1, 2, 19, 38],\n",
       " [1, 3, 13, 39],\n",
       " [1, 2, 4, 5, 8, 10, 20, 40],\n",
       " [1, 41],\n",
       " [1, 2, 3, 6, 7, 14, 21, 42],\n",
       " [1, 43],\n",
       " [1, 2, 4, 11, 22, 44],\n",
       " [1, 3, 5, 9, 15, 45],\n",
       " [1, 2, 23, 46],\n",
       " [1, 47],\n",
       " [1, 2, 3, 4, 6, 8, 12, 16, 24, 48],\n",
       " [1, 7, 49],\n",
       " [1, 2, 5, 10, 25, 50],\n",
       " [1, 3, 17, 51],\n",
       " [1, 2, 4, 13, 26, 52],\n",
       " [1, 53],\n",
       " [1, 2, 3, 6, 9, 18, 27, 54],\n",
       " [1, 5, 11, 55],\n",
       " [1, 2, 4, 7, 8, 14, 28, 56],\n",
       " [1, 3, 19, 57],\n",
       " [1, 2, 29, 58],\n",
       " [1, 59],\n",
       " [1, 2, 3, 4, 5, 6, 10, 12, 15, 20, 30, 60],\n",
       " [1, 61],\n",
       " [1, 2, 31, 62],\n",
       " [1, 3, 7, 9, 21, 63],\n",
       " [1, 2, 4, 8, 16, 32, 64],\n",
       " [1, 5, 13, 65],\n",
       " [1, 2, 3, 6, 11, 22, 33, 66],\n",
       " [1, 67],\n",
       " [1, 2, 4, 17, 34, 68],\n",
       " [1, 3, 23, 69],\n",
       " [1, 2, 5, 7, 10, 14, 35, 70],\n",
       " [1, 71],\n",
       " [1, 2, 3, 4, 6, 8, 9, 12, 18, 24, 36, 72],\n",
       " [1, 73],\n",
       " [1, 2, 37, 74],\n",
       " [1, 3, 5, 15, 25, 75],\n",
       " [1, 2, 4, 19, 38, 76],\n",
       " [1, 7, 11, 77],\n",
       " [1, 2, 3, 6, 13, 26, 39, 78],\n",
       " [1, 79],\n",
       " [1, 2, 4, 5, 8, 10, 16, 20, 40, 80],\n",
       " [1, 3, 9, 27, 81],\n",
       " [1, 2, 41, 82],\n",
       " [1, 83],\n",
       " [1, 2, 3, 4, 6, 7, 12, 14, 21, 28, 42, 84],\n",
       " [1, 5, 17, 85],\n",
       " [1, 2, 43, 86],\n",
       " [1, 3, 29, 87],\n",
       " [1, 2, 4, 8, 11, 22, 44, 88],\n",
       " [1, 89],\n",
       " [1, 2, 3, 5, 6, 9, 10, 15, 18, 30, 45, 90],\n",
       " [1, 7, 13, 91],\n",
       " [1, 2, 4, 23, 46, 92],\n",
       " [1, 3, 31, 93],\n",
       " [1, 2, 47, 94],\n",
       " [1, 5, 19, 95],\n",
       " [1, 2, 3, 4, 6, 8, 12, 16, 24, 32, 48, 96],\n",
       " [1, 97],\n",
       " [1, 2, 7, 14, 49, 98],\n",
       " [1, 3, 9, 11, 33, 99]]"
      ]
     },
     "execution_count": 62,
     "metadata": {},
     "output_type": "execute_result"
    }
   ],
   "source": [
    "# 練習問題60\n",
    "\n",
    "# いろんな書き方があります。もし，内胞表記を用いたら，次のようになります。\n",
    "def divs(x):\n",
    "    return [i for i in range(1,x+1) if x % i == 0 ]\n",
    "\n",
    "#list(map(lambda x:(divs(x)), range(2,100)))\n",
    "[divs(x) for x in range(2,100)]"
   ]
  },
  {
   "cell_type": "code",
   "execution_count": 79,
   "metadata": {},
   "outputs": [
    {
     "name": "stdout",
     "output_type": "stream",
     "text": [
      "[2, 2, 3, 2, 4, 2, 4, 3, 4, 2, 6, 2, 4, 4, 5, 2, 6, 2, 6, 4, 4, 2, 8, 3, 4, 4, 6, 2, 8, 2, 6, 4, 4, 4, 9, 2, 4, 4, 8, 2, 8, 2, 6, 6, 4, 2, 10, 3, 6, 4, 6, 2, 8, 4, 8, 4, 4, 2, 12, 2, 4, 6, 7, 4, 8, 2, 6, 4, 8, 2, 12, 2, 4, 6, 6, 4, 8, 2, 10, 5, 4, 2, 12, 4, 4, 4, 8, 2, 12, 4, 6, 4, 4, 4, 12, 2, 6, 6]\n"
     ]
    },
    {
     "data": {
      "text/plain": [
       "[<matplotlib.lines.Line2D at 0x11b9fb5c0>]"
      ]
     },
     "execution_count": 79,
     "metadata": {},
     "output_type": "execute_result"
    },
    {
     "data": {
      "image/png": "[encoded data removed]",
      "text/plain": [
       "<Figure size 432x288 with 1 Axes>"
      ]
     },
     "metadata": {},
     "output_type": "display_data"
    }
   ],
   "source": [
    "# 練習問題65\n",
    "b = [len(divs(x)) for x in range(2,100)]\n",
    "print(b)\n",
    "\n",
    "size = max(b)+1\n",
    "c = [0]*size\n",
    "for i in b:\n",
    "    c[i]+= 1\n",
    "    \n",
    "%matplotlib inline\n",
    "import matplotlib.pyplot as plt\n",
    "plt.plot(c)\n",
    "#plt.scatter(range(size), c)\n",
    "\n",
    "# 考察：\n",
    "# 2 のところが素数の個数に相当している。\n",
    "# 奇数のところは、二乗数だけなので、少ない。\n",
    "# 範囲を無限大にすると、0, 1 以外での値は無限大になるはず。\n",
    "# 範囲がある程度以上大きいところでは、4つ因数をもつ数が一番多そうだが、\n",
    "# それは、証明できることだろうか。"
   ]
  },
  {
   "cell_type": "code",
   "execution_count": 81,
   "metadata": {},
   "outputs": [
    {
     "data": {
      "text/plain": [
       "<matplotlib.collections.PathCollection at 0x11bc00128>"
      ]
     },
     "execution_count": 81,
     "metadata": {},
     "output_type": "execute_result"
    },
    {
     "data": {
      "image/png": "[encoded data removed]",
      "text/plain": [
       "<Figure size 432x288 with 1 Axes>"
      ]
     },
     "metadata": {},
     "output_type": "display_data"
    }
   ],
   "source": [
    "#別解：ライブラリ関数 collections.Counter を使ってしまおう。これは\n",
    "# 次回学ぶ、辞書オブジェクトを返す。\n",
    "import collections\n",
    "m = max(b)\n",
    "u = collections.Counter(b)\n",
    "%matplotlib inline\n",
    "import matplotlib.pyplot as plt\n",
    "plt.scatter(*zip(*u.items()))  \n",
    "# これはちょっと難しい。tuple, zip を習ってから考えてほしい。"
   ]
  },
  {
   "cell_type": "code",
   "execution_count": 84,
   "metadata": {},
   "outputs": [
    {
     "data": {
      "text/plain": [
       "[6, 28, 496]"
      ]
     },
     "execution_count": 84,
     "metadata": {},
     "output_type": "execute_result"
    }
   ],
   "source": [
    "# 練習問題70\n",
    "def complete(i):\n",
    "    return (sum(divs(i)[:-1]) == i) # 最後の要素をぬく\n",
    "\n",
    "[i for i in range(1,1000) if complete(i)]"
   ]
  },
  {
   "cell_type": "code",
   "execution_count": 90,
   "metadata": {},
   "outputs": [],
   "source": [
    "# 練習問題80\n",
    "%matplotlib inline\n",
    "import matplotlib.pyplot as plt\n",
    "\n",
    "def isprime(x):\n",
    "    return (len(divs(x)) == 2)\n",
    "\n",
    "primes = [i for i in range(2,10000) if isprime(i)]"
   ]
  },
  {
   "cell_type": "code",
   "execution_count": 92,
   "metadata": {},
   "outputs": [
    {
     "data": {
      "text/plain": [
       "<matplotlib.collections.PathCollection at 0x11bf6db70>"
      ]
     },
     "execution_count": 92,
     "metadata": {},
     "output_type": "execute_result"
    },
    {
     "data": {
      "image/png": "[encoded data removed]",
      "text/plain": [
       "<Figure size 432x288 with 1 Axes>"
      ]
     },
     "metadata": {},
     "output_type": "display_data"
    }
   ],
   "source": [
    "plt.scatter(range(len(primes)),primes, s=0.01)"
   ]
  },
  {
   "cell_type": "code",
   "execution_count": 94,
   "metadata": {},
   "outputs": [
    {
     "data": {
      "text/plain": [
       "<matplotlib.collections.PathCollection at 0x11c171d30>"
      ]
     },
     "execution_count": 94,
     "metadata": {},
     "output_type": "execute_result"
    },
    {
     "data": {
      "image/png": "[encoded data removed]",
      "text/plain": [
       "<Figure size 432x288 with 1 Axes>"
      ]
     },
     "metadata": {},
     "output_type": "display_data"
    }
   ],
   "source": [
    "#\n",
    "lessprimes = [len ([i for i in primes if i < k]) for k in range(10000)]\n",
    "plt.scatter(range(len(lessprimes)),lessprimes, s=0.01)\n",
    "\n",
    "# 素直に読めば，上記のようになるが，上のグラフの x, y を入れ替えると，\n",
    "# この意味になる。よって、次でもいいはず。\n",
    "plt.scatter(primes, range(len(primes)), s=0.01)"
   ]
  },
  {
   "cell_type": "code",
   "execution_count": 99,
   "metadata": {},
   "outputs": [
    {
     "name": "stdout",
     "output_type": "stream",
     "text": [
      "78498\n",
      "[999863, 999883, 999907, 999917, 999931, 999953, 999959, 999961, 999979, 999983]\n"
     ]
    }
   ],
   "source": [
    "# 練習問題50\n",
    "import math\n",
    "MAX = 1000000\n",
    "x = list(range(MAX))\n",
    "x[1] = 0\n",
    "k = 0\n",
    "while(k < math.sqrt(MAX)):\n",
    "    if (x[k] != 0):\n",
    "        j = 2* k\n",
    "        while(j < MAX):\n",
    "            x[j] = 0\n",
    "            j = j + k\n",
    "    k += 1\n",
    "primes = [k for k in range(MAX) if x[k] != 0]\n",
    "print(len(primes))\n",
    "print(primes[len(primes)-10:])\n",
    "\n",
    "    \n"
   ]
  },
  {
   "cell_type": "code",
   "execution_count": null,
   "metadata": {},
   "outputs": [],
   "source": []
  }
 ],
 "metadata": {
  "kernelspec": {
   "display_name": "Python 3",
   "language": "python",
   "name": "python3"
  },
  "language_info": {
   "codemirror_mode": {
    "name": "ipython",
    "version": 3
   },
   "file_extension": ".py",
   "mimetype": "text/x-python",
   "name": "python",
   "nbconvert_exporter": "python",
   "pygments_lexer": "ipython3",
   "version": "3.6.4"
  }
 },
 "nbformat": 4,
 "nbformat_minor": 2
}
