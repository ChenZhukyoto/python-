{
 "cells": [
  {
   "cell_type": "markdown",
   "metadata": {},
   "source": [
    "# 4 リスト\n",
    "\n",
    "[1, 4, 9] という具合に，[] で囲んで要素の列を書いたものを，リストといいました。python には、複数のデータを扱うためのデータ構造が複数用意されています。特に、数学的な演算を書くには、numpy の ndarray などを主に使うことになるでしょう。\n",
    "numpy では、ライブラリ関数を用いた処理が主となります。ここでは、データを順に処理していく方法などについて、リストを用いて説明します。\n",
    "\n",
    "## リストの基本\n",
    "\n",
    "リストの要素は，[n]というインデックスを指定してアクセスできました。\n",
    "インデックスに -1 を指定すると，最後の要素になります。\n",
    "インデックスは 0 から始まること，b 番目の要素は含まないことを注意してください。\n",
    "\n",
    "また，sum, len といった関数があり，+ でリストを結合できました。さらに、* を用いると、同じリストの繰り返しも作れます。"
   ]
  },
  {
   "cell_type": "code",
   "execution_count": 10,
   "metadata": {},
   "outputs": [
    {
     "name": "stdout",
     "output_type": "stream",
     "text": [
      "91\n",
      "6\n",
      "9\n",
      "36\n",
      "[1, 4, 9, 16, 25, 36, 0, 1, 2]\n",
      "[0, 1, 2, 0, 1, 2, 0, 1, 2]\n"
     ]
    }
   ],
   "source": [
    "sq = [1, 4, 9, 16, 25,36]\n",
    "print(sum(sq))\n",
    "print(len(sq))\n",
    "print(sq[2])\n",
    "print(sq[-1])\n",
    "a = [0,1,2]\n",
    "print(sq + a)\n",
    "print(3*a)\n"
   ]
  },
  {
   "cell_type": "markdown",
   "metadata": {},
   "source": [
    "また，[a:b] という形で範囲(スライス)を指定すると，その部分だけを取り出したリストを作ることができます。\n",
    "a, b は，省略したら，リストの先頭，および最後を指したことになります。よって，これで，リストのコピーも作れます。"
   ]
  },
  {
   "cell_type": "code",
   "execution_count": 9,
   "metadata": {},
   "outputs": [
    {
     "name": "stdout",
     "output_type": "stream",
     "text": [
      "[9, 16]\n",
      "[9, 16, 25, 36]\n",
      "[1, 4, 9, 16]\n",
      "[1, 4, 9, 16, 25, 36]\n"
     ]
    }
   ],
   "source": [
    "sq = [1, 4, 9, 16, 25,36]\n",
    "sq24=sq[2:4]\n",
    "sq2=sq[2:]\n",
    "sq4 = sq[:4]       \n",
    "sqs = sq[:]       \n",
    "print(sq24)\n",
    "print(sq2)\n",
    "print(sq4)\n",
    "print(sqs)"
   ]
  },
  {
   "cell_type": "markdown",
   "metadata": {},
   "source": [
    "リストを要素とするリストを作ることもできます。\n",
    "リストの中身は、同じ型でも、違う型でもかまいません。"
   ]
  },
  {
   "cell_type": "code",
   "execution_count": 10,
   "metadata": {},
   "outputs": [
    {
     "name": "stdout",
     "output_type": "stream",
     "text": [
      "[1, 4, 7, 10]\n",
      "7\n",
      "[[1, 4, 7, 10], [2, 5, 8], [3, -1, 9]]\n"
     ]
    }
   ],
   "source": [
    "u = [[1,4,7,10],[2,5,8],[3,6,9]]\n",
    "print(u[0])  #u の最初の要素は、[1,4,7,10] というリストです。\n",
    "print(u[0][2]) #u の最初の要素の2番目の要素です。\n",
    "u[2][1]= -1\n",
    "print(u)"
   ]
  },
  {
   "cell_type": "markdown",
   "metadata": {},
   "source": [
    "代入文の =の左辺にリストの要素を指定する式を書くことにより，リストの内容を変更できます。\n",
    "\n",
    "また，= の左辺にスライスを書くと，リストの部分をリストに置き換えられます。ただし、これにより，リストの長さが変わり，それ以降のインデックスが変わるので注意が必要です。あまり使わない方がいいでしょう。"
   ]
  },
  {
   "cell_type": "code",
   "execution_count": 3,
   "metadata": {},
   "outputs": [
    {
     "name": "stdout",
     "output_type": "stream",
     "text": [
      "[1, 4, 9, 16, 25, 36]\n",
      "[0, 4, 9, 16, 25, 36]\n",
      "[0, 4, 9, 16, 25, 49]\n",
      "[0, 4, 9, 0, 49]\n"
     ]
    }
   ],
   "source": [
    "sq = [1, 4, 9, 16, 25,36]\n",
    "print(sq)\n",
    "sq[0]=0\n",
    "print(sq)\n",
    "sq[-1]=49\n",
    "print(sq)\n",
    "sq[3:5]=[0]\n",
    "print(sq)"
   ]
  },
  {
   "cell_type": "markdown",
   "metadata": {},
   "source": [
    "要素を削除するには、del 文を用います。"
   ]
  },
  {
   "cell_type": "code",
   "execution_count": 2,
   "metadata": {},
   "outputs": [
    {
     "name": "stdout",
     "output_type": "stream",
     "text": [
      "[1, 4, 16, 25, 36]\n"
     ]
    }
   ],
   "source": [
    "sq = [1, 4, 9, 16, 25,36]\n",
    "del sq[2]\n",
    "print(sq)"
   ]
  },
  {
   "cell_type": "markdown",
   "metadata": {},
   "source": [
    "**練習問題1* ** \n",
    "\n",
    "2. 数のリストをもらい，その最大値を返す関数を書こう。\n",
    "\n",
    "2. 数のリストをもらい、その積を返す関数 prod を書こう。\n",
    "\n",
    "2. リストと要素をもらい，その要素を全て除いこう。\n",
    "\n",
    "5. リスト x と 数 y をもらい， x に y が何回現れるかを返す関数 count を書こう。\n",
    "\n",
    "6. リスト x と 数 y をもらい， x に y が最初に現れたインデックスを返す関数を書こう。\n"
   ]
  },
  {
   "cell_type": "markdown",
   "metadata": {},
   "source": [
    "**練習問題** 大きさ 100 の，0 から 99 までの数の入ったランダムなリスト f を作ろう。f を，0 から 100 までの整数の集合 S 上の関数とみなそう。f(0), f(f(0)), f(f(f(0))), ... と計算していくと，どこかで必ず繰り返しに入るはずである。繰り返しに入るまでの f の呼び出しの回数を求めるプログラムを作ろう。"
   ]
  },
  {
   "cell_type": "markdown",
   "metadata": {},
   "source": [
    "**練習問題** 今年の1 月 1 日は火曜日である。このことを用いて、m 月 n 日が何曜日かを返す wday という関数を作ろう。曜日は、日曜日を 0、..., 土曜日を 6 として表そう。また、wday を用いて、m 月 n 日の曜日を、「火曜日」 といった文字列で表現する関数 wdaystr を作ろう。wdaystr は、if 文を使わずに作ろう。\n",
    "```week = [\"日曜日\", \"月曜日\",...\"土曜日\"]```\n",
    "という配列を作り、week[wday(m,n)] で作ること。"
   ]
  },
  {
   "cell_type": "markdown",
   "metadata": {},
   "source": [
    "**練習問題** 西暦 1 年の1 月1日は土曜日だった。そのことをもちいて、y 年 m 月 n 日に対応するように wday を拡張しよう。(4 の倍数で 100 の倍数ではない) かまたは 400 の倍数が閏年である。"
   ]
  },
  {
   "cell_type": "markdown",
   "metadata": {},
   "source": [
    "**練習問題** 各月の13日が金曜日になることは、他の曜日になることよりも多いのではないかという説がある。400年分の13日の曜日を調べれば、本当かどうかが分かるはずである。実際に調べてみよう。"
   ]
  },
  {
   "cell_type": "markdown",
   "metadata": {},
   "source": [
    "**練習問題** コインが 1000 枚、表を上にして一列に並んでいる。2 の倍数番目のを裏返す。3の倍数番目を裏返す。4の倍数番目を裏返す。... ということを順に行なった時に、表になっているコインは何番目のコインか。プログラムを組むと同時に、その結果に対して数学的な説明も行おう。"
   ]
  },
  {
   "cell_type": "markdown",
   "metadata": {},
   "source": [
    "## メソッドによるリスト操作"
   ]
  },
  {
   "cell_type": "markdown",
   "metadata": {},
   "source": [
    "最後に要素を追加するには，append メソッドを使います。一つ要素の多いリストを作って返すのではなく，今あるリストの最後に要素を追加するというメソッドです。メソッドは関数の一種ですが，リストのような`もの（オブジェクト）` に処理をほどこして，ものの状態を変える関数は，オブジェクトに働きかけてオブジェクトに状態を変えさせると考えた方が分かりやすく，リストライブラリにおけるリスト処理は，そのような記述方法であるメソッドで作られています。これについては，後に解説します。メソッドは，\n",
    "```\n",
    "オブジェクト . メソッド名 (引数の列)\n",
    "```\n",
    "という形で呼び出します。append は，既存のリストに追加するだけで，追加したリストを返さないので注意してください。"
   ]
  },
  {
   "cell_type": "code",
   "execution_count": 1,
   "metadata": {},
   "outputs": [
    {
     "ename": "NameError",
     "evalue": "name 'sq' is not defined",
     "output_type": "error",
     "traceback": [
      "\u001b[0;31m---------------------------------------------------------------------------\u001b[0m",
      "\u001b[0;31mNameError\u001b[0m                                 Traceback (most recent call last)",
      "\u001b[0;32m<ipython-input-1-0aeb3a3afa20>\u001b[0m in \u001b[0;36m<module>\u001b[0;34m()\u001b[0m\n\u001b[0;32m----> 1\u001b[0;31m \u001b[0msq\u001b[0m\u001b[0;34m.\u001b[0m\u001b[0mappend\u001b[0m\u001b[0;34m(\u001b[0m\u001b[0;36m256\u001b[0m\u001b[0;34m)\u001b[0m\u001b[0;34m\u001b[0m\u001b[0m\n\u001b[0m\u001b[1;32m      2\u001b[0m \u001b[0msq\u001b[0m\u001b[0;34m\u001b[0m\u001b[0m\n",
      "\u001b[0;31mNameError\u001b[0m: name 'sq' is not defined"
     ]
    }
   ],
   "source": [
    "sq.append(256)\n",
    "sq"
   ]
  },
  {
   "cell_type": "markdown",
   "metadata": {},
   "source": [
    "extend メソッドで，引数にリストを与えて，それを後ろに追加することができます。また，remove メソッドで，中身の要素を指定して削除することもできます。remove で削除されるのは，最初の要素です。"
   ]
  },
  {
   "cell_type": "code",
   "execution_count": 14,
   "metadata": {},
   "outputs": [
    {
     "name": "stdout",
     "output_type": "stream",
     "text": [
      "[1, 1, 2, 2, 3]\n",
      "[1, 1, 2, 2, 3, 4, 5, 6, 4]\n",
      "[1, 1, 2, 2, 3, 5, 6, 4]\n"
     ]
    }
   ],
   "source": [
    "x = [1,1,2,2,3]\n",
    "y = [4,5,6,4]\n",
    "print(x)\n",
    "x.extend(y)\n",
    "print(x)\n",
    "x.remove(4)\n",
    "print(x)"
   ]
  },
  {
   "cell_type": "markdown",
   "metadata": {},
   "source": [
    "x.extend(y) は ```x = x + y```\n",
    "と同じ様ですが，x そのものが変化していることに注意をしてください。次のプログラムの実行結果を見てください。"
   ]
  },
  {
   "cell_type": "code",
   "execution_count": 3,
   "metadata": {},
   "outputs": [
    {
     "name": "stdout",
     "output_type": "stream",
     "text": [
      "[1, 2, 3, 4, 5, 6]\n",
      "[1, 2, 3]\n",
      "[1, 2, 3, 4, 5, 6]\n"
     ]
    }
   ],
   "source": [
    "x = [1,2,3]\n",
    "y = [4,5,6]\n",
    "z = x + y\n",
    "print(z)\n",
    "print(x)\n",
    "x.extend(y)\n",
    "print(x)"
   ]
  },
  {
   "cell_type": "markdown",
   "metadata": {},
   "source": [
    "リストは，内容の置き換え，削除，挿入などの操作が自由にできます。そのためのメソッドも用意されています。\n",
    "他にどんなメソッドがあるかは，python のドキュメントを参照してください。\n",
    "https://docs.python.org/ja/3/tutorial/datastructures.html#more-on-lists\n",
    "\n",
    "リストを書き換える操作は，コンピュータの処理としては自然ですが，思ってもみない間違いのもとにもなり得ます。注意してください。下で説明する map, filter, 内包表記は，そのような処理をしないですみます。"
   ]
  },
  {
   "cell_type": "markdown",
   "metadata": {},
   "source": [
    "**練習問題1* ** \n",
    "\n",
    "1. リストをもらい，全ての要素を2 乗したリストを返す関数を書こう。\n",
    "\n",
    "4. リストをもらい，100 以上の要素だけからなるリストを返す関数を書こう。\n",
    "\n",
    "1. 2つのリストをもらい，共通する要素だけからなるリストを返す関数を作ろう。\n",
    "\n",
    "1. 2つのリスト s, t をもらい，s に入っており t に入っていない要素だけからなるリストを返す関数を作ろう。\n",
    "\n",
    "3. リストをもらい，逆順にしたリストを作って返す関数を書こう。リストの先頭に要素を追加する方法は，上のドキュメントで調べよう。"
   ]
  },
  {
   "cell_type": "markdown",
   "metadata": {},
   "source": [
    "## オブジェクトの同一性"
   ]
  },
  {
   "cell_type": "markdown",
   "metadata": {},
   "source": [
    "リストは，格納されている値を変更できる「オブジェクト」です。オブジェクトについては，後に説明します。\n",
    "内容が同じであっても，別に作られたものは別のリストです。u = x は，x に代入されているリストに u という別名を与えているだけで，新しいコピーは作りません。a[:] でコピーが作れると話をしましたが、コピーを作る copy メソッドもあります。（このように，メソッドも値を返します。）\n",
    "```\n",
    "u = x.copy()\n",
    "```\n",
    "オブジェクトの同一性に関しては，物として同じものか，内容が同じであるか，2つの概念があります。\n",
    "`x == y` は，x と y がオブジェクトとして同じであるかではなく，内容として同じものであるかどうかを判断しています。それに対し，x と y がオブジェクトとして同じであるかどうかは，`x is y` で判断します。"
   ]
  },
  {
   "cell_type": "code",
   "execution_count": 15,
   "metadata": {},
   "outputs": [
    {
     "name": "stdout",
     "output_type": "stream",
     "text": [
      "x=[1, 2, 3, 4], y=[1, 2, 3, 4], z=[1, 2, 3]\n",
      "True False\n",
      "True False\n"
     ]
    }
   ],
   "source": [
    "x = [1,2,3]\n",
    "y = x\n",
    "z = x.copy()\n",
    "x.append(4)\n",
    "print(\"x={}, y={}, z={}\".format(x, y, z))\n",
    "# x を変えると y も変わるが，z は不変\n",
    "\n",
    "print(x==y, x == z)\n",
    "print(x is y, x is z)"
   ]
  },
  {
   "cell_type": "markdown",
   "metadata": {},
   "source": [
    "大きさ n のリストを作る方法は用意されていないので、\n",
    "必要な時は、[0]*n などを用います。"
   ]
  },
  {
   "cell_type": "code",
   "execution_count": 11,
   "metadata": {},
   "outputs": [
    {
     "data": {
      "text/plain": [
       "[0, 0, 0, 0, 0, 0, 0, 0, 0, 0]"
      ]
     },
     "execution_count": 11,
     "metadata": {},
     "output_type": "execute_result"
    }
   ],
   "source": [
    "[0]*10"
   ]
  },
  {
   "cell_type": "markdown",
   "metadata": {},
   "source": [
    "ただし、これでリストのリストを作ると、リストのコピーのリストではなく、同じリストを内容とするリストが作られます。"
   ]
  },
  {
   "cell_type": "code",
   "execution_count": 12,
   "metadata": {},
   "outputs": [
    {
     "name": "stdout",
     "output_type": "stream",
     "text": [
      "[[0, 0, 0, 0], [0, 0, 0, 0], [0, 0, 0, 0]]\n",
      "[[0, 2, 0, 0], [0, 2, 0, 0], [0, 2, 0, 0]]\n"
     ]
    }
   ],
   "source": [
    "a = [[0]*4]*3\n",
    "print(a)\n",
    "a[0][1]=2\n",
    "print(a)"
   ]
  },
  {
   "cell_type": "markdown",
   "metadata": {},
   "source": [
    "`[0]*4 `は1回しか行わず、それでできたものをもとに、そのコピーを3つ作るからです。\n",
    "下に述べる map や内包表記を使って `[0]*4` 自体を 3 回実行させる必要があります。"
   ]
  },
  {
   "cell_type": "code",
   "execution_count": 15,
   "metadata": {},
   "outputs": [
    {
     "name": "stdout",
     "output_type": "stream",
     "text": [
      "[[0, 0, 0, 0], [0, 0, 0, 0], [0, 0, 0, 0]]\n",
      "[[0, 2, 0, 0], [0, 0, 0, 0], [0, 0, 0, 0]]\n"
     ]
    }
   ],
   "source": [
    "a = [[0]*4 for _ in range(3)]\n",
    "print(a)\n",
    "a[0][1]=2\n",
    "print(a)"
   ]
  },
  {
   "cell_type": "markdown",
   "metadata": {},
   "source": [
    "数学のベクトルや行列を表現して数値計算的な計算を行う場合には、自分でプログラムを組むよりも、numpy の ndarray でライブラリに用意された関数を用いた方が高速です。"
   ]
  },
  {
   "cell_type": "markdown",
   "metadata": {},
   "source": [
    "# map と filter"
   ]
  },
  {
   "cell_type": "markdown",
   "metadata": {},
   "source": [
    "リストと関数をもらい，リストを返す関数に，map と filter があります。\n",
    "map(f, s) は，リスト s の全ての要素に関数 f を適用した結果のリストを返します。\n",
    "filter(f, s) は，bool 値をとる関数 f を引数にとり，リスト s の中で，その関数が真になる値だけのリストを作って返します。\n",
    "\n",
    "正確には，iterable である map オブジェ, filter オブジェ を返します。map, filter で作られた要素は，それが使われる時まで，本当に必要なものかどうか分かりません。例えば，長さ 100 のリストでも，実際には先頭の 3 個しか使われないかもしれません。そのような時に無駄な計算をしなくても済むように，map, filter, それに，range 関数も，実際にリストを作るのではなく，「次の要素」を求められた時にそれを計算して返すようなオブジェクトが返されるだけで，要素へのアクセスがあった時に，計算が行われます。そのようなものを，iterable といいます。\n",
    "iterable を表示する必要があったり，あるいは，先頭から順ではなくインデックスを用いてアクセスする必要がある時には，list 関数でリストに変換します。\n"
   ]
  },
  {
   "cell_type": "markdown",
   "metadata": {},
   "source": [
    "**練習問題 ** 上の練習問題を，map と filter で書いてみよう。\n",
    "\n",
    "1. リストに対し，全ての要素を2 乗したリスト。\n",
    "\n",
    "4. リストに対し，100 以上の要素だけからなるリスト。\n",
    "\n",
    "1. 2つのリストに対し，共通する要素だけからなるリスト。\n",
    "\n",
    "1. 2つのリスト　s,t に対し，s に入っており t に入っていない要素だけからなるリスト。"
   ]
  },
  {
   "cell_type": "markdown",
   "metadata": {},
   "source": [
    "**練習問題10** map と filter の関数 mymap(s, f) と myfilter(f, s) を自分で書いてみよう。"
   ]
  },
  {
   "cell_type": "markdown",
   "metadata": {},
   "source": [
    "## リストの内包表記\n",
    "\n",
    "map と filter による処理は，数学での集合の記法とよく似た記法で書くことができます。\n",
    "これは，リストの内包表記といいます。リストの内包表記は，\n",
    "```\n",
    "[式 for 変数 in リスト]\n",
    "```\n",
    "で，変数をリストの中のそれぞれの値にした時の式の値のリストを作成します。"
   ]
  },
  {
   "cell_type": "code",
   "execution_count": 49,
   "metadata": {},
   "outputs": [
    {
     "data": {
      "text/plain": [
       "[0, 1, 4, 9, 16, 25, 36, 49, 64, 81]"
      ]
     },
     "execution_count": 49,
     "metadata": {},
     "output_type": "execute_result"
    }
   ],
   "source": [
    "[i**2 for i in range(10)]"
   ]
  },
  {
   "cell_type": "markdown",
   "metadata": {},
   "source": [
    "内包表記には，`if 条件` を加えることもできます。\n",
    "```\n",
    "[式 for 変数 in リスト if 条件]\n",
    "```"
   ]
  },
  {
   "cell_type": "code",
   "execution_count": 10,
   "metadata": {},
   "outputs": [
    {
     "data": {
      "text/plain": [
       "[0, 4, 16, 36, 64]"
      ]
     },
     "execution_count": 10,
     "metadata": {},
     "output_type": "execute_result"
    }
   ],
   "source": [
    "[i**2 for i in range(10) if i % 2 == 0]"
   ]
  },
  {
   "cell_type": "markdown",
   "metadata": {},
   "source": [
    "**練習問題1* ** 上の練習問題を，内包表記で書いてみよう。\n",
    "\n",
    "1. リストに対し，全ての要素を2 乗したリスト。\n",
    "\n",
    "4. リストに対し，100 以上の要素だけからなるリスト。\n",
    "\n",
    "1. 2つのリストに対し，共通する要素だけからなるリスト。\n",
    "\n",
    "1. 2つのリスト　s,t に対し，s に入っており t に入っていない要素だけからなるリスト。\n"
   ]
  },
  {
   "cell_type": "markdown",
   "metadata": {},
   "source": [
    "# matplotlib によるリストの可視化"
   ]
  },
  {
   "cell_type": "markdown",
   "metadata": {},
   "source": [
    "グラフ描画ライブラリ matplotlib を用いると、リストの中身を可視化することができます。\n",
    "matplotlib の描画結果を Jupyter notebook の中に取り込んで描画するには、下のプログラムの1行目が必要です。2 行目は、matplotlib の中の pyplot クラス（後述）だけを import すると述べていますが、それ以降、matplotlib.pyplot と書く代わりに plt という名前で呼ぶように別名をつけています。python では、言語規約に従った正しいプログラムを書けるだけではなく、他人が書いたコードが共有できるように、標準的な書き方が存在します。2 行目のように plt という名前をつけるのもそうです。"
   ]
  },
  {
   "cell_type": "code",
   "execution_count": 17,
   "metadata": {},
   "outputs": [
    {
     "data": {
      "image/png": "[encoded data removed]",
      "text/plain": [
       "<matplotlib.figure.Figure at 0x1147215c0>"
      ]
     },
     "metadata": {},
     "output_type": "display_data"
    },
    {
     "data": {
      "image/png": "[encoded data removed]",
      "text/plain": [
       "<matplotlib.figure.Figure at 0x11a3174e0>"
      ]
     },
     "metadata": {},
     "output_type": "display_data"
    },
    {
     "data": {
      "text/plain": [
       "[<matplotlib.lines.Line2D at 0x11d78f9b0>]"
      ]
     },
     "execution_count": 17,
     "metadata": {},
     "output_type": "execute_result"
    },
    {
     "data": {
      "image/png": "[encoded data removed]",
      "text/plain": [
       "<matplotlib.figure.Figure at 0x11d62a5c0>"
      ]
     },
     "metadata": {},
     "output_type": "display_data"
    }
   ],
   "source": [
    "%matplotlib inline\n",
    "import matplotlib.pyplot as plt\n",
    "x = range(5)\n",
    "y = [0,1,4,9,16]\n",
    "plt.scatter(x,y)\n",
    "plt.show()\n",
    "plt.bar(x,y)\n",
    "plt.show()\n",
    "plt.plot(x,y)  #plt.plot(y) だけでも同じ\n",
    "# 最後は show なしでも描画されます。\n",
    "#途中に show がないと、1つのグラフにまとめて描画されます。確認してください。"
   ]
  },
  {
   "cell_type": "markdown",
   "metadata": {},
   "source": [
    "リストを並べ替えるのは、基本的な操作です。\n",
    "リストそのものを並べ替えるのには、sort メソッド、\n",
    "元のリストは変化させずに並べ替えたリストを作るには、sorted メソッドを用います。"
   ]
  },
  {
   "cell_type": "markdown",
   "metadata": {},
   "source": [
    "# 練習問題"
   ]
  },
  {
   "cell_type": "markdown",
   "metadata": {},
   "source": [
    "**練習問題20 ** \n",
    "数をもらい、その約数のリスト（その数は含まない）を返す関数 divs(x) を作ろう。\n",
    "100 以下の数の，約数のリストのリストを作ろう。\n",
    "n 番目に，約数の個数が n になる 100 以下の数の個数が入っているリストを作り，\n",
    "それをグラフにして可視化しよう。"
   ]
  },
  {
   "cell_type": "markdown",
   "metadata": {},
   "source": [
    "**練習問題30** 数が、それより小さい約数の和と等しくなる時、完全数という。\n",
    "例えば、`6 = 1 + 2 + 3` なので、6 は完全数である。\n",
    "与えられた数が完全数であるかどうかを判断するプログラム\n",
    "complete(x) を作ろう。\n",
    "10000 までの完全数を求めよう。"
   ]
  },
  {
   "cell_type": "markdown",
   "metadata": {},
   "source": [
    "**練習問題40** 素数であるかどうか判定するプログラム isprime を作ろう。10000 までの素数のリストを作ろう。\n",
    "素数がいかに増えていくか、横軸にn, 縦軸に n 番目の素数を描画しよう。\n",
    "横軸に n, 縦軸に n までの素数の個数を描画するにはどういうリストを作ればいいか考え，それも描画しよう。"
   ]
  },
  {
   "cell_type": "markdown",
   "metadata": {},
   "source": [
    "**練習問題** 素因数分解を行うプログラム factorize(x) を作ろう。factorize(24)=[3,1] という形で，\n",
    "primes の各要素がいくつ素因数として含まれているかのリストとして表現しよう。内包表記など用いずに，できるだけ素直に書こう。また，リスト[3,1] を 24 に戻すような，defactorize 関数を作ろう。\n",
    "\n",
    "1 から 1000 までの数について，素因数の数を横軸，その数の素因数をもつ数の個数を縦軸に，グラフを書こう。\n"
   ]
  },
  {
   "cell_type": "markdown",
   "metadata": {},
   "source": [
    "**練習問題50 ** 素数の一覧を作るのに，上の方法はあまりに効率が悪い。MAX = 100 とし，MAX までの素数の個数と，MAX 以下で MAX に一番近い素数 10 個を次のようにして求めよう。\n",
    "1. x = list(range(MAX)) として，MAX の大きさのリストを作る。\n",
    "range(MAX) は，正確にはリストではなく，イテレータという，要素を順に求められたら作成するプログラムを返す。イテレータのままでは，x[i] のようなアクセスができないので，list 関数で，明示的にリストに変換する。\n",
    "\n",
    "2. x の最初の２つの要素 (x[0], x[1]) を 0 に変える。\n",
    "3. x の 0 以外の最初の要素を k とする。\n",
    "4. k の倍数番目の x の要素を 0 に変える。\n",
    "5. k 番より後の，0 以外の最初の要素を k として，4 を行う。x の要素がなくなるまで繰り返す。\n",
    "6. x から，0 以外の要素を取り出して，primes というリストを作る。\n",
    "7. len(primes) を表示する。\n",
    "8. primes の最後の 10 個の要素を表示する。\n",
    "\n",
    "MAX の値を大きくして動かそう。どこまで求められるか。\n"
   ]
  },
  {
   "cell_type": "markdown",
   "metadata": {},
   "source": [
    "**練習問題** 「3 よりも大きな偶数は2つの素数の和として表すことができる」という予想は、ゴールドバッハ予想と呼ばれている。これが本当に成り立っているか、ある程度の数まで確認したい。素数の一覧 primes が与えられているとして，どのようにするのが効率的か考えて、プログラムを書いてみよう。それぞれの数 n を素数の和として表す方法（これ自体を長さ2のリストにしよう）のリストを作り、それを n 番目の要素とするリストを作ろう。1通りにしか書けない偶数はいくつ見つかるだろうか。"
   ]
  },
  {
   "cell_type": "code",
   "execution_count": null,
   "metadata": {},
   "outputs": [],
   "source": []
  }
 ],
 "metadata": {
  "kernelspec": {
   "display_name": "Python 3",
   "language": "python",
   "name": "python3"
  },
  "language_info": {
   "codemirror_mode": {
    "name": "ipython",
    "version": 3
   },
   "file_extension": ".py",
   "mimetype": "text/x-python",
   "name": "python",
   "nbconvert_exporter": "python",
   "pygments_lexer": "ipython3",
   "version": "3.6.4"
  }
 },
 "nbformat": 4,
 "nbformat_minor": 2
}
